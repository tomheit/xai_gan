{
 "cells": [
  {
   "cell_type": "code",
   "execution_count": 137,
   "id": "e19cc767-b49e-4553-9f00-9944bd512e0d",
   "metadata": {},
   "outputs": [],
   "source": [
    "import importlib\n",
    "import sys, getopt\n",
    "import os\n",
    "import tensorflow as tf\n",
    "import numpy as np\n",
    "import matplotlib.pyplot as plt\n",
    "import time\n",
    "sys.path.append('../neural_networks/mnist_cnn')\n",
    "sys.path.append('../neural_networks/mnist_wgan')\n",
    "from explainerV2 import Explainer\n",
    "import mnistCnn\n",
    "import wganDiscriminator\n",
    "importlib.reload(wganDiscriminator)\n",
    "from targetFunction import TargetFunction"
   ]
  },
  {
   "cell_type": "code",
   "execution_count": 138,
   "id": "2d5ef293-5eda-477d-9fce-db762be26758",
   "metadata": {},
   "outputs": [],
   "source": [
    "(X_train, y_train), (x_test, y_test) = tf.keras.datasets.mnist.load_data()\n",
    "img_data = X_train.copy()\n",
    "img_data = img_data.reshape(X_train.shape[0], 28, 28, 1)\n",
    "img_data = img_data / 255 #pixel values in [0,1]\n",
    "#print(img_data.shape)\n",
    "test_data = x_test.copy()\n",
    "test_data = test_data.reshape(x_test.shape[0], 28, 28, 1)\n",
    "test_data = test_data / 255\n",
    "#print(test_data.shape)\n",
    "y_test_one_hot = np.eye(10)[y_test]"
   ]
  },
  {
   "cell_type": "code",
   "execution_count": 139,
   "id": "b5c3866f-f8ad-424e-88aa-15a95eb1aca1",
   "metadata": {},
   "outputs": [],
   "source": [
    "cnn = mnistCnn.MnistCnn()\n",
    "cnn.loadWeights('../neural_networks/mnist_cnn/m3_150Epochs')"
   ]
  },
  {
   "cell_type": "code",
   "execution_count": 140,
   "id": "1150ff1f-f5fb-443a-89b1-809a622fa152",
   "metadata": {},
   "outputs": [
    {
     "name": "stdout",
     "output_type": "stream",
     "text": [
      "WARNING:tensorflow:No training configuration found in the save file, so the model was *not* compiled. Compile it manually.\n"
     ]
    }
   ],
   "source": [
    "# load gan\n",
    "discriminator = wganDiscriminator.WganDiscriminator()\n",
    "#genPath = \"./wGan_1000_epochs/wgan_generator.h5\"\n",
    "discPath = \"../neural_networks/mnist_wgan/wGan_1000_epochs/wgan_discriminator.h5\"\n",
    "#invPath = \"./wGan_1000_epochs/wgan_inverter.h5\"\n",
    "discriminator.load_discriminator(discPath)"
   ]
  },
  {
   "cell_type": "code",
   "execution_count": 141,
   "id": "2c025e40-823a-43a0-825f-f9de1f4d440a",
   "metadata": {},
   "outputs": [],
   "source": [
    "explainer = Explainer(cnn.model, discriminator.discriminator)"
   ]
  },
  {
   "cell_type": "code",
   "execution_count": 142,
   "id": "d34a5642-fd9a-46ea-aef3-57b642a76c01",
   "metadata": {
    "tags": []
   },
   "outputs": [
    {
     "data": {
      "text/plain": [
       "<matplotlib.image.AxesImage at 0x7fca32193580>"
      ]
     },
     "execution_count": 142,
     "metadata": {},
     "output_type": "execute_result"
    },
    {
     "data": {
      "image/png": "[encoded data removed]",
      "text/plain": [
       "<Figure size 640x480 with 1 Axes>"
      ]
     },
     "metadata": {},
     "output_type": "display_data"
    }
   ],
   "source": [
    "x_test1 = tf.Variable(tf.cast(np.expand_dims(test_data[0],0), tf.float32))\n",
    "x_test2 = tf.Variable(tf.cast(np.expand_dims(test_data[1],0), tf.float32))\n",
    "x_old = tf.Variable(tf.identity(x_test1))\n",
    "plt.imshow(x_test1[0,:,:,0], cmap = 'gray', interpolation = 'none')"
   ]
  },
  {
   "cell_type": "code",
   "execution_count": 143,
   "id": "b162b74f-90ab-4734-a194-63ee51ad375b",
   "metadata": {
    "tags": []
   },
   "outputs": [
    {
     "name": "stdout",
     "output_type": "stream",
     "text": [
      "[5.6381876e-19 9.4537083e-14 1.7359550e-11 8.3853719e-13 9.2447376e-11\n",
      " 1.4974601e-15 3.1384680e-21 1.0000000e+00 8.3736207e-14 2.2450888e-10]\n"
     ]
    }
   ],
   "source": [
    "original_pred = tf.squeeze(cnn.model(x_test1)).numpy()\n",
    "print(original_pred)"
   ]
  },
  {
   "cell_type": "code",
   "execution_count": 144,
   "id": "8b3c26b6-8915-4d96-9fa3-c6594a8f7a79",
   "metadata": {
    "tags": []
   },
   "outputs": [
    {
     "name": "stdout",
     "output_type": "stream",
     "text": [
      "tf.Tensor([0.6283274], shape=(1,), dtype=float32)\n"
     ]
    }
   ],
   "source": [
    "orig_disc_pred = tf.math.softplus(discriminator.discriminator(x_test1))\n",
    "print(orig_disc_pred)"
   ]
  },
  {
   "cell_type": "code",
   "execution_count": 145,
   "id": "6be4cddd-b3f5-41ea-893c-6cb22662480d",
   "metadata": {
    "tags": []
   },
   "outputs": [
    {
     "name": "stdout",
     "output_type": "stream",
     "text": [
      "79\n"
     ]
    }
   ],
   "source": [
    "steps = explainer.explain(x_test1, 1, distance = 'l1_mad', l_H = 0.085, l_d = 0.000005, l_D = 0.1, l_U = 1.0)\n",
    "print(steps)"
   ]
  },
  {
   "cell_type": "code",
   "execution_count": 146,
   "id": "13f6b249-71be-4bcf-8ee8-603652d0fac2",
   "metadata": {
    "tags": []
   },
   "outputs": [
    {
     "name": "stdout",
     "output_type": "stream",
     "text": [
      "[3.1467815e-04 9.9020338e-01 6.0190290e-05 1.5152140e-04 2.4475872e-05\n",
      " 1.5401005e-05 1.0991441e-06 8.7337680e-03 4.3120692e-04 6.4215004e-05]\n"
     ]
    }
   ],
   "source": [
    "new_pred = tf.squeeze(cnn.model(x_test1)).numpy()\n",
    "print(new_pred)"
   ]
  },
  {
   "cell_type": "code",
   "execution_count": 147,
   "id": "4ee84adc-3b57-452e-9d2c-cac591ed89ca",
   "metadata": {
    "tags": []
   },
   "outputs": [
    {
     "data": {
      "text/plain": [
       "<matplotlib.image.AxesImage at 0x7fca007d3640>"
      ]
     },
     "execution_count": 147,
     "metadata": {},
     "output_type": "execute_result"
    },
    {
     "data": {
      "image/png": "[encoded data removed]",
      "text/plain": [
       "<Figure size 640x480 with 1 Axes>"
      ]
     },
     "metadata": {},
     "output_type": "display_data"
    }
   ],
   "source": [
    "plt.imshow(x_test1[0,:,:,0], cmap = 'gray', interpolation = 'none')"
   ]
  },
  {
   "cell_type": "code",
   "execution_count": 148,
   "id": "adcbe3ce-ab2e-4a6c-be31-cda5d354df23",
   "metadata": {
    "tags": []
   },
   "outputs": [
    {
     "name": "stdout",
     "output_type": "stream",
     "text": [
      "tf.Tensor(11.268816, shape=(), dtype=float32)\n",
      "tf.Tensor(11.268817, shape=(), dtype=float32)\n"
     ]
    }
   ],
   "source": [
    "targetFunction = TargetFunction(cnn.model, discriminator.discriminator, x_test2, 'l2', l_D = 0.0, l_d = 1.0, l_U = 0.0)\n",
    "distanceF = targetFunction.dist(x_old)\n",
    "euclidNorm = tf.math.reduce_euclidean_norm(x_test2 - x_old)\n",
    "print(euclidNorm)\n",
    "print(distanceF)"
   ]
  },
  {
   "cell_type": "code",
   "execution_count": 149,
   "id": "f85dc495-3f45-464c-aecc-2abcd0885388",
   "metadata": {
    "tags": []
   },
   "outputs": [
    {
     "name": "stdout",
     "output_type": "stream",
     "text": [
      "True\n"
     ]
    }
   ],
   "source": [
    "print(0.01 > 0.0)"
   ]
  },
  {
   "cell_type": "code",
   "execution_count": 150,
   "id": "82888abc-2663-40f4-a5b9-299dd933919a",
   "metadata": {
    "tags": []
   },
   "outputs": [
    {
     "data": {
      "text/plain": [
       "1e+16"
      ]
     },
     "execution_count": 150,
     "metadata": {},
     "output_type": "execute_result"
    }
   ],
   "source": [
    "1/1e-16"
   ]
  },
  {
   "cell_type": "code",
   "execution_count": 151,
   "id": "d547f0c4-950c-4912-9184-124e625ea220",
   "metadata": {
    "tags": []
   },
   "outputs": [
    {
     "data": {
      "text/plain": [
       "0.01"
      ]
     },
     "execution_count": 151,
     "metadata": {},
     "output_type": "execute_result"
    }
   ],
   "source": [
    "(1e-18)/(1e-16)"
   ]
  },
  {
   "cell_type": "code",
   "execution_count": 152,
   "id": "56943fd1-2f43-4edc-b998-9f52300ac61d",
   "metadata": {
    "tags": []
   },
   "outputs": [
    {
     "data": {
      "text/plain": [
       "<tf.Tensor: shape=(), dtype=float32, numpy=0.0>"
      ]
     },
     "execution_count": 152,
     "metadata": {},
     "output_type": "execute_result"
    }
   ],
   "source": [
    "tf.math.sqrt(tf.reduce_sum(tf.math.square(x_old - x_old)))"
   ]
  },
  {
   "cell_type": "code",
   "execution_count": 153,
   "id": "833b71e3-e735-4fe2-b36c-5a11e84dc455",
   "metadata": {
    "tags": []
   },
   "outputs": [
    {
     "data": {
      "text/plain": [
       "<tf.Tensor: shape=(), dtype=float32, numpy=nan>"
      ]
     },
     "execution_count": 153,
     "metadata": {},
     "output_type": "execute_result"
    }
   ],
   "source": [
    "tf.math.sqrt(-0.1)"
   ]
  },
  {
   "cell_type": "code",
   "execution_count": null,
   "id": "68a744be-ac97-483c-aa5c-92edf8b214af",
   "metadata": {},
   "outputs": [],
   "source": []
  }
 ],
 "metadata": {
  "kernelspec": {
   "display_name": "Python 3 (ipykernel)",
   "language": "python",
   "name": "python3"
  },
  "language_info": {
   "codemirror_mode": {
    "name": "ipython",
    "version": 3
   },
   "file_extension": ".py",
   "mimetype": "text/x-python",
   "name": "python",
   "nbconvert_exporter": "python",
   "pygments_lexer": "ipython3",
   "version": "3.10.11"
  }
 },
 "nbformat": 4,
 "nbformat_minor": 5
}
