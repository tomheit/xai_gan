{
 "cells": [
  {
   "cell_type": "code",
   "execution_count": 2,
   "id": "4a110838-d281-4495-a414-c8ae00194bea",
   "metadata": {},
   "outputs": [],
   "source": [
    "import sys, getopt\n",
    "import os\n",
    "import tensorflow as tf\n",
    "import numpy as np\n",
    "import matplotlib.pyplot as plt\n",
    "from matplotlib import colors\n",
    "import time\n",
    "sys.path.append('../neural_networks/mnist_cnn')\n",
    "sys.path.append('../neural_networks/mnist_gan')\n",
    "sys.path.append('../neural_networks/mnist_wgan')\n",
    "import mnistCnn\n",
    "import mnistGan\n",
    "import wgan\n",
    "import targetFunction"
   ]
  },
  {
   "cell_type": "code",
   "execution_count": 3,
   "id": "2e07a1ad-58a2-4479-ae09-0ba9bd1bfb67",
   "metadata": {},
   "outputs": [],
   "source": [
    "(X_train, y_train), (x_test, y_test) = tf.keras.datasets.mnist.load_data()\n",
    "img_data = X_train.copy()\n",
    "img_data = img_data.reshape(X_train.shape[0], 28, 28, 1)\n",
    "img_data = img_data / 255 #pixel values in [0,1]\n",
    "#print(img_data.shape)\n",
    "test_data = x_test.copy()\n",
    "test_data = test_data.reshape(x_test.shape[0], 28, 28, 1)\n",
    "test_data = test_data / 255\n",
    "#print(test_data.shape)\n",
    "y_test_one_hot = np.eye(10)[y_test]"
   ]
  },
  {
   "cell_type": "code",
   "execution_count": 4,
   "id": "ae3c5d68-784f-41a0-96a9-ec69367927cd",
   "metadata": {},
   "outputs": [
    {
     "name": "stdout",
     "output_type": "stream",
     "text": [
      "WARNING:tensorflow:No training configuration found in save file, so the model was *not* compiled. Compile it manually.\n",
      "WARNING:tensorflow:No training configuration found in save file, so the model was *not* compiled. Compile it manually.\n"
     ]
    }
   ],
   "source": [
    "cnn = mnistCnn.MnistCnn()\n",
    "cnn.loadWeights('../neural_networks/mnist_cnn/largerCnn30Epochs')\n",
    "genPath = '../neural_networks/mnist_gan/NewMnistGan200Epochs/mnist_gen'\n",
    "discPath = '../neural_networks/mnist_gan/NewMnistGan200Epochs/mnist_disc'\n",
    "gan = mnistGan.MnistGan()\n",
    "gan.loadWeights(genPath, discPath)"
   ]
  },
  {
   "cell_type": "code",
   "execution_count": 5,
   "id": "3b693303-ed1e-4bba-a6c6-9ecebf325f15",
   "metadata": {},
   "outputs": [
    {
     "data": {
      "text/plain": [
       "<matplotlib.image.AxesImage at 0x7f410c1bb0d0>"
      ]
     },
     "execution_count": 5,
     "metadata": {},
     "output_type": "execute_result"
    },
    {
     "data": {
      "image/png": "[encoded data removed]",
      "text/plain": [
       "<Figure size 432x288 with 1 Axes>"
      ]
     },
     "metadata": {
      "needs_background": "light"
     },
     "output_type": "display_data"
    }
   ],
   "source": [
    "err = 1e-16\n",
    "x_median = np.median(test_data, axis=0)\n",
    "x_0 = test_data[0]\n",
    "MAD = np.median(np.abs(test_data - x_median), axis = 0)\n",
    "MAD_tf = tf.constant(tf.cast(np.expand_dims(MAD, 0), tf.float32))\n",
    "mask = tf.equal(MAD_tf, 0.0)\n",
    "MAD_tf_err = tf.where(mask, tf.fill(MAD_tf.shape, err), MAD_tf)\n",
    "plt.imshow(MAD, cmap = 'gray', interpolation = 'none')"
   ]
  },
  {
   "cell_type": "code",
   "execution_count": 6,
   "id": "9a6abf30-6b1e-4df0-ac9b-cb5bf668f934",
   "metadata": {},
   "outputs": [],
   "source": [
    "def explainer(x, targetIndex, maxIter = 600, epsilon = 0.1, err = 1e-16, normConstraint = 'none', objective = 'loss', distance = 'l1', from_random = False):\n",
    "    closeEnough = False\n",
    "    iter = 0\n",
    "    xOld = x\n",
    "    xNew = tf.Variable(tf.identity(x))\n",
    "    if(from_random):\n",
    "        xNew = tf.Variable(tf.cast(np.expand_dims(np.expand_dims(np.random.rand(28,28), -1), 0), tf.float32))\n",
    "    targetFunc = targetFunction.TargetFunction(classifier = cnn.model, targetIndex = targetIndex, objective = objective, distance = distance, discriminator = gan.discriminator, MAD = MAD_tf_err)\n",
    "    while(not closeEnough and iter < maxIter):\n",
    "        with tf.GradientTape() as tape:\n",
    "                res = targetFunc.apply(xNew, xOld)\n",
    "        grad = tape.gradient(res, xNew)\n",
    "        xNew.assign(xNew + grad)\n",
    "        xNew.assign(tf.clip_by_value(xNew, clip_value_min = 0, clip_value_max = 1))\n",
    "        iter += 1\n",
    "        newIndex = tf.argmax(tf.squeeze(cnn.model(xNew))).numpy()\n",
    "        if(targetIndex == newIndex):\n",
    "            closeEnough = True\n",
    "    print(iter)\n",
    "    return xNew"
   ]
  },
  {
   "cell_type": "code",
   "execution_count": 7,
   "id": "0d688d8e-c7c0-4062-b6ab-972f2d8481b1",
   "metadata": {},
   "outputs": [],
   "source": [
    "def explainWithAdam(x, targetIndex, objective = 'loss', distance = 'l1'):\n",
    "    xOld = x\n",
    "    xNew = tf.Variable(tf.identity(x))\n",
    "    targetFunc = targetFunction.TargetFunction(classifier = cnn.model, targetIndex = targetIndex, objective = objective, distance = distance, discriminator = gan.discriminator)\n",
    "    adam = tf.keras.optimizers.Adam()\n",
    "    adam.minimize(targetFunc.apply, xNew)\n",
    "    return xNew"
   ]
  },
  {
   "cell_type": "code",
   "execution_count": 8,
   "id": "f906ed81-e750-43da-a2be-7c2ec4a4db24",
   "metadata": {},
   "outputs": [
    {
     "name": "stdout",
     "output_type": "stream",
     "text": [
      "4\n"
     ]
    },
    {
     "data": {
      "text/plain": [
       "<matplotlib.image.AxesImage at 0x7f410c0a8400>"
      ]
     },
     "execution_count": 8,
     "metadata": {},
     "output_type": "execute_result"
    },
    {
     "data": {
      "image/png": "[encoded data removed]",
      "text/plain": [
       "<Figure size 432x288 with 1 Axes>"
      ]
     },
     "metadata": {
      "needs_background": "light"
     },
     "output_type": "display_data"
    }
   ],
   "source": [
    "x_test1 = tf.Variable(tf.cast(np.expand_dims(test_data[4],0), tf.float32))\n",
    "y_test1 = y_test[4]\n",
    "print(y_test1)\n",
    "plt.imshow(x_test1[0,:,:,0], cmap = 'gray', interpolation = 'none')"
   ]
  },
  {
   "cell_type": "code",
   "execution_count": 9,
   "id": "018ca6e4-0fc2-42bf-b6af-436e55fba1c5",
   "metadata": {},
   "outputs": [
    {
     "name": "stdout",
     "output_type": "stream",
     "text": [
      "4\n",
      "5\n",
      "1000\n",
      "1000\n",
      "1000\n",
      "1000\n",
      "1000\n",
      "1000\n",
      "2\n",
      "9\n"
     ]
    },
    {
     "data": {
      "image/png": "[encoded data removed]",
      "text/plain": [
       "<Figure size 2880x28800 with 11 Axes>"
      ]
     },
     "metadata": {
      "needs_background": "light"
     },
     "output_type": "display_data"
    }
   ],
   "source": [
    "norm = colors.Normalize(vmin = 0, vmax = 1)\n",
    "fig, ax = plt.subplots(1, 11, sharey = False, figsize = (40, 400))\n",
    "print(y_test1)\n",
    "ax[0].imshow(x_test1[0,:,:,0], cmap = 'gray', interpolation = 'none')\n",
    "ax[0].set_title('orig')\n",
    "ax[0].axis('off')\n",
    "for i in range(10):\n",
    "    if(y_test1 == i):\n",
    "        ax[i+1].imshow(x_test1[0,:,:,0], cmap = 'gray', interpolation = 'none')\n",
    "        ax[i+1].set_title('orig')\n",
    "        ax[i+1].axis('off')\n",
    "        continue\n",
    "    explanation = explainer(x = x_test1, targetIndex = i, maxIter = 1000, epsilon = 0.01, from_random = True)\n",
    "    tempImg = ax[i+1].imshow(explanation[0,:,:,0], cmap = 'gray', interpolation = 'none')\n",
    "    pred = tf.argmax(tf.squeeze(cnn.model(explanation))).numpy()\n",
    "    ax[i+1].set_title(str(pred))\n",
    "    tempImg.set_norm(norm)\n",
    "    ax[i+1].axis('off')\n",
    "plt.subplots_adjust(wspace = 0.0, hspace = 0.4)"
   ]
  },
  {
   "cell_type": "code",
   "execution_count": 10,
   "id": "e80a4048-06ed-4872-9077-e8e3d12613ca",
   "metadata": {},
   "outputs": [
    {
     "name": "stdout",
     "output_type": "stream",
     "text": [
      "4\n",
      "185\n",
      "1000\n",
      "1000\n",
      "1000\n",
      "1000\n",
      "1000\n",
      "1000\n",
      "4\n",
      "77\n"
     ]
    },
    {
     "data": {
      "image/png": "[encoded data removed]",
      "text/plain": [
       "<Figure size 2880x28800 with 11 Axes>"
      ]
     },
     "metadata": {
      "needs_background": "light"
     },
     "output_type": "display_data"
    }
   ],
   "source": [
    "norm = colors.Normalize(vmin = 0, vmax = 1)\n",
    "fig, ax = plt.subplots(1, 11, sharey = False, figsize = (40, 400))\n",
    "y_test1 = y_test[4]\n",
    "print(y_test1)\n",
    "ax[0].imshow(x_test1[0,:,:,0], cmap = 'gray', interpolation = 'none')\n",
    "ax[0].set_title('orig')\n",
    "ax[0].axis('off')\n",
    "for i in range(10):\n",
    "    if(y_test1 == i):\n",
    "        ax[i+1].imshow(x_test1[0,:,:,0], cmap = 'gray', interpolation = 'none')\n",
    "        ax[i+1].set_title('orig')\n",
    "        ax[i+1].axis('off')\n",
    "        continue\n",
    "    explanation = explainer(x = x_test1, targetIndex = i, maxIter = 1000, epsilon = 0.01)\n",
    "    tempImg = ax[i+1].imshow(explanation[0,:,:,0], cmap = 'gray', interpolation = 'none')\n",
    "    pred = tf.argmax(tf.squeeze(cnn.model(explanation))).numpy()\n",
    "    ax[i+1].set_title(str(pred))\n",
    "    tempImg.set_norm(norm)\n",
    "    ax[i+1].axis('off')\n",
    "plt.subplots_adjust(wspace = 0.0, hspace = 0.4)"
   ]
  },
  {
   "cell_type": "code",
   "execution_count": 11,
   "id": "c4feba37-7c87-4bf1-bff6-34e943c36788",
   "metadata": {},
   "outputs": [
    {
     "name": "stdout",
     "output_type": "stream",
     "text": [
      "1000\n",
      "1000\n",
      "1000\n",
      "1000\n",
      "1000\n",
      "1000\n",
      "1000\n",
      "3\n",
      "1000\n"
     ]
    },
    {
     "data": {
      "image/png": "[encoded data removed]",
      "text/plain": [
       "<Figure size 2880x28800 with 11 Axes>"
      ]
     },
     "metadata": {
      "needs_background": "light"
     },
     "output_type": "display_data"
    }
   ],
   "source": [
    "norm = colors.Normalize(vmin = 0, vmax = 1)\n",
    "fig, ax = plt.subplots(1, 11, sharey = False, figsize = (40, 400))\n",
    "ax[0].imshow(x_test1[0,:,:,0], cmap = 'gray', interpolation = 'none')\n",
    "ax[0].set_title('orig')\n",
    "ax[0].axis('off')\n",
    "for i in range(10):\n",
    "    if(y_test1 == i):\n",
    "        ax[i+1].imshow(x_test1[0,:,:,0], cmap = 'gray', interpolation = 'none')\n",
    "        ax[i+1].set_title('orig')\n",
    "        ax[i+1].axis('off')\n",
    "        continue\n",
    "    explanation = explainer(x = x_test1, targetIndex = i, maxIter = 1000, epsilon = 0.01, distance = 'l1MAD')\n",
    "    tempImg = ax[i+1].imshow(explanation[0,:,:,0], cmap = 'gray', interpolation = 'none')\n",
    "    pred = tf.argmax(tf.squeeze(cnn.model(explanation))).numpy()\n",
    "    ax[i+1].set_title(str(pred))\n",
    "    tempImg.set_norm(norm)\n",
    "    ax[i+1].axis('off')\n",
    "plt.subplots_adjust(wspace = 0.0, hspace = 0.4)"
   ]
  },
  {
   "cell_type": "code",
   "execution_count": null,
   "id": "0e09c4b6-c3d1-4d03-8a10-e443d16b27dc",
   "metadata": {},
   "outputs": [],
   "source": []
  }
 ],
 "metadata": {
  "kernelspec": {
   "display_name": "Python 3 (ipykernel)",
   "language": "python",
   "name": "python3"
  },
  "language_info": {
   "codemirror_mode": {
    "name": "ipython",
    "version": 3
   },
   "file_extension": ".py",
   "mimetype": "text/x-python",
   "name": "python",
   "nbconvert_exporter": "python",
   "pygments_lexer": "ipython3",
   "version": "3.10.11"
  }
 },
 "nbformat": 4,
 "nbformat_minor": 5
}
