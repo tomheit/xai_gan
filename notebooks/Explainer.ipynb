{
 "cells": [
  {
   "cell_type": "code",
   "execution_count": 17,
   "id": "4d24a203-48c1-427b-98e1-c15ad67902d3",
   "metadata": {},
   "outputs": [],
   "source": [
    "import tensorflow as tf\n",
    "import numpy as np\n",
    "import matplotlib.pyplot as plt\n",
    "\n",
    "from mnistDatasetLoader import MnistDatasetLoader\n",
    "from mnistGan import MnistGan\n",
    "from mnistCnn import MnistCnn"
   ]
  },
  {
   "cell_type": "code",
   "execution_count": 2,
   "id": "370934a3-a005-4f05-907c-dbf4b6119b3c",
   "metadata": {},
   "outputs": [
    {
     "name": "stdout",
     "output_type": "stream",
     "text": [
      "WARNING:tensorflow:No training configuration found in save file, so the model was *not* compiled. Compile it manually.\n",
      "WARNING:tensorflow:No training configuration found in save file, so the model was *not* compiled. Compile it manually.\n"
     ]
    }
   ],
   "source": [
    "dataset = MnistDatasetLoader().loadDataset(batchSize = 256)\n",
    "gan = MnistGan()\n",
    "gan.loadWeights(\"MnistGanTEST/mnist_gen\", \"MnistGanTEST/mnist_disc\")\n",
    "cnn = MnistCnn()\n",
    "cnn.loadWeights(\"MnistCnnTEST\")"
   ]
  },
  {
   "cell_type": "code",
   "execution_count": 9,
   "id": "a51a5b1f-6a79-4a89-b763-c1c82ec916bf",
   "metadata": {},
   "outputs": [],
   "source": [
    "@tf.function\n",
    "def g(x, index, classifier, discriminator):\n",
    "    res = discriminator(x) - tf.math.log(tf.squeeze(classifier(x))[index])\n",
    "    return res\n",
    "\n",
    "def explainer(x, classifier, discriminator, maxIter, maxChange, minAlpha):\n",
    "    epsilon = 1e-16\n",
    "    closeEnough = False\n",
    "    iter = 0\n",
    "    index = tf.argmax(tf.squeeze(classifier(x))).numpy()\n",
    "    \n",
    "    while(not closeEnough and iter < maxIter):\n",
    "        with tf.GradientTape() as tape:\n",
    "            gRes = g(x, index, classifier, discriminator)\n",
    "        grad = tape.gradient(gRes, x)\n",
    "        maxGrad = tf.abs(tf.reduce_max(grad))\n",
    "        alpha = tf.minimum(minAlpha, maxChange/tf.maximum(maxGrad, epsilon))\n",
    "        x.assign(x + alpha * grad)\n",
    "        x.assign(tf.clip_by_value(x, clip_value_min = 0, clip_value_max = 1))\n",
    "        iter += 1\n",
    "        newIndex = tf.argmax(tf.squeeze(classifier(x))).numpy()\n",
    "        if ((newIndex != index) and (discriminator(x).numpy() > 0)): # done when the prediction has changed\n",
    "            closeEnough = True\n",
    "    print(\"done after \", iter, \" steps\")"
   ]
  },
  {
   "cell_type": "code",
   "execution_count": 26,
   "id": "26b61693-7f37-4970-89f4-5ffe36668bf7",
   "metadata": {},
   "outputs": [
    {
     "name": "stdout",
     "output_type": "stream",
     "text": [
      "(1, 28, 28, 1)\n",
      "[1.73384224e-11 1.49250390e-14 3.64776742e-09 1.08060408e-06\n",
      " 2.97395076e-04 4.57813609e-09 1.30330546e-14 1.19808165e-05\n",
      " 3.24986217e-06 9.99686360e-01]\n",
      "[[2.8346186]]\n",
      "done after  410  steps\n"
     ]
    },
    {
     "data": {
      "text/plain": [
       "<matplotlib.image.AxesImage at 0x7f8325879d00>"
      ]
     },
     "execution_count": 26,
     "metadata": {},
     "output_type": "execute_result"
    },
    {
     "data": {
      "image/png": "[encoded data removed]",
      "text/plain": [
       "<Figure size 576x288 with 2 Axes>"
      ]
     },
     "metadata": {
      "needs_background": "light"
     },
     "output_type": "display_data"
    }
   ],
   "source": [
    "realImg = np.expand_dims(dataset.as_numpy_iterator().next()[0][0], 0)\n",
    "x_ = tf.cast(realImg, tf.float32)\n",
    "x = tf.Variable(x_)\n",
    "print(x.shape)\n",
    "origY = cnn.predict(x).numpy().squeeze()\n",
    "origP = gan.discriminator(x).numpy()\n",
    "print(origY)\n",
    "print(origP)\n",
    "\n",
    "explainer(x, cnn.model, gan.discriminator, maxIter = 600, maxChange = 0.099, minAlpha = 1000000)\n",
    "\n",
    "_, ax = plt.subplots(1, 2, figsize = (8,4))\n",
    "ax[0].imshow(x[0], cmap = 'gray')\n",
    "ax[1].imshow(realImg[0], cmap = 'gray')"
   ]
  },
  {
   "cell_type": "code",
   "execution_count": 27,
   "id": "f32ac0f1-7e9d-4a18-9c48-96213f54a68b",
   "metadata": {},
   "outputs": [
    {
     "name": "stdout",
     "output_type": "stream",
     "text": [
      "[4.3977598e-14 1.3561437e-13 3.4643563e-05 5.1465909e-06 5.4682118e-01\n",
      " 1.7264831e-10 3.6398159e-12 3.6979537e-04 2.1171947e-04 4.5255747e-01]\n"
     ]
    }
   ],
   "source": [
    "print(cnn.predict(x).numpy().squeeze())"
   ]
  },
  {
   "cell_type": "code",
   "execution_count": null,
   "id": "abc0e3fb-f255-4ad8-9c3b-567c09d6539b",
   "metadata": {},
   "outputs": [],
   "source": []
  }
 ],
 "metadata": {
  "kernelspec": {
   "display_name": "Python 3",
   "language": "python",
   "name": "python3"
  },
  "language_info": {
   "codemirror_mode": {
    "name": "ipython",
    "version": 3
   },
   "file_extension": ".py",
   "mimetype": "text/x-python",
   "name": "python",
   "nbconvert_exporter": "python",
   "pygments_lexer": "ipython3",
   "version": "3.9.2"
  }
 },
 "nbformat": 4,
 "nbformat_minor": 5
}
