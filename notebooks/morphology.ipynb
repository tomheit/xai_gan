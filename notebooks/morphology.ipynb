{
 "cells": [
  {
   "cell_type": "code",
   "execution_count": 2,
   "id": "d367f0c9-076b-4c81-8ff4-628ee5afc63c",
   "metadata": {},
   "outputs": [],
   "source": [
    "#from mnist_gan.mnistGan import MnistGan\n",
    "from mnist_cnn.mnistCnn import MnistCnn\n",
    "#from mnist_cnn.mnistDatasetLoader import MnistDatasetLoader\n",
    "import os\n",
    "import tensorflow as tf\n",
    "import matplotlib.pyplot as plt\n",
    "import numpy as np\n",
    "from tensorflow.nn import dilation2d\n",
    "from tensorflow.nn import erosion2d"
   ]
  },
  {
   "cell_type": "code",
   "execution_count": 3,
   "id": "b758b4ca-d39e-4aa4-9dc0-341b69ae563d",
   "metadata": {},
   "outputs": [],
   "source": [
    "def opening(img, structuring_element):\n",
    "    erosion = erosion2d(img, filters = structuring_element, strides = (1,1,1,1), padding = 'SAME', data_format = 'NHWC', dilations = (1,1,1,1))\n",
    "    output = dilation2d(erosion, filters = structuring_element, strides = (1,1,1,1), padding = 'SAME', data_format = 'NHWC', dilations = (1,1,1,1))\n",
    "    return output\n",
    "\n",
    "def closing(img, structuring_element):\n",
    "    dilation = dilation2d(img, filters = structuring_element, strides = (1,1,1,1), padding = 'SAME', data_format = 'NHWC', dilations = (1,1,1,1))\n",
    "    output = erosion2d(dilation, filters = structuring_element, strides = (1,1,1,1), padding = 'SAME', data_format = 'NHWC', dilations = (1,1,1,1))\n",
    "    return output\n",
    "\n",
    "#open-close-close-open\n",
    "def occo(img, structuring_element):\n",
    "    op = opening(img, structuring_element)\n",
    "    open_close = closing(op, structuring_element)\n",
    "    cl = closing(img, structuring_element)\n",
    "    close_open = opening(cl, structuring_element)\n",
    "    return (open_close + close_open)/2"
   ]
  },
  {
   "cell_type": "code",
   "execution_count": 14,
   "id": "6ec10236-4ca5-43de-961b-37290314e7e4",
   "metadata": {},
   "outputs": [],
   "source": [
    "cnn = MnistCnn(largerModel = True)\n",
    "cnn.loadWeights('mnist_cnn/largerCnn30Epochs')"
   ]
  },
  {
   "cell_type": "code",
   "execution_count": 17,
   "id": "f1af540a-e7b5-45e2-9016-2029b148f4b1",
   "metadata": {},
   "outputs": [
    {
     "name": "stdout",
     "output_type": "stream",
     "text": [
      "(60000, 28, 28, 1)\n",
      "(10000, 28, 28, 1)\n"
     ]
    }
   ],
   "source": [
    "(X_train, y_train), (x_test, y_test) = tf.keras.datasets.mnist.load_data()\n",
    "img_data = X_train.copy()\n",
    "img_data = img_data.reshape(X_train.shape[0], 28, 28, 1)\n",
    "img_data = img_data / 255\n",
    "print(img_data.shape)\n",
    "\n",
    "x_test = np.expand_dims(x_test, -1)\n",
    "y_test_one_hot = np.eye(10, dtype = float)[y_test]\n",
    "x_test = x_test/255\n",
    "print(x_test.shape)"
   ]
  },
  {
   "cell_type": "code",
   "execution_count": 16,
   "id": "7dacf5a5-64d7-4b3b-b84f-1cf705f629f7",
   "metadata": {},
   "outputs": [
    {
     "name": "stdout",
     "output_type": "stream",
     "text": [
      "79/79 [==============================] - 0s 2ms/step - loss: 0.0207 - accuracy: 0.9950\n",
      "test loss, test acc:  [0.020660925656557083, 0.9950000047683716]\n"
     ]
    }
   ],
   "source": [
    "#evaluate cnn\n",
    "results = cnn.model.evaluate(x_test, y_test_one_hot, batch_size = 128)\n",
    "print(\"test loss, test acc: \", results)"
   ]
  },
  {
   "cell_type": "code",
   "execution_count": 26,
   "id": "77cf4066-2037-4f7a-9dcc-31415040f0be",
   "metadata": {},
   "outputs": [],
   "source": [
    "@tf.function\n",
    "def g(x, index, classifier):\n",
    "    res = -tf.math.log(tf.squeeze(classifier(x))[index])\n",
    "    return res\n",
    "\n",
    "def explain(x, structuring_element, classifier, maxIter, maxChange, minAlpha):\n",
    "    epsilon = 1e-16\n",
    "    closeEnough = False\n",
    "    iter = 0\n",
    "    index = tf.argmax(tf.squeeze(classifier(x))).numpy()\n",
    "    \n",
    "    while(not closeEnough and iter < maxIter):\n",
    "        with tf.GradientTape() as tape:\n",
    "            gRes = g(x, index, classifier)\n",
    "        grad = tape.gradient(gRes, x)\n",
    "        grad = occo(grad, structuring_element)\n",
    "        maxGrad = tf.abs(tf.reduce_max(grad))\n",
    "        alpha = tf.minimum(minAlpha, maxChange/tf.maximum(maxGrad, epsilon))\n",
    "        x.assign(x + alpha * grad)\n",
    "        x.assign(tf.clip_by_value(x, clip_value_min = 0, clip_value_max = 1))\n",
    "        #x.assign(occo(x, structuring_element))\n",
    "        iter += 1\n",
    "        newIndex = tf.argmax(tf.squeeze(classifier(x))).numpy()\n",
    "        if (newIndex != index): # done when the prediction has changed\n",
    "            closeEnough = True\n",
    "    print(\"done after \", iter, \" steps\")"
   ]
  },
  {
   "cell_type": "code",
   "execution_count": 31,
   "id": "92f63259-46ca-4a07-83a5-514fd8aae186",
   "metadata": {},
   "outputs": [
    {
     "name": "stdout",
     "output_type": "stream",
     "text": [
      "[4.9869258e-12 9.2838098e-12 4.2215030e-13 1.0857502e-10 1.0071720e-06\n",
      " 8.1445746e-11 2.4030894e-12 2.5519112e-08 3.5601346e-09 9.9999893e-01]\n",
      "done after  90  steps\n",
      "origY:  tf.Tensor(9, shape=(), dtype=int64)\n",
      "newY:  tf.Tensor(8, shape=(), dtype=int64)\n"
     ]
    },
    {
     "data": {
      "text/plain": [
       "Text(0.5, 1.0, 'old')"
      ]
     },
     "execution_count": 31,
     "metadata": {},
     "output_type": "execute_result"
    },
    {
     "data": {
      "image/png": "[encoded data removed]",
      "text/plain": [
       "<Figure size 576x288 with 2 Axes>"
      ]
     },
     "metadata": {
      "needs_background": "light"
     },
     "output_type": "display_data"
    }
   ],
   "source": [
    "image = img_data[4]\n",
    "x_ = tf.cast(np.expand_dims(image, 0), tf.float32)\n",
    "x = tf.Variable(x_)\n",
    "print(cnn.predict(x).numpy().squeeze())\n",
    "origY = tf.argmax(cnn.predict(x).numpy().squeeze())\n",
    "se = tf.ones((2,2,1))\n",
    "\n",
    "explain(x, se, cnn.model, 600, maxChange = 0.099, minAlpha = 1000)\n",
    "\n",
    "newY = tf.argmax(cnn.predict(x).numpy().squeeze())\n",
    "print(\"origY: \", origY)\n",
    "print(\"newY: \", newY)\n",
    "\n",
    "_, ax = plt.subplots(1, 2, figsize = (8,4))\n",
    "ax[0].imshow(x[0], cmap = 'gray')\n",
    "ax[0].set_title('new')\n",
    "ax[1].imshow(image, cmap = 'gray')\n",
    "ax[1].set_title('old')"
   ]
  },
  {
   "cell_type": "code",
   "execution_count": null,
   "id": "4959d0db-6c3e-41d1-9404-2fdf2862c4fc",
   "metadata": {},
   "outputs": [],
   "source": []
  }
 ],
 "metadata": {
  "kernelspec": {
   "display_name": "Python 3",
   "language": "python",
   "name": "python3"
  },
  "language_info": {
   "codemirror_mode": {
    "name": "ipython",
    "version": 3
   },
   "file_extension": ".py",
   "mimetype": "text/x-python",
   "name": "python",
   "nbconvert_exporter": "python",
   "pygments_lexer": "ipython3",
   "version": "3.9.2"
  }
 },
 "nbformat": 4,
 "nbformat_minor": 5
}
