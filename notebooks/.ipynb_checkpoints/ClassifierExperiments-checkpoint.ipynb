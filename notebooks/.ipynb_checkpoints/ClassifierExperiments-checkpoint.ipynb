{
 "cells": [
  {
   "cell_type": "code",
   "execution_count": 1,
   "id": "b7f01078-797b-4983-8d71-305bc7200b5b",
   "metadata": {},
   "outputs": [
    {
     "name": "stderr",
     "output_type": "stream",
     "text": [
      "2024-03-20 02:15:54.191537: I tensorflow/core/platform/cpu_feature_guard.cc:193] This TensorFlow binary is optimized with oneAPI Deep Neural Network Library (oneDNN) to use the following CPU instructions in performance-critical operations:  AVX2 AVX512F AVX512_VNNI AVX512_BF16 FMA\n",
      "To enable them in other operations, rebuild TensorFlow with the appropriate compiler flags.\n",
      "2024-03-20 02:15:54.261732: I tensorflow/core/util/port.cc:104] oneDNN custom operations are on. You may see slightly different numerical results due to floating-point round-off errors from different computation orders. To turn them off, set the environment variable `TF_ENABLE_ONEDNN_OPTS=0`.\n",
      "2024-03-20 02:15:54.594658: W tensorflow/compiler/xla/stream_executor/platform/default/dso_loader.cc:64] Could not load dynamic library 'libnvinfer.so.7'; dlerror: libnvinfer.so.7: cannot open shared object file: No such file or directory; LD_LIBRARY_PATH: :/opt/conda/envs/cuda-11.2/lib\n",
      "2024-03-20 02:15:54.594700: W tensorflow/compiler/xla/stream_executor/platform/default/dso_loader.cc:64] Could not load dynamic library 'libnvinfer_plugin.so.7'; dlerror: libnvinfer_plugin.so.7: cannot open shared object file: No such file or directory; LD_LIBRARY_PATH: :/opt/conda/envs/cuda-11.2/lib\n",
      "2024-03-20 02:15:54.594704: W tensorflow/compiler/tf2tensorrt/utils/py_utils.cc:38] TF-TRT Warning: Cannot dlopen some TensorRT libraries. If you would like to use Nvidia GPU with TensorRT, please make sure the missing libraries mentioned above are installed properly.\n"
     ]
    }
   ],
   "source": [
    "%%capture\n",
    "import sys, getopt\n",
    "import os\n",
    "#!{sys.executable} -m pip install tensorflow\n",
    "import tensorflow as tf\n",
    "from tensorflow.keras.layers import Dense, Flatten, Conv2D, MaxPooling2D, Dropout, BatchNormalization, Conv2DTranspose, LeakyReLU, ReLU, Reshape, Softmax\n",
    "import numpy as np\n",
    "import matplotlib.pyplot as plt\n",
    "from matplotlib import colors\n",
    "import time\n",
    "sys.path.append('../neural_networks/mnist_cnn')\n",
    "sys.path.append('../neural_networks/mnist_gan')\n",
    "sys.path.append('../neural_networks/mnist_wgan')\n",
    "import mnistCnn\n",
    "import mnistGan\n",
    "import wgan"
   ]
  },
  {
   "cell_type": "code",
   "execution_count": 2,
   "id": "0ebfc40e-ef57-4650-8fb8-6c2557c5cafe",
   "metadata": {},
   "outputs": [],
   "source": [
    "(X_train, y_train), (x_test, y_test) = tf.keras.datasets.mnist.load_data()\n",
    "img_data = X_train.copy()\n",
    "img_data = img_data.reshape(X_train.shape[0], 28, 28, 1)\n",
    "img_data = img_data / 255 #pixel values in [0,1]\n",
    "#print(img_data.shape)\n",
    "test_data = x_test.copy()\n",
    "test_data = test_data.reshape(x_test.shape[0], 28, 28, 1)\n",
    "test_data = test_data / 255\n",
    "#print(test_data.shape)\n",
    "y_test_one_hot = np.eye(10)[y_test]"
   ]
  },
  {
   "cell_type": "code",
   "execution_count": 8,
   "id": "fe241860-ffd7-4209-8761-47fb334fabf6",
   "metadata": {
    "tags": []
   },
   "outputs": [
    {
     "name": "stdout",
     "output_type": "stream",
     "text": [
      "[ 899 8535 3473 5249 6500]\n"
     ]
    }
   ],
   "source": [
    "np.random.seed(24)\n",
    "indices = np.random.randint(0, x_test.shape[0]-1, 5)\n",
    "print(indices)"
   ]
  },
  {
   "cell_type": "code",
   "execution_count": 3,
   "id": "2981c2d9-1d94-4394-9356-904f83ea27a5",
   "metadata": {},
   "outputs": [
    {
     "name": "stderr",
     "output_type": "stream",
     "text": [
      "2024-03-19 13:22:30.778751: I tensorflow/compiler/xla/stream_executor/cuda/cuda_gpu_executor.cc:981] successful NUMA node read from SysFS had negative value (-1), but there must be at least one NUMA node, so returning NUMA node zero\n",
      "2024-03-19 13:22:30.800688: I tensorflow/compiler/xla/stream_executor/cuda/cuda_gpu_executor.cc:981] successful NUMA node read from SysFS had negative value (-1), but there must be at least one NUMA node, so returning NUMA node zero\n",
      "2024-03-19 13:22:30.800796: I tensorflow/compiler/xla/stream_executor/cuda/cuda_gpu_executor.cc:981] successful NUMA node read from SysFS had negative value (-1), but there must be at least one NUMA node, so returning NUMA node zero\n",
      "2024-03-19 13:22:30.801618: I tensorflow/core/platform/cpu_feature_guard.cc:193] This TensorFlow binary is optimized with oneAPI Deep Neural Network Library (oneDNN) to use the following CPU instructions in performance-critical operations:  AVX2 AVX512F AVX512_VNNI AVX512_BF16 FMA\n",
      "To enable them in other operations, rebuild TensorFlow with the appropriate compiler flags.\n",
      "2024-03-19 13:22:30.802735: I tensorflow/compiler/xla/stream_executor/cuda/cuda_gpu_executor.cc:981] successful NUMA node read from SysFS had negative value (-1), but there must be at least one NUMA node, so returning NUMA node zero\n",
      "2024-03-19 13:22:30.802840: I tensorflow/compiler/xla/stream_executor/cuda/cuda_gpu_executor.cc:981] successful NUMA node read from SysFS had negative value (-1), but there must be at least one NUMA node, so returning NUMA node zero\n",
      "2024-03-19 13:22:30.802922: I tensorflow/compiler/xla/stream_executor/cuda/cuda_gpu_executor.cc:981] successful NUMA node read from SysFS had negative value (-1), but there must be at least one NUMA node, so returning NUMA node zero\n",
      "2024-03-19 13:22:31.301375: I tensorflow/compiler/xla/stream_executor/cuda/cuda_gpu_executor.cc:981] successful NUMA node read from SysFS had negative value (-1), but there must be at least one NUMA node, so returning NUMA node zero\n",
      "2024-03-19 13:22:31.301787: I tensorflow/compiler/xla/stream_executor/cuda/cuda_gpu_executor.cc:981] successful NUMA node read from SysFS had negative value (-1), but there must be at least one NUMA node, so returning NUMA node zero\n",
      "2024-03-19 13:22:31.301886: I tensorflow/compiler/xla/stream_executor/cuda/cuda_gpu_executor.cc:981] successful NUMA node read from SysFS had negative value (-1), but there must be at least one NUMA node, so returning NUMA node zero\n",
      "2024-03-19 13:22:31.301975: I tensorflow/core/common_runtime/gpu/gpu_device.cc:1613] Created device /job:localhost/replica:0/task:0/device:GPU:0 with 22104 MB memory:  -> device: 0, name: NVIDIA GeForce RTX 4090, pci bus id: 0000:01:00.0, compute capability: 8.9\n"
     ]
    }
   ],
   "source": [
    "cnn = mnistCnn.MnistCnn()\n",
    "cnn.loadWeights('../neural_networks/mnist_cnn/largerCnn30Epochs')"
   ]
  },
  {
   "cell_type": "code",
   "execution_count": 4,
   "id": "ea239f07-89ed-4650-a5b8-6ba8ebda3152",
   "metadata": {},
   "outputs": [
    {
     "name": "stdout",
     "output_type": "stream",
     "text": [
      "4\n"
     ]
    },
    {
     "data": {
      "text/plain": [
       "<matplotlib.image.AxesImage at 0x7f89502517e0>"
      ]
     },
     "execution_count": 4,
     "metadata": {},
     "output_type": "execute_result"
    },
    {
     "data": {
      "image/png": "[encoded data removed]",
      "text/plain": [
       "<Figure size 640x480 with 1 Axes>"
      ]
     },
     "metadata": {},
     "output_type": "display_data"
    }
   ],
   "source": [
    "x_test1 = tf.Variable(tf.cast(np.expand_dims(test_data[3],0), tf.float32))\n",
    "y_test1 = y_test[4]\n",
    "print(y_test1)\n",
    "plt.imshow(x_test1[0,:,:,0], cmap = 'gray', interpolation = 'none')"
   ]
  },
  {
   "cell_type": "code",
   "execution_count": 5,
   "id": "80d2f78c-00b0-4aec-aa95-e09bf2e59d8c",
   "metadata": {},
   "outputs": [
    {
     "name": "stderr",
     "output_type": "stream",
     "text": [
      "2024-03-19 13:22:57.482295: I tensorflow/compiler/xla/stream_executor/cuda/cuda_dnn.cc:428] Loaded cuDNN version 8100\n",
      "2024-03-19 13:22:58.172231: W tensorflow/compiler/xla/stream_executor/gpu/asm_compiler.cc:234] Falling back to the CUDA driver for PTX compilation; ptxas does not support CC 8.9\n",
      "2024-03-19 13:22:58.172254: W tensorflow/compiler/xla/stream_executor/gpu/asm_compiler.cc:237] Used ptxas at ptxas\n",
      "2024-03-19 13:22:58.172335: W tensorflow/compiler/xla/stream_executor/gpu/redzone_allocator.cc:318] UNIMPLEMENTED: ptxas ptxas too old. Falling back to the driver to compile.\n",
      "Relying on driver to perform ptx compilation. \n",
      "Modify $PATH to customize ptxas location.\n",
      "This message will be only logged once.\n"
     ]
    },
    {
     "name": "stdout",
     "output_type": "stream",
     "text": [
      "tf.Tensor(\n",
      "[1.0000000e+00 1.0290111e-16 2.5538697e-13 1.6925972e-15 6.5459946e-14\n",
      " 3.2314511e-12 3.7594629e-11 6.6385862e-14 7.7800509e-12 1.1492343e-10], shape=(10,), dtype=float32)\n"
     ]
    },
    {
     "name": "stderr",
     "output_type": "stream",
     "text": [
      "2024-03-19 13:22:58.745779: I tensorflow/compiler/xla/stream_executor/cuda/cuda_blas.cc:630] TensorFloat-32 will be used for the matrix multiplication. This will only be logged once.\n"
     ]
    }
   ],
   "source": [
    "prediction1 = cnn.model(x_test1)\n",
    "print(tf.squeeze(prediction1))"
   ]
  },
  {
   "cell_type": "code",
   "execution_count": 6,
   "id": "0095dcd2-00d3-450f-92cf-d4e3789aa295",
   "metadata": {},
   "outputs": [
    {
     "name": "stdout",
     "output_type": "stream",
     "text": [
      "tf.Tensor(\n",
      "[  0.       -36.812763 -28.995996 -34.012512 -30.357338 -26.45809\n",
      " -24.00416  -30.343292 -25.579458 -22.886755], shape=(10,), dtype=float32)\n"
     ]
    }
   ],
   "source": [
    "prediction1Log = tf.math.log(prediction1)\n",
    "print(tf.squeeze(prediction1Log))"
   ]
  },
  {
   "cell_type": "code",
   "execution_count": 7,
   "id": "d8b046e0-743a-43e8-99ec-d269ca4f4fae",
   "metadata": {},
   "outputs": [],
   "source": [
    "def makeM3():\n",
    "    shape = (28, 28, 1)\n",
    "    cnn_model = tf.keras.models.Sequential()\n",
    "    cnn_model.add(Conv2D(filters = 32, kernel_size = (3,3), input_shape = shape, use_bias = False))\n",
    "    cnn_model.add(BatchNormalization())\n",
    "    cnn_model.add(ReLU())\n",
    "    cnn_model.add(Conv2D(filters = 48, kernel_size = (3,3), use_bias = False))\n",
    "    cnn_model.add(BatchNormalization())\n",
    "    cnn_model.add(ReLU())\n",
    "    cnn_model.add(Conv2D(filters = 64, kernel_size = (3,3), use_bias = False))\n",
    "    cnn_model.add(BatchNormalization())\n",
    "    cnn_model.add(ReLU())\n",
    "    cnn_model.add(Conv2D(filters = 80, kernel_size = (3,3), use_bias = False))\n",
    "    cnn_model.add(BatchNormalization())\n",
    "    cnn_model.add(ReLU())\n",
    "    cnn_model.add(Conv2D(filters = 96, kernel_size = (3,3), use_bias = False))\n",
    "    cnn_model.add(BatchNormalization())\n",
    "    cnn_model.add(ReLU())\n",
    "    cnn_model.add(Conv2D(filters = 112, kernel_size = (3,3), use_bias = False))\n",
    "    cnn_model.add(BatchNormalization())\n",
    "    cnn_model.add(ReLU())\n",
    "    cnn_model.add(Conv2D(filters = 128, kernel_size = (3,3), use_bias = False))\n",
    "    cnn_model.add(BatchNormalization())\n",
    "    cnn_model.add(ReLU())\n",
    "    cnn_model.add(Conv2D(filters = 144, kernel_size = (3,3), use_bias = False))\n",
    "    cnn_model.add(BatchNormalization())\n",
    "    cnn_model.add(ReLU())\n",
    "    cnn_model.add(Conv2D(filters = 160, kernel_size = (3,3), use_bias = False))\n",
    "    cnn_model.add(BatchNormalization())\n",
    "    cnn_model.add(ReLU())\n",
    "    cnn_model.add(Conv2D(filters = 176, kernel_size = (3,3), use_bias = False))\n",
    "    cnn_model.add(BatchNormalization())\n",
    "    cnn_model.add(ReLU())\n",
    "    cnn_model.add(Flatten())\n",
    "    cnn_model.add(Dense(10, use_bias = False))\n",
    "    cnn_model.add(BatchNormalization())\n",
    "    cnn_model.add(Softmax())\n",
    "    return cnn_model"
   ]
  },
  {
   "cell_type": "code",
   "execution_count": 8,
   "id": "0fb55194-c48f-4cb5-91c1-6d4017d8ecae",
   "metadata": {},
   "outputs": [
    {
     "name": "stdout",
     "output_type": "stream",
     "text": [
      "Model: \"sequential_1\"\n",
      "_________________________________________________________________\n",
      " Layer (type)                Output Shape              Param #   \n",
      "=================================================================\n",
      " conv2d_3 (Conv2D)           (None, 26, 26, 32)        288       \n",
      "                                                                 \n",
      " batch_normalization_1 (Batc  (None, 26, 26, 32)       128       \n",
      " hNormalization)                                                 \n",
      "                                                                 \n",
      " re_lu (ReLU)                (None, 26, 26, 32)        0         \n",
      "                                                                 \n",
      " conv2d_4 (Conv2D)           (None, 24, 24, 48)        13824     \n",
      "                                                                 \n",
      " batch_normalization_2 (Batc  (None, 24, 24, 48)       192       \n",
      " hNormalization)                                                 \n",
      "                                                                 \n",
      " re_lu_1 (ReLU)              (None, 24, 24, 48)        0         \n",
      "                                                                 \n",
      " conv2d_5 (Conv2D)           (None, 22, 22, 64)        27648     \n",
      "                                                                 \n",
      " batch_normalization_3 (Batc  (None, 22, 22, 64)       256       \n",
      " hNormalization)                                                 \n",
      "                                                                 \n",
      " re_lu_2 (ReLU)              (None, 22, 22, 64)        0         \n",
      "                                                                 \n",
      " conv2d_6 (Conv2D)           (None, 20, 20, 80)        46080     \n",
      "                                                                 \n",
      " batch_normalization_4 (Batc  (None, 20, 20, 80)       320       \n",
      " hNormalization)                                                 \n",
      "                                                                 \n",
      " re_lu_3 (ReLU)              (None, 20, 20, 80)        0         \n",
      "                                                                 \n",
      " conv2d_7 (Conv2D)           (None, 18, 18, 96)        69120     \n",
      "                                                                 \n",
      " batch_normalization_5 (Batc  (None, 18, 18, 96)       384       \n",
      " hNormalization)                                                 \n",
      "                                                                 \n",
      " re_lu_4 (ReLU)              (None, 18, 18, 96)        0         \n",
      "                                                                 \n",
      " conv2d_8 (Conv2D)           (None, 16, 16, 112)       96768     \n",
      "                                                                 \n",
      " batch_normalization_6 (Batc  (None, 16, 16, 112)      448       \n",
      " hNormalization)                                                 \n",
      "                                                                 \n",
      " re_lu_5 (ReLU)              (None, 16, 16, 112)       0         \n",
      "                                                                 \n",
      " conv2d_9 (Conv2D)           (None, 14, 14, 128)       129024    \n",
      "                                                                 \n",
      " batch_normalization_7 (Batc  (None, 14, 14, 128)      512       \n",
      " hNormalization)                                                 \n",
      "                                                                 \n",
      " re_lu_6 (ReLU)              (None, 14, 14, 128)       0         \n",
      "                                                                 \n",
      " conv2d_10 (Conv2D)          (None, 12, 12, 144)       165888    \n",
      "                                                                 \n",
      " batch_normalization_8 (Batc  (None, 12, 12, 144)      576       \n",
      " hNormalization)                                                 \n",
      "                                                                 \n",
      " re_lu_7 (ReLU)              (None, 12, 12, 144)       0         \n",
      "                                                                 \n",
      " conv2d_11 (Conv2D)          (None, 10, 10, 160)       207360    \n",
      "                                                                 \n",
      " batch_normalization_9 (Batc  (None, 10, 10, 160)      640       \n",
      " hNormalization)                                                 \n",
      "                                                                 \n",
      " re_lu_8 (ReLU)              (None, 10, 10, 160)       0         \n",
      "                                                                 \n",
      " conv2d_12 (Conv2D)          (None, 8, 8, 176)         253440    \n",
      "                                                                 \n",
      " batch_normalization_10 (Bat  (None, 8, 8, 176)        704       \n",
      " chNormalization)                                                \n",
      "                                                                 \n",
      " re_lu_9 (ReLU)              (None, 8, 8, 176)         0         \n",
      "                                                                 \n",
      " flatten_1 (Flatten)         (None, 11264)             0         \n",
      "                                                                 \n",
      " dense_2 (Dense)             (None, 10)                112640    \n",
      "                                                                 \n",
      " batch_normalization_11 (Bat  (None, 10)               40        \n",
      " chNormalization)                                                \n",
      "                                                                 \n",
      " softmax (Softmax)           (None, 10)                0         \n",
      "                                                                 \n",
      "=================================================================\n",
      "Total params: 1,126,280\n",
      "Trainable params: 1,124,180\n",
      "Non-trainable params: 2,100\n",
      "_________________________________________________________________\n"
     ]
    }
   ],
   "source": [
    "testModel = makeM3()\n",
    "testModel.summary()"
   ]
  },
  {
   "cell_type": "code",
   "execution_count": 9,
   "id": "53c97238-f610-4266-b434-dcbcccd3631a",
   "metadata": {},
   "outputs": [],
   "source": [
    "m3test = testModel(x_test1)"
   ]
  },
  {
   "cell_type": "code",
   "execution_count": 10,
   "id": "6a95c323-e9df-4ed8-b521-d3f2dd48171b",
   "metadata": {},
   "outputs": [
    {
     "name": "stdout",
     "output_type": "stream",
     "text": [
      "0.10004153\n"
     ]
    }
   ],
   "source": [
    "print(tf.squeeze(m3test).numpy()[0])"
   ]
  },
  {
   "cell_type": "code",
   "execution_count": 11,
   "id": "56ed5a7c-f5ce-4371-9903-dbbe79e5b451",
   "metadata": {},
   "outputs": [],
   "source": [
    "l_1 = 1.0\n",
    "l_2 = 1.0\n",
    "l_3 = 0.0"
   ]
  },
  {
   "cell_type": "code",
   "execution_count": 12,
   "id": "6f943ae5-8210-4f2d-a57e-8c67502e2691",
   "metadata": {},
   "outputs": [],
   "source": [
    "@tf.function(input_signature=(tf.TensorSpec([None,None,None,None], dtype = tf.float32),))\n",
    "def markerFun(x):\n",
    "    print(\"this function was called\")\n",
    "    return 0.0"
   ]
  },
  {
   "cell_type": "code",
   "execution_count": 58,
   "id": "e9b6fb4c-1dc7-4317-b776-b44090c003b0",
   "metadata": {},
   "outputs": [],
   "source": [
    "ceLoss = tf.keras.losses.CategoricalCrossentropy(from_logits = False)\n",
    "\n",
    "@tf.function(input_signature=(tf.TensorSpec(None, dtype = tf.float32), tf.TensorSpec([None,None,None,None], dtype = tf.float32)))\n",
    "def lambdaTest(e_j, x):\n",
    "    loss = lambda e_j, x : (l_1 * ceLoss(e_j, testModel(x)) if l_1 > 0 else 0)\n",
    "    mag = lambda x : (l_2 * tf.reduce_sum(x) if l_2 > 0 else 0)\n",
    "    fun = lambda x : (l_3 * markerFun(x) if l_3 > 0 else 0)\n",
    "    return loss(e_j, x) + mag(x) + fun(x)"
   ]
  },
  {
   "cell_type": "code",
   "execution_count": 59,
   "id": "b3aad643-948a-462f-8e90-d08cf384615a",
   "metadata": {},
   "outputs": [],
   "source": [
    "@tf.function(input_signature=(tf.TensorSpec(None, dtype = tf.float32), tf.TensorSpec([None,None,None,None], dtype = tf.float32)))\n",
    "def noLambdaTest(e_j, x):\n",
    "    loss = l_1 * ceLoss(e_j, testModel(x))\n",
    "    mag = l_2 * tf.reduce_sum(x)\n",
    "    fun = l_3 * markerFun(x)\n",
    "    return loss + mag + fun"
   ]
  },
  {
   "cell_type": "code",
   "execution_count": 15,
   "id": "3f901063-3a9a-40fd-948e-098ade37c4f6",
   "metadata": {},
   "outputs": [
    {
     "name": "stdout",
     "output_type": "stream",
     "text": [
      "tf.Tensor([[1. 0. 0. 0. 0. 0. 0. 0. 0. 0.]], shape=(1, 10), dtype=float32)\n"
     ]
    }
   ],
   "source": [
    "e_j = tf.reshape(tf.one_hot(indices = 0, depth = 10), shape = (1,10))\n",
    "e_j = tf.constant(e_j)\n",
    "print(e_j)"
   ]
  },
  {
   "cell_type": "code",
   "execution_count": 23,
   "id": "1bd3f29d-d40d-4a72-8a02-409e5a920b37",
   "metadata": {},
   "outputs": [
    {
     "name": "stdout",
     "output_type": "stream",
     "text": [
      "tf.Tensor(2.3038564, shape=(), dtype=float32)\n"
     ]
    }
   ],
   "source": [
    "print(lambdaTest(e_j, x_test1))"
   ]
  },
  {
   "cell_type": "code",
   "execution_count": 32,
   "id": "9220147a-632a-4a77-be23-dc40601dd484",
   "metadata": {},
   "outputs": [
    {
     "name": "stdout",
     "output_type": "stream",
     "text": [
      "tf.Tensor(147.4568, shape=(), dtype=float32)\n"
     ]
    }
   ],
   "source": [
    "print(lambdaTest(e_j, x_test1))"
   ]
  },
  {
   "cell_type": "code",
   "execution_count": 60,
   "id": "231c754a-d4de-4820-949c-9dd273e76cda",
   "metadata": {},
   "outputs": [
    {
     "name": "stdout",
     "output_type": "stream",
     "text": [
      "tf.Tensor(784.00555, shape=(), dtype=float32)\n"
     ]
    }
   ],
   "source": [
    "with tf.GradientTape() as tape:\n",
    "    result = lambdaTest(e_j, x_test1)\n",
    "grad1 = tape.gradient(result, x_test1)\n",
    "print(tf.reduce_sum(grad1))"
   ]
  },
  {
   "cell_type": "code",
   "execution_count": 61,
   "id": "162f656a-f2d9-4eea-8df8-cc3d532b08c4",
   "metadata": {},
   "outputs": [
    {
     "name": "stdout",
     "output_type": "stream",
     "text": [
      "this function was called\n",
      "tf.Tensor(784.00555, shape=(), dtype=float32)\n"
     ]
    }
   ],
   "source": [
    "with tf.GradientTape() as tape:\n",
    "    result = noLambdaTest(e_j, x_test1)\n",
    "grad2 = tape.gradient(result, x_test1)\n",
    "print(tf.reduce_sum(grad2))"
   ]
  },
  {
   "cell_type": "code",
   "execution_count": 62,
   "id": "a17c5670-aee4-48d0-844c-b3fb84bc4c71",
   "metadata": {},
   "outputs": [
    {
     "name": "stdout",
     "output_type": "stream",
     "text": [
      "tf.Tensor(147.4568, shape=(), dtype=float32)\n"
     ]
    }
   ],
   "source": [
    "print(lambdaTest(e_j, x_test1))"
   ]
  },
  {
   "cell_type": "code",
   "execution_count": 63,
   "id": "d985173a-b084-4027-940e-4cec0394ffb5",
   "metadata": {},
   "outputs": [
    {
     "name": "stdout",
     "output_type": "stream",
     "text": [
      "tf.Tensor(147.4568, shape=(), dtype=float32)\n"
     ]
    }
   ],
   "source": [
    "print(noLambdaTest(e_j, x_test1))"
   ]
  },
  {
   "cell_type": "code",
   "execution_count": 13,
   "id": "b76eb47d-db8f-4dde-95d5-a2336ff2144e",
   "metadata": {},
   "outputs": [
    {
     "name": "stdout",
     "output_type": "stream",
     "text": [
      "tf.Tensor([[1. 0. 0. 0. 0. 0. 0. 0. 0. 0.]], shape=(1, 10), dtype=float32)\n",
      "tf.Tensor([[0. 1. 0. 0. 0. 0. 0. 0. 0. 0.]], shape=(1, 10), dtype=float32)\n"
     ]
    }
   ],
   "source": [
    "e_0 = tf.reshape(tf.one_hot(indices = 0, depth = 10), shape = (1,10))\n",
    "e_0 = tf.constant(e_0)\n",
    "print(e_0)\n",
    "e_1 = tf.reshape(tf.one_hot(indices = 1, depth = 10), shape = (1,10))\n",
    "e_1 = tf.constant(e_1)\n",
    "print(e_1)"
   ]
  },
  {
   "cell_type": "code",
   "execution_count": 15,
   "id": "ca7ba1da-029c-4ff1-9086-ea419b130724",
   "metadata": {
    "tags": []
   },
   "outputs": [],
   "source": [
    "def L1Dist(x,z):\n",
    "    return tf.reduce_sum(tf.math.abs(x-z))"
   ]
  },
  {
   "cell_type": "code",
   "execution_count": 20,
   "id": "66df7e06-1ac1-4fda-8ae5-a851d1d90f48",
   "metadata": {
    "tags": []
   },
   "outputs": [],
   "source": [
    "def L2Dist(x,z):\n",
    "    return tf.math.sqrt(tf.reduce_sum(tf.math.square(x-z)))"
   ]
  },
  {
   "cell_type": "code",
   "execution_count": 16,
   "id": "745d8111-4043-445e-961e-58603aeecbf6",
   "metadata": {
    "tags": []
   },
   "outputs": [],
   "source": [
    "l1_test = L1Dist(e_0,e_1)"
   ]
  },
  {
   "cell_type": "code",
   "execution_count": 17,
   "id": "e33e8aff-307a-4790-94b3-92f7d91fd152",
   "metadata": {
    "tags": []
   },
   "outputs": [
    {
     "name": "stdout",
     "output_type": "stream",
     "text": [
      "tf.Tensor(2.0, shape=(), dtype=float32)\n"
     ]
    }
   ],
   "source": [
    "print(l1_test)"
   ]
  },
  {
   "cell_type": "code",
   "execution_count": 21,
   "id": "76834e6c-a064-44cc-8dc8-ca979f95d658",
   "metadata": {
    "tags": []
   },
   "outputs": [
    {
     "name": "stdout",
     "output_type": "stream",
     "text": [
      "tf.Tensor(1.4142135, shape=(), dtype=float32)\n"
     ]
    }
   ],
   "source": [
    "l2_test = L2Dist(e_0,e_1)\n",
    "print(l2_test)"
   ]
  },
  {
   "cell_type": "code",
   "execution_count": 26,
   "id": "8c4119f9-8e11-4a7a-a168-2c1428b92694",
   "metadata": {
    "tags": []
   },
   "outputs": [
    {
     "name": "stdout",
     "output_type": "stream",
     "text": [
      "1\n"
     ]
    }
   ],
   "source": [
    "distances = {'l1':1,\n",
    "                'l2':2,\n",
    "                'l1_mad':3}\n",
    "if(not 'l1' in distances):\n",
    "    print('not a key')\n",
    "else:\n",
    "    print(distances['l1'])"
   ]
  },
  {
   "cell_type": "code",
   "execution_count": null,
   "id": "1bbf4e61-6fc4-4f93-b7af-7f67f79c59ed",
   "metadata": {},
   "outputs": [],
   "source": []
  }
 ],
 "metadata": {
  "kernelspec": {
   "display_name": "Python 3 (ipykernel)",
   "language": "python",
   "name": "python3"
  },
  "language_info": {
   "codemirror_mode": {
    "name": "ipython",
    "version": 3
   },
   "file_extension": ".py",
   "mimetype": "text/x-python",
   "name": "python",
   "nbconvert_exporter": "python",
   "pygments_lexer": "ipython3",
   "version": "3.10.11"
  }
 },
 "nbformat": 4,
 "nbformat_minor": 5
}
