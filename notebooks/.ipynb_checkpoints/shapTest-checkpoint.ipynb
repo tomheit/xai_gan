{
 "cells": [
  {
   "cell_type": "code",
   "execution_count": 1,
   "id": "c300967c-482f-43d1-9325-e6ecef1d95fe",
   "metadata": {
    "tags": []
   },
   "outputs": [
    {
     "name": "stdout",
     "output_type": "stream",
     "text": [
      "Requirement already satisfied: shap in /opt/conda/lib/python3.10/site-packages (0.45.0)\n",
      "Requirement already satisfied: numpy in /opt/conda/lib/python3.10/site-packages (from shap) (1.26.0)\n",
      "Requirement already satisfied: scipy in /opt/conda/lib/python3.10/site-packages (from shap) (1.11.3)\n",
      "Requirement already satisfied: scikit-learn in /opt/conda/lib/python3.10/site-packages (from shap) (1.3.2)\n",
      "Requirement already satisfied: pandas in /opt/conda/lib/python3.10/site-packages (from shap) (2.1.3)\n",
      "Requirement already satisfied: tqdm>=4.27.0 in /opt/conda/lib/python3.10/site-packages (from shap) (4.65.0)\n",
      "Requirement already satisfied: packaging>20.9 in /opt/conda/lib/python3.10/site-packages (from shap) (23.1)\n",
      "Requirement already satisfied: slicer==0.0.7 in /opt/conda/lib/python3.10/site-packages (from shap) (0.0.7)\n",
      "Requirement already satisfied: numba in /opt/conda/lib/python3.10/site-packages (from shap) (0.59.1)\n",
      "Requirement already satisfied: cloudpickle in /opt/conda/lib/python3.10/site-packages (from shap) (3.0.0)\n",
      "Requirement already satisfied: llvmlite<0.43,>=0.42.0dev0 in /opt/conda/lib/python3.10/site-packages (from numba->shap) (0.42.0)\n",
      "Requirement already satisfied: python-dateutil>=2.8.2 in /opt/conda/lib/python3.10/site-packages (from pandas->shap) (2.8.2)\n",
      "Requirement already satisfied: pytz>=2020.1 in /opt/conda/lib/python3.10/site-packages (from pandas->shap) (2023.3)\n",
      "Requirement already satisfied: tzdata>=2022.1 in /opt/conda/lib/python3.10/site-packages (from pandas->shap) (2023.3)\n",
      "Requirement already satisfied: joblib>=1.1.1 in /opt/conda/lib/python3.10/site-packages (from scikit-learn->shap) (1.3.2)\n",
      "Requirement already satisfied: threadpoolctl>=2.0.0 in /opt/conda/lib/python3.10/site-packages (from scikit-learn->shap) (3.2.0)\n",
      "Requirement already satisfied: six>=1.5 in /opt/conda/lib/python3.10/site-packages (from python-dateutil>=2.8.2->pandas->shap) (1.16.0)\n"
     ]
    },
    {
     "name": "stderr",
     "output_type": "stream",
     "text": [
      "/opt/conda/lib/python3.10/site-packages/tqdm/auto.py:21: TqdmWarning: IProgress not found. Please update jupyter and ipywidgets. See https://ipywidgets.readthedocs.io/en/stable/user_install.html\n",
      "  from .autonotebook import tqdm as notebook_tqdm\n",
      "2024-03-21 16:03:52.848259: I tensorflow/core/platform/cpu_feature_guard.cc:193] This TensorFlow binary is optimized with oneAPI Deep Neural Network Library (oneDNN) to use the following CPU instructions in performance-critical operations:  AVX2 AVX512F AVX512_VNNI AVX512_BF16 FMA\n",
      "To enable them in other operations, rebuild TensorFlow with the appropriate compiler flags.\n",
      "2024-03-21 16:03:52.922214: I tensorflow/core/util/port.cc:104] oneDNN custom operations are on. You may see slightly different numerical results due to floating-point round-off errors from different computation orders. To turn them off, set the environment variable `TF_ENABLE_ONEDNN_OPTS=0`.\n",
      "2024-03-21 16:03:53.305179: W tensorflow/compiler/xla/stream_executor/platform/default/dso_loader.cc:64] Could not load dynamic library 'libnvinfer.so.7'; dlerror: libnvinfer.so.7: cannot open shared object file: No such file or directory; LD_LIBRARY_PATH: :/opt/conda/envs/cuda-11.2/lib\n",
      "2024-03-21 16:03:53.305228: W tensorflow/compiler/xla/stream_executor/platform/default/dso_loader.cc:64] Could not load dynamic library 'libnvinfer_plugin.so.7'; dlerror: libnvinfer_plugin.so.7: cannot open shared object file: No such file or directory; LD_LIBRARY_PATH: :/opt/conda/envs/cuda-11.2/lib\n",
      "2024-03-21 16:03:53.305231: W tensorflow/compiler/tf2tensorrt/utils/py_utils.cc:38] TF-TRT Warning: Cannot dlopen some TensorRT libraries. If you would like to use Nvidia GPU with TensorRT, please make sure the missing libraries mentioned above are installed properly.\n"
     ]
    }
   ],
   "source": [
    "%%capture\n",
    "import sys\n",
    "!{sys.executable} -m pip install shap # install shap\n",
    "import shap\n",
    "import google.protobuf\n",
    "import h5py\n",
    "import tensorflow as tf\n",
    "import numpy as np\n",
    "import matplotlib.pyplot as plt\n",
    "sys.path.append('../neural_networks/mnist_cnn')\n",
    "import mnistCnn"
   ]
  },
  {
   "cell_type": "code",
   "execution_count": 4,
   "id": "12d3ecdc-a10c-4e96-bdc4-1b202b6aa255",
   "metadata": {
    "tags": []
   },
   "outputs": [
    {
     "name": "stderr",
     "output_type": "stream",
     "text": [
      "2024-03-21 16:03:53.678995: I tensorflow/compiler/xla/stream_executor/cuda/cuda_gpu_executor.cc:981] successful NUMA node read from SysFS had negative value (-1), but there must be at least one NUMA node, so returning NUMA node zero\n",
      "2024-03-21 16:03:53.682508: I tensorflow/compiler/xla/stream_executor/cuda/cuda_gpu_executor.cc:981] successful NUMA node read from SysFS had negative value (-1), but there must be at least one NUMA node, so returning NUMA node zero\n",
      "2024-03-21 16:03:53.682621: I tensorflow/compiler/xla/stream_executor/cuda/cuda_gpu_executor.cc:981] successful NUMA node read from SysFS had negative value (-1), but there must be at least one NUMA node, so returning NUMA node zero\n",
      "2024-03-21 16:03:53.683029: I tensorflow/core/platform/cpu_feature_guard.cc:193] This TensorFlow binary is optimized with oneAPI Deep Neural Network Library (oneDNN) to use the following CPU instructions in performance-critical operations:  AVX2 AVX512F AVX512_VNNI AVX512_BF16 FMA\n",
      "To enable them in other operations, rebuild TensorFlow with the appropriate compiler flags.\n",
      "2024-03-21 16:03:53.684034: I tensorflow/compiler/xla/stream_executor/cuda/cuda_gpu_executor.cc:981] successful NUMA node read from SysFS had negative value (-1), but there must be at least one NUMA node, so returning NUMA node zero\n",
      "2024-03-21 16:03:53.684153: I tensorflow/compiler/xla/stream_executor/cuda/cuda_gpu_executor.cc:981] successful NUMA node read from SysFS had negative value (-1), but there must be at least one NUMA node, so returning NUMA node zero\n",
      "2024-03-21 16:03:53.684249: I tensorflow/compiler/xla/stream_executor/cuda/cuda_gpu_executor.cc:981] successful NUMA node read from SysFS had negative value (-1), but there must be at least one NUMA node, so returning NUMA node zero\n",
      "2024-03-21 16:03:53.981284: I tensorflow/compiler/xla/stream_executor/cuda/cuda_gpu_executor.cc:981] successful NUMA node read from SysFS had negative value (-1), but there must be at least one NUMA node, so returning NUMA node zero\n",
      "2024-03-21 16:03:53.981440: I tensorflow/compiler/xla/stream_executor/cuda/cuda_gpu_executor.cc:981] successful NUMA node read from SysFS had negative value (-1), but there must be at least one NUMA node, so returning NUMA node zero\n",
      "2024-03-21 16:03:53.981536: I tensorflow/compiler/xla/stream_executor/cuda/cuda_gpu_executor.cc:981] successful NUMA node read from SysFS had negative value (-1), but there must be at least one NUMA node, so returning NUMA node zero\n",
      "2024-03-21 16:03:53.981626: I tensorflow/core/common_runtime/gpu/gpu_device.cc:1613] Created device /job:localhost/replica:0/task:0/device:GPU:0 with 22104 MB memory:  -> device: 0, name: NVIDIA GeForce RTX 4090, pci bus id: 0000:01:00.0, compute capability: 8.9\n"
     ]
    }
   ],
   "source": [
    "# load model\n",
    "cnn = mnistCnn.MnistCnn()\n",
    "cnn.loadWeights('../neural_networks/mnist_cnn/m3_150Epochs')"
   ]
  },
  {
   "cell_type": "code",
   "execution_count": 5,
   "id": "2ff55fec-a576-4de7-b7e1-07521db0f4df",
   "metadata": {
    "tags": []
   },
   "outputs": [],
   "source": [
    "# load dataset\n",
    "_, (x_test, y_test) = tf.keras.datasets.mnist.load_data()\n",
    "test_data = x_test.copy()\n",
    "test_data = test_data.reshape(x_test.shape[0], 28, 28, 1)\n",
    "test_data = test_data / 255\n",
    "#print(test_data.shape)\n",
    "y_test_one_hot = np.eye(10)[y_test]"
   ]
  },
  {
   "cell_type": "code",
   "execution_count": 44,
   "id": "8920498c-cc33-4fc5-a39e-b757e06168aa",
   "metadata": {
    "tags": []
   },
   "outputs": [
    {
     "name": "stdout",
     "output_type": "stream",
     "text": [
      "4\n",
      "4\n",
      "(100, 28, 28, 1)\n"
     ]
    }
   ],
   "source": [
    "np.random.seed(24)\n",
    "indices = np.random.randint(0,test_data.shape[0],100)\n",
    "background = test_data[indices]\n",
    "index = np.random.randint(0,test_data.shape[0])\n",
    "#print(index in indices)\n",
    "test_image = test_data[index]\n",
    "pred = np.argmax(tf.squeeze(cnn.model(np.expand_dims(test_image,0))).numpy())\n",
    "print(pred)\n",
    "print(y_test[index])\n",
    "print(background.shape)"
   ]
  },
  {
   "cell_type": "code",
   "execution_count": 49,
   "id": "2d4e6b31-a127-42a3-bdc6-5221c23a43de",
   "metadata": {
    "tags": []
   },
   "outputs": [],
   "source": [
    "def prediction(x):\n",
    "    return cnn.model(x).numpy()"
   ]
  },
  {
   "cell_type": "code",
   "execution_count": 51,
   "id": "72e30f12-8ecb-421a-a1fa-fa1c7efc563a",
   "metadata": {
    "tags": []
   },
   "outputs": [
    {
     "name": "stdout",
     "output_type": "stream",
     "text": [
      "[[3.0189609e-13 1.0058977e-11 6.7414086e-13 4.9607363e-16 9.9999988e-01\n",
      "  1.1644550e-13 7.0856980e-11 3.1883177e-13 1.9755007e-12 7.6263412e-08]]\n",
      "(100, 10)\n"
     ]
    }
   ],
   "source": [
    "print(prediction(np.expand_dims(test_image,0)))\n",
    "print(prediction(background).shape)"
   ]
  },
  {
   "cell_type": "code",
   "execution_count": 56,
   "id": "daf27dfe-c522-41af-9763-33a09e64aee5",
   "metadata": {
    "tags": []
   },
   "outputs": [
    {
     "name": "stdout",
     "output_type": "stream",
     "text": [
      "WARNING:tensorflow:5 out of the last 5 calls to <function TFDeep.phi_symbolic.<locals>.grad_graph at 0x7fcdac526710> triggered tf.function retracing. Tracing is expensive and the excessive number of tracings could be due to (1) creating @tf.function repeatedly in a loop, (2) passing tensors with different shapes, (3) passing Python objects instead of tensors. For (1), please define your @tf.function outside of the loop. For (2), @tf.function has reduce_retracing=True option that can avoid unnecessary retracing. For (3), please refer to https://www.tensorflow.org/guide/function#controlling_retracing and https://www.tensorflow.org/api_docs/python/tf/function for  more details.\n",
      "WARNING:tensorflow:6 out of the last 6 calls to <function TFDeep.phi_symbolic.<locals>.grad_graph at 0x7fcd043e1d80> triggered tf.function retracing. Tracing is expensive and the excessive number of tracings could be due to (1) creating @tf.function repeatedly in a loop, (2) passing tensors with different shapes, (3) passing Python objects instead of tensors. For (1), please define your @tf.function outside of the loop. For (2), @tf.function has reduce_retracing=True option that can avoid unnecessary retracing. For (3), please refer to https://www.tensorflow.org/guide/function#controlling_retracing and https://www.tensorflow.org/api_docs/python/tf/function for  more details.\n"
     ]
    }
   ],
   "source": [
    "# first line to avoid a shap bug, see https://github.com/shap/shap/issues/1406\n",
    "shap.explainers._deep.deep_tf.op_handlers[\"FusedBatchNormV3\"] = shap.explainers._deep.deep_tf.passthrough\n",
    "explainer = shap.DeepExplainer(cnn.model, background)\n",
    "shap_values = explainer.shap_values(np.expand_dims(test_image,0))"
   ]
  },
  {
   "cell_type": "code",
   "execution_count": 68,
   "id": "b3870deb-1bbe-46ca-84ac-cfa629e3b76a",
   "metadata": {
    "tags": []
   },
   "outputs": [
    {
     "name": "stdout",
     "output_type": "stream",
     "text": [
      "(1, 28, 28, 1, 10)\n",
      "(10, 28, 28, 1, 1)\n"
     ]
    }
   ],
   "source": [
    "print(shap_values.shape)\n",
    "test_swap = np.swapaxes(shap_values, 0, -1)\n",
    "print(test_swap.shape)"
   ]
  },
  {
   "cell_type": "code",
   "execution_count": 78,
   "id": "99a6b545-981f-400f-9301-e48cc595310a",
   "metadata": {
    "tags": []
   },
   "outputs": [
    {
     "name": "stdout",
     "output_type": "stream",
     "text": [
      "(1, 28, 28, 1)\n",
      "(1, 28, 1, 28)\n"
     ]
    },
    {
     "data": {
      "image/png": "[encoded data removed]",
      "text/plain": [
       "<Figure size 2000x303.03 with 12 Axes>"
      ]
     },
     "metadata": {},
     "output_type": "display_data"
    }
   ],
   "source": [
    "shap_numpy = [np.swapaxes(np.swapaxes(np.swapaxes(s, 1, 2), 0, 1), 0, -1) for s in test_swap]\n",
    "print(shap_numpy[0].shape)\n",
    "test_numpy = np.swapaxes(np.swapaxes(np.expand_dims(test_image, 0), 1, -1), 1, 2)\n",
    "print(test_numpy.shape)\n",
    "\n",
    "shap.image_plot(shap_numpy, -np.expand_dims(test_image, 0))"
   ]
  },
  {
   "cell_type": "code",
   "execution_count": 76,
   "id": "542b6a7a-e03a-4095-9074-8a2e5214506b",
   "metadata": {
    "tags": []
   },
   "outputs": [
    {
     "data": {
      "text/plain": [
       "<matplotlib.image.AxesImage at 0x7fcc503894b0>"
      ]
     },
     "execution_count": 76,
     "metadata": {},
     "output_type": "execute_result"
    },
    {
     "data": {
      "image/png": "[encoded data removed]",
      "text/plain": [
       "<Figure size 640x480 with 1 Axes>"
      ]
     },
     "metadata": {},
     "output_type": "display_data"
    }
   ],
   "source": [
    "plt.imshow(shap_values[0,:,:,0,4], cmap = 'seismic')"
   ]
  },
  {
   "cell_type": "code",
   "execution_count": null,
   "id": "e44fc4d6-1a2b-4526-92f8-d9f720968b2f",
   "metadata": {},
   "outputs": [],
   "source": []
  }
 ],
 "metadata": {
  "kernelspec": {
   "display_name": "Python 3 (ipykernel)",
   "language": "python",
   "name": "python3"
  },
  "language_info": {
   "codemirror_mode": {
    "name": "ipython",
    "version": 3
   },
   "file_extension": ".py",
   "mimetype": "text/x-python",
   "name": "python",
   "nbconvert_exporter": "python",
   "pygments_lexer": "ipython3",
   "version": "3.10.11"
  }
 },
 "nbformat": 4,
 "nbformat_minor": 5
}
