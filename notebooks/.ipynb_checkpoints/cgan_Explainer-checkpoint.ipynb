{
 "cells": [
  {
   "cell_type": "code",
   "execution_count": 1,
   "id": "52bbb79a-dcd7-4a3f-a50d-05d35920d512",
   "metadata": {},
   "outputs": [],
   "source": [
    "import tensorflow as tf\n",
    "import numpy as np\n",
    "import matplotlib.pyplot as plt\n",
    "from tensorflow.keras.models import Model, load_model\n",
    "\n",
    "from mnistCnn import MnistCnn\n",
    "from cgan_mnist.mnist_cgan import Mnist_Cgan"
   ]
  },
  {
   "cell_type": "code",
   "execution_count": 2,
   "id": "e8c6d99a-7fbb-40b9-92fa-fd5862a433a6",
   "metadata": {},
   "outputs": [
    {
     "name": "stdout",
     "output_type": "stream",
     "text": [
      "(60000, 28, 28, 1)\n",
      "WARNING:tensorflow:Error in loading the saved optimizer state. As a result, your model is starting with a freshly initialized optimizer.\n"
     ]
    }
   ],
   "source": [
    "(X_train, y_train), (_,_) = tf.keras.datasets.mnist.load_data()\n",
    "img_data = X_train.copy()\n",
    "img_data = img_data.reshape(X_train.shape[0], 28, 28, 1)\n",
    "img_data = (img_data - 127.5) / 127.5\n",
    "print(img_data.shape)\n",
    "\n",
    "discriminator = load_model('mnist_cgan_100_epochs/cgan_discriminator.h5')\n",
    "#discriminator.summary()\n",
    "cnn = MnistCnn()\n",
    "cnn.loadWeights(\"MnistCnnTEST\")"
   ]
  },
  {
   "cell_type": "code",
   "execution_count": 28,
   "id": "dbcbec71-3527-4c17-a7f3-b7442963e16a",
   "metadata": {},
   "outputs": [],
   "source": [
    "@tf.function\n",
    "def first_g(x, index, classifier):\n",
    "    res = -tf.math.log(tf.squeeze(classifier(x))[index])\n",
    "    return res\n",
    "\n",
    "@tf.function\n",
    "def second_g(x, index_np, index_tf, classifier, discriminator):\n",
    "    res = tf.math.log(tf.squeeze(classifier(x))[index_np]) + 16*tf.math.log(discriminator([x, index_tf]))\n",
    "    return res\n",
    "    \n",
    "def explainer(x, classifier, discriminator, maxIter, maxChange, minAlpha, discWeight):\n",
    "    epsilon = 1e-16\n",
    "    closeEnough = False\n",
    "    iter = 0\n",
    "    index = tf.argmax(tf.squeeze(classifier(x))).numpy()\n",
    "    newIndex = index\n",
    "    \n",
    "    #first while loop min y_old\n",
    "    while(not closeEnough and iter < maxIter):\n",
    "        with tf.GradientTape() as tape:\n",
    "            gRes = first_g(x, index, classifier)\n",
    "        grad = tape.gradient(gRes, x)\n",
    "        maxGrad = tf.abs(tf.reduce_max(grad))\n",
    "        alpha = tf.minimum(minAlpha, maxChange/tf.maximum(maxGrad, epsilon))\n",
    "        x.assign(x + alpha * grad)\n",
    "        x.assign(tf.clip_by_value(x, clip_value_min = 0, clip_value_max = 1))\n",
    "        iter += 1\n",
    "        newIndex = tf.argmax(tf.squeeze(classifier(x))).numpy()\n",
    "        if ((newIndex != index)): # done when the prediction has changed\n",
    "            closeEnough = True\n",
    "    print(\"first loop done after \", iter, \" steps\")\n",
    "    \n",
    "    newIndex_tf = tf.constant(np.expand_dims(newIndex, 0))\n",
    "    \n",
    "    \n",
    "    #second while loop max y_new\n",
    "    closeEnough = False\n",
    "    iter = 0\n",
    "    target_value = 0.9 #target value for y_new\n",
    "    while(not closeEnough and iter < maxIter):\n",
    "        with tf.GradientTape() as tape:\n",
    "            hRes = second_g(x, newIndex, newIndex_tf, classifier, discriminator)\n",
    "        grad = tape.gradient(hRes, x)\n",
    "        maxGrad = tf.abs(tf.reduce_max(grad))\n",
    "        alpha = tf.minimum(minAlpha, maxChange/tf.maximum(maxGrad, epsilon))\n",
    "        x.assign(x + alpha * grad)\n",
    "        x.assign(tf.clip_by_value(x, clip_value_min = 0, clip_value_max = 1))\n",
    "        iter += 1\n",
    "        y_new = tf.squeeze(classifier(x))[newIndex]\n",
    "        if((y_new >= target_value) and (discriminator([x, newIndex_tf]).numpy() > 0.9)):\n",
    "            closeEnough = True\n",
    "            print(\"y_new: \", y_new)\n",
    "    print(\"second loop done after \", iter, \" steps\")\n",
    "    return iter, newIndex"
   ]
  },
  {
   "cell_type": "code",
   "execution_count": 29,
   "id": "c128175f-0ebe-4370-b8f8-c2757fba958a",
   "metadata": {},
   "outputs": [
    {
     "name": "stdout",
     "output_type": "stream",
     "text": [
      "(1, 28, 28, 1)\n",
      "4\n",
      "4\n"
     ]
    },
    {
     "data": {
      "image/png": "[encoded data removed]",
      "text/plain": [
       "<Figure size 432x288 with 1 Axes>"
      ]
     },
     "metadata": {
      "needs_background": "light"
     },
     "output_type": "display_data"
    }
   ],
   "source": [
    "index = 2\n",
    "img = img_data[index]\n",
    "plt.imshow(img, cmap = 'gray')\n",
    "image_ = tf.cast(np.expand_dims(img, 0), tf.float32)\n",
    "x = tf.Variable(image_)\n",
    "xOld = tf.Variable(image_)\n",
    "cat = tf.constant(np.expand_dims(y_train[index],0))\n",
    "print(x.shape)\n",
    "print(y_train[index])\n",
    "print(np.expand_dims(y_train[index], 0)[0])"
   ]
  },
  {
   "cell_type": "code",
   "execution_count": 30,
   "id": "b9306e90-db39-48ed-8e13-e2cff88b5ab1",
   "metadata": {},
   "outputs": [
    {
     "name": "stdout",
     "output_type": "stream",
     "text": [
      "[7.4285451e-18 7.0963827e-16 1.1840316e-01 3.6673171e-03 6.8139368e-01\n",
      " 4.1443537e-09 5.5070596e-14 1.0083996e-01 1.8049876e-04 9.5515400e-02]\n",
      "4\n",
      "0.5774845\n",
      "4\n"
     ]
    }
   ],
   "source": [
    "print(cnn.predict(x).numpy().squeeze())\n",
    "print(np.argmax(cnn.predict(x).numpy().squeeze()))\n",
    "print(discriminator([x, cat]).numpy().squeeze())\n",
    "\n",
    "print(cat.numpy()[0])\n",
    "#print(x)"
   ]
  },
  {
   "cell_type": "code",
   "execution_count": 31,
   "id": "24674d0e-e9c1-4e61-9b83-e06f89cafa88",
   "metadata": {},
   "outputs": [],
   "source": [
    "#test\n",
    "\n",
    "#@tf.function\n",
    "#def test_g(x, index_np, index_tf, classifier, discriminator):\n",
    "#    res = tf.math.log(tf.squeeze(classifier(x))[index_np]) + discriminator([x, index_tf])\n",
    "#    return res\n",
    "\n",
    "#index_np = tf.cast(cat.numpy()[0], tf.int64)\n",
    "#print(index_np.numpy())\n",
    "#print(cat)\n",
    "#result = second_g(x, index_np.numpy(), cat, classifier=cnn.model, discriminator=discriminator)\n",
    "#print(tf.squeeze(result).numpy())\n",
    "\n",
    "\n",
    "\n",
    "\n",
    "\n",
    "#with tf.GradientTape() as tape:\n",
    "#    res = second_g(x, index_np, cat, cnn.model, discriminator)\n",
    "#grad = tape.gradient(res, x)\n",
    "#print(grad)"
   ]
  },
  {
   "cell_type": "code",
   "execution_count": 32,
   "id": "45a49fd4-0ae4-41e6-ac90-8ca60fa1e9da",
   "metadata": {},
   "outputs": [
    {
     "name": "stdout",
     "output_type": "stream",
     "text": [
      "first loop done after  5  steps\n",
      "y_new:  tf.Tensor(0.95287055, shape=(), dtype=float32)\n",
      "second loop done after  225  steps\n",
      "7\n",
      "new y:  7\n",
      "conf:  0.95287055\n",
      "new p:  0.900229\n"
     ]
    }
   ],
   "source": [
    "oldY = np.argmax(cnn.predict(x).numpy().squeeze())\n",
    "oldP = discriminator([x, cat]).numpy().squeeze()\n",
    "\n",
    "_, newIndex = explainer(x, classifier = cnn.model, discriminator = discriminator, maxIter = 600, maxChange = 0.099, minAlpha = 1000000, discWeight = 1)\n",
    "\n",
    "print(newIndex)\n",
    "\n",
    "newY = np.argmax(cnn.predict(x).numpy().squeeze())\n",
    "conf = cnn.predict(x).numpy().squeeze()[newY]\n",
    "newP = discriminator([x, tf.constant(np.expand_dims(newIndex,0))]).numpy().squeeze()\n",
    "print('new y: ', newY)\n",
    "print('conf: ', conf)\n",
    "print('new p: ', newP)"
   ]
  },
  {
   "cell_type": "code",
   "execution_count": 33,
   "id": "9cc150be-d92b-4035-a143-ab81fba7e6a2",
   "metadata": {},
   "outputs": [
    {
     "data": {
      "text/plain": [
       "<matplotlib.image.AxesImage at 0x7f1720620e50>"
      ]
     },
     "execution_count": 33,
     "metadata": {},
     "output_type": "execute_result"
    },
    {
     "data": {
      "image/png": "[encoded data removed]",
      "text/plain": [
       "<Figure size 432x288 with 1 Axes>"
      ]
     },
     "metadata": {
      "needs_background": "light"
     },
     "output_type": "display_data"
    }
   ],
   "source": [
    "plt.imshow(x[0,:,:,:], cmap = 'gray')"
   ]
  },
  {
   "cell_type": "code",
   "execution_count": null,
   "id": "2f3394e0-48e7-494f-9da7-b39a1872c357",
   "metadata": {},
   "outputs": [],
   "source": []
  }
 ],
 "metadata": {
  "kernelspec": {
   "display_name": "Python 3",
   "language": "python",
   "name": "python3"
  },
  "language_info": {
   "codemirror_mode": {
    "name": "ipython",
    "version": 3
   },
   "file_extension": ".py",
   "mimetype": "text/x-python",
   "name": "python",
   "nbconvert_exporter": "python",
   "pygments_lexer": "ipython3",
   "version": "3.9.2"
  }
 },
 "nbformat": 4,
 "nbformat_minor": 5
}
