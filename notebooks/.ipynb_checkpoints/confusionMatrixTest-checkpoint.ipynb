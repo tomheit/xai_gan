{
 "cells": [
  {
   "cell_type": "code",
   "execution_count": 1,
   "id": "a2cb8605-5d03-4907-88f5-429d5012b2a9",
   "metadata": {},
   "outputs": [],
   "source": [
    "import sys, getopt\n",
    "import os\n",
    "import tensorflow as tf\n",
    "import numpy as np\n",
    "import matplotlib.pyplot as plt\n",
    "import time\n",
    "\n",
    "sys.path.append('../neural_networks/mnist_cnn')\n",
    "sys.path.append('../neural_networks/mnist_gan')\n",
    "sys.path.append('../explainer')\n",
    "\n",
    "import explainer\n",
    "import mnistCnn\n",
    "import mnistGan"
   ]
  },
  {
   "cell_type": "code",
   "execution_count": 2,
   "id": "81c0b51c-4c3e-43d2-9b7f-2e1ffb103ee7",
   "metadata": {},
   "outputs": [
    {
     "name": "stdout",
     "output_type": "stream",
     "text": [
      "WARNING:tensorflow:No training configuration found in save file, so the model was *not* compiled. Compile it manually.\n",
      "WARNING:tensorflow:No training configuration found in save file, so the model was *not* compiled. Compile it manually.\n"
     ]
    }
   ],
   "source": [
    "cnn = mnistCnn.MnistCnn()\n",
    "cnn.loadWeights('../neural_networks/mnist_cnn/largerCnn30Epochs')\n",
    "#cnn.model.summary()\n",
    "\n",
    "#load gan\n",
    "genPath = '../neural_networks/mnist_gan/NewMnistGan200Epochs/mnist_gen'\n",
    "discPath = '../neural_networks/mnist_gan/NewMnistGan200Epochs/mnist_disc'\n",
    "gan = mnistGan.MnistGan()\n",
    "gan.loadWeights(genPath, discPath)\n",
    "(X_train, y_train), (x_test, y_test) = tf.keras.datasets.mnist.load_data()\n",
    "img_data = X_train.copy()\n",
    "img_data = img_data.reshape(X_train.shape[0], 28, 28, 1)\n",
    "img_data = img_data / 255 #pixel values in [0,1]\n",
    "#print(img_data.shape)\n",
    "test_data = x_test.copy()\n",
    "test_data = test_data.reshape(x_test.shape[0], 28, 28, 1)\n",
    "test_data = test_data / 255\n",
    "#print(test_data.shape)\n",
    "y_test_one_hot = np.eye(10)[y_test]"
   ]
  },
  {
   "cell_type": "code",
   "execution_count": 10,
   "id": "aea67ef6-b24b-4f6c-b7b6-e68199b04010",
   "metadata": {},
   "outputs": [
    {
     "name": "stdout",
     "output_type": "stream",
     "text": [
      "(10000, 28, 28, 1)\n",
      "(10000, 10)\n",
      "(10000,)\n",
      "tf.Tensor([7 2 1 0 4 1 4 9 5 9 0], shape=(11,), dtype=int64)\n"
     ]
    }
   ],
   "source": [
    "print(test_data.shape)\n",
    "predictionProbs = cnn.model(test_data)\n",
    "predictions = tf.argmax(predictionProbs, 1)\n",
    "print(predictionProbs.shape)\n",
    "print(predictions.shape)\n",
    "print(predictions[0:11])"
   ]
  },
  {
   "cell_type": "code",
   "execution_count": 11,
   "id": "321f1cff-9148-4b32-b6b4-64dd64086522",
   "metadata": {},
   "outputs": [],
   "source": [
    "confusionMatrix = tf.math.confusion_matrix(labels = y_test, predictions = predictions, num_classes = 10)"
   ]
  },
  {
   "cell_type": "code",
   "execution_count": 12,
   "id": "c50a28c2-2b6b-47dd-892d-fcee8f07e90a",
   "metadata": {},
   "outputs": [
    {
     "name": "stdout",
     "output_type": "stream",
     "text": [
      "tf.Tensor(\n",
      "[[ 979    0    0    0    0    0    0    1    0    0]\n",
      " [   0 1131    0    1    0    1    0    2    0    0]\n",
      " [   1    0 1029    0    0    0    0    1    1    0]\n",
      " [   0    0    0 1006    0    3    0    0    1    0]\n",
      " [   0    0    0    0  980    0    0    0    0    2]\n",
      " [   0    0    0    4    0  886    1    1    0    0]\n",
      " [   5    2    0    0    1    1  948    0    1    0]\n",
      " [   0    3    4    0    0    0    0 1020    0    1]\n",
      " [   1    0    1    1    0    0    0    0  969    2]\n",
      " [   0    0    0    0    3    1    0    1    2 1002]], shape=(10, 10), dtype=int32)\n"
     ]
    }
   ],
   "source": [
    "print(confusionMatrix)"
   ]
  },
  {
   "cell_type": "code",
   "execution_count": 16,
   "id": "2b2cb2c5-281a-461c-ba6e-7a86f60f6a23",
   "metadata": {},
   "outputs": [
    {
     "name": "stdout",
     "output_type": "stream",
     "text": [
      "7\n",
      "7\n"
     ]
    }
   ],
   "source": [
    "second_largest_0 = tf.math.top_k(confusionMatrix[0], k=2).indices.numpy()[1]\n",
    "print(second_largest_0)\n",
    "second_largest_1 = tf.math.top_k(confusionMatrix[1], k=2).indices.numpy()[1]\n",
    "print(second_largest_1)"
   ]
  },
  {
   "cell_type": "code",
   "execution_count": null,
   "id": "a2b0fcdc-46f2-4f41-9109-e51772a0c817",
   "metadata": {},
   "outputs": [],
   "source": []
  }
 ],
 "metadata": {
  "kernelspec": {
   "display_name": "Python 3",
   "language": "python",
   "name": "python3"
  },
  "language_info": {
   "codemirror_mode": {
    "name": "ipython",
    "version": 3
   },
   "file_extension": ".py",
   "mimetype": "text/x-python",
   "name": "python",
   "nbconvert_exporter": "python",
   "pygments_lexer": "ipython3",
   "version": "3.9.2"
  }
 },
 "nbformat": 4,
 "nbformat_minor": 5
}
