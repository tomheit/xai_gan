{
 "cells": [
  {
   "cell_type": "code",
   "execution_count": 42,
   "id": "1a8b5687-2c72-4a9b-9a79-7b5e4d9d6b41",
   "metadata": {
    "tags": []
   },
   "outputs": [
    {
     "name": "stdout",
     "output_type": "stream",
     "text": [
      "Requirement already satisfied: lime in /opt/conda/lib/python3.10/site-packages (0.2.0.1)\n",
      "Requirement already satisfied: matplotlib in /opt/conda/lib/python3.10/site-packages (from lime) (3.8.2)\n",
      "Requirement already satisfied: numpy in /opt/conda/lib/python3.10/site-packages (from lime) (1.26.0)\n",
      "Requirement already satisfied: scipy in /opt/conda/lib/python3.10/site-packages (from lime) (1.11.3)\n",
      "Requirement already satisfied: tqdm in /opt/conda/lib/python3.10/site-packages (from lime) (4.65.0)\n",
      "Requirement already satisfied: scikit-learn>=0.18 in /opt/conda/lib/python3.10/site-packages (from lime) (1.3.2)\n",
      "Requirement already satisfied: scikit-image>=0.12 in /opt/conda/lib/python3.10/site-packages (from lime) (0.22.0)\n",
      "Requirement already satisfied: networkx>=2.8 in /opt/conda/lib/python3.10/site-packages (from scikit-image>=0.12->lime) (3.2.1)\n",
      "Requirement already satisfied: pillow>=9.0.1 in /opt/conda/lib/python3.10/site-packages (from scikit-image>=0.12->lime) (10.1.0)\n",
      "Requirement already satisfied: imageio>=2.27 in /opt/conda/lib/python3.10/site-packages (from scikit-image>=0.12->lime) (2.31.5)\n",
      "Requirement already satisfied: tifffile>=2022.8.12 in /opt/conda/lib/python3.10/site-packages (from scikit-image>=0.12->lime) (2023.9.26)\n",
      "Requirement already satisfied: packaging>=21 in /opt/conda/lib/python3.10/site-packages (from scikit-image>=0.12->lime) (23.1)\n",
      "Requirement already satisfied: lazy_loader>=0.3 in /opt/conda/lib/python3.10/site-packages (from scikit-image>=0.12->lime) (0.3)\n",
      "Requirement already satisfied: joblib>=1.1.1 in /opt/conda/lib/python3.10/site-packages (from scikit-learn>=0.18->lime) (1.3.2)\n",
      "Requirement already satisfied: threadpoolctl>=2.0.0 in /opt/conda/lib/python3.10/site-packages (from scikit-learn>=0.18->lime) (3.2.0)\n",
      "Requirement already satisfied: contourpy>=1.0.1 in /opt/conda/lib/python3.10/site-packages (from matplotlib->lime) (1.2.0)\n",
      "Requirement already satisfied: cycler>=0.10 in /opt/conda/lib/python3.10/site-packages (from matplotlib->lime) (0.12.1)\n",
      "Requirement already satisfied: fonttools>=4.22.0 in /opt/conda/lib/python3.10/site-packages (from matplotlib->lime) (4.45.0)\n",
      "Requirement already satisfied: kiwisolver>=1.3.1 in /opt/conda/lib/python3.10/site-packages (from matplotlib->lime) (1.4.5)\n",
      "Requirement already satisfied: pyparsing>=2.3.1 in /opt/conda/lib/python3.10/site-packages (from matplotlib->lime) (3.1.1)\n",
      "Requirement already satisfied: python-dateutil>=2.7 in /opt/conda/lib/python3.10/site-packages (from matplotlib->lime) (2.8.2)\n",
      "Requirement already satisfied: six>=1.5 in /opt/conda/lib/python3.10/site-packages (from python-dateutil>=2.7->matplotlib->lime) (1.16.0)\n"
     ]
    }
   ],
   "source": [
    "import sys\n",
    "import tensorflow as tf\n",
    "import numpy as np\n",
    "import matplotlib.pyplot as plt\n",
    "sys.path.append('../neural_networks/mnist_cnn')\n",
    "import mnistCnn\n",
    "from skimage.color import gray2rgb, rgb2gray, label2rgb\n",
    "!{sys.executable} -m pip install lime # install shap\n",
    "from lime import lime_image\n",
    "from lime.wrappers.scikit_image import SegmentationAlgorithm"
   ]
  },
  {
   "cell_type": "code",
   "execution_count": 2,
   "id": "50ea7504-77e2-413f-abbd-d067d3771d4d",
   "metadata": {
    "tags": []
   },
   "outputs": [
    {
     "name": "stderr",
     "output_type": "stream",
     "text": [
      "2024-03-21 18:13:28.772492: I tensorflow/compiler/xla/stream_executor/cuda/cuda_gpu_executor.cc:981] successful NUMA node read from SysFS had negative value (-1), but there must be at least one NUMA node, so returning NUMA node zero\n",
      "2024-03-21 18:13:28.775933: I tensorflow/compiler/xla/stream_executor/cuda/cuda_gpu_executor.cc:981] successful NUMA node read from SysFS had negative value (-1), but there must be at least one NUMA node, so returning NUMA node zero\n",
      "2024-03-21 18:13:28.776047: I tensorflow/compiler/xla/stream_executor/cuda/cuda_gpu_executor.cc:981] successful NUMA node read from SysFS had negative value (-1), but there must be at least one NUMA node, so returning NUMA node zero\n",
      "2024-03-21 18:13:28.776640: I tensorflow/core/platform/cpu_feature_guard.cc:193] This TensorFlow binary is optimized with oneAPI Deep Neural Network Library (oneDNN) to use the following CPU instructions in performance-critical operations:  AVX2 AVX512F AVX512_VNNI AVX512_BF16 FMA\n",
      "To enable them in other operations, rebuild TensorFlow with the appropriate compiler flags.\n",
      "2024-03-21 18:13:28.777596: I tensorflow/compiler/xla/stream_executor/cuda/cuda_gpu_executor.cc:981] successful NUMA node read from SysFS had negative value (-1), but there must be at least one NUMA node, so returning NUMA node zero\n",
      "2024-03-21 18:13:28.777717: I tensorflow/compiler/xla/stream_executor/cuda/cuda_gpu_executor.cc:981] successful NUMA node read from SysFS had negative value (-1), but there must be at least one NUMA node, so returning NUMA node zero\n",
      "2024-03-21 18:13:28.777811: I tensorflow/compiler/xla/stream_executor/cuda/cuda_gpu_executor.cc:981] successful NUMA node read from SysFS had negative value (-1), but there must be at least one NUMA node, so returning NUMA node zero\n",
      "2024-03-21 18:13:29.061281: I tensorflow/compiler/xla/stream_executor/cuda/cuda_gpu_executor.cc:981] successful NUMA node read from SysFS had negative value (-1), but there must be at least one NUMA node, so returning NUMA node zero\n",
      "2024-03-21 18:13:29.061430: I tensorflow/compiler/xla/stream_executor/cuda/cuda_gpu_executor.cc:981] successful NUMA node read from SysFS had negative value (-1), but there must be at least one NUMA node, so returning NUMA node zero\n",
      "2024-03-21 18:13:29.061526: I tensorflow/compiler/xla/stream_executor/cuda/cuda_gpu_executor.cc:981] successful NUMA node read from SysFS had negative value (-1), but there must be at least one NUMA node, so returning NUMA node zero\n",
      "2024-03-21 18:13:29.061618: I tensorflow/core/common_runtime/gpu/gpu_device.cc:1613] Created device /job:localhost/replica:0/task:0/device:GPU:0 with 22104 MB memory:  -> device: 0, name: NVIDIA GeForce RTX 4090, pci bus id: 0000:01:00.0, compute capability: 8.9\n"
     ]
    }
   ],
   "source": [
    "# load model\n",
    "cnn = mnistCnn.MnistCnn()\n",
    "cnn.loadWeights('../neural_networks/mnist_cnn/m3_150Epochs')"
   ]
  },
  {
   "cell_type": "code",
   "execution_count": 3,
   "id": "184c0f9b-be64-4e0c-868b-d43c43aa6ca4",
   "metadata": {
    "tags": []
   },
   "outputs": [],
   "source": [
    "# load dataset\n",
    "_, (x_test, y_test) = tf.keras.datasets.mnist.load_data()\n",
    "test_data = x_test.copy()\n",
    "test_data = test_data.reshape(x_test.shape[0], 28, 28, 1)\n",
    "test_data = test_data / 255\n",
    "#print(test_data.shape)\n",
    "y_test_one_hot = np.eye(10)[y_test]"
   ]
  },
  {
   "cell_type": "code",
   "execution_count": 21,
   "id": "5c6308a5-f2c6-43a8-9cef-9bf9c8bca840",
   "metadata": {
    "tags": []
   },
   "outputs": [
    {
     "name": "stdout",
     "output_type": "stream",
     "text": [
      "(28, 28, 1)\n",
      "(28, 28, 3)\n",
      "(100, 28, 28, 1)\n",
      "(28, 28)\n",
      "(100, 28, 28, 3)\n"
     ]
    }
   ],
   "source": [
    "np.random.seed(24)\n",
    "indices = np.random.randint(0,test_data.shape[0],100)\n",
    "background = test_data[indices]\n",
    "index = np.random.randint(0,test_data.shape[0])\n",
    "#print(index in indices)\n",
    "test_image = test_data[index]\n",
    "pred = np.argmax(tf.squeeze(cnn.model(np.expand_dims(test_image,0))).numpy())\n",
    "print(test_image.shape)\n",
    "print((test := gray2rgb(test_image[:,:,0])).shape)\n",
    "print(background.shape)\n",
    "print(rgb2gray(test).shape)\n",
    "print(gray2rgb(background[:,:,:,0]).shape)"
   ]
  },
  {
   "cell_type": "code",
   "execution_count": 22,
   "id": "56f3219a-d37d-4fc3-aaef-5728cf5384bd",
   "metadata": {
    "tags": []
   },
   "outputs": [],
   "source": [
    "def rgbModel(x):\n",
    "    grayImages = rgb2gray(x)\n",
    "    if(len(grayImages.shape) == 3):\n",
    "        return cnn.model(np.expand_dims(grayImages, -1))\n",
    "    else:\n",
    "        return cnn.model(np.expand_dims(np.expand_dims(grayImages, -1), 0))"
   ]
  },
  {
   "cell_type": "code",
   "execution_count": 27,
   "id": "7d1ae8e3-34f9-4069-b914-888533ad8988",
   "metadata": {
    "tags": []
   },
   "outputs": [
    {
     "name": "stdout",
     "output_type": "stream",
     "text": [
      "tf.Tensor(\n",
      "[[3.0187766e-13 1.0058038e-11 6.7415631e-13 4.9603202e-16 9.9999988e-01\n",
      "  1.1644616e-13 7.0847654e-11 3.1884391e-13 1.9753123e-12 7.6265309e-08]], shape=(1, 10), dtype=float32)\n"
     ]
    }
   ],
   "source": [
    "print(rgbModel(gray2rgb(test_image[:,:,0])))\n",
    "#print(tf.argmax(rgbModel(gray2rgb(background[:,:,:,0]))))"
   ]
  },
  {
   "cell_type": "code",
   "execution_count": 67,
   "id": "708e0efa-8dbd-4d2d-bad3-551b07d24d41",
   "metadata": {
    "tags": []
   },
   "outputs": [],
   "source": [
    "explainer = lime_image.LimeImageExplainer(verbose = False)\n",
    "#segmenter = SegmentationAlgorithm('quickshift', kernel_size=1, max_dist=200, ratio=0.2)\n",
    "segmenter = SegmentationAlgorithm('slic', n_segments=784, compactness = 0.01, max_size_factor=1)"
   ]
  },
  {
   "cell_type": "code",
   "execution_count": 68,
   "id": "f57fe218-4d01-4796-9962-e11f450dc6c9",
   "metadata": {
    "tags": []
   },
   "outputs": [
    {
     "name": "stderr",
     "output_type": "stream",
     "text": [
      "100%|██████████| 100/100 [00:00<00:00, 949.73it/s]\n"
     ]
    }
   ],
   "source": [
    "explanation = explainer.explain_instance(gray2rgb(test_image[:,:,0]), classifier_fn = rgbModel, hide_color=0, num_samples=100, segmentation_fn = segmenter)"
   ]
  },
  {
   "cell_type": "code",
   "execution_count": 69,
   "id": "648f2590-c293-415e-8f60-17f10803dac4",
   "metadata": {
    "tags": []
   },
   "outputs": [
    {
     "data": {
      "text/plain": [
       "Text(0.5, 1.0, 'Positive/Negative Regions for 4')"
      ]
     },
     "execution_count": 69,
     "metadata": {},
     "output_type": "execute_result"
    },
    {
     "data": {
      "image/png": "[encoded data removed]",
      "text/plain": [
       "<Figure size 800x400 with 2 Axes>"
      ]
     },
     "metadata": {},
     "output_type": "display_data"
    }
   ],
   "source": [
    "temp, mask = explanation.get_image_and_mask(y_test[index], positive_only=True, num_features=10, hide_rest=False, min_weight = 0.001)\n",
    "fig, (ax1, ax2) = plt.subplots(1,2, figsize = (8, 4))\n",
    "ax1.imshow(label2rgb(mask,temp, bg_label = 0), interpolation = 'none')\n",
    "ax1.set_title('Positive Regions for {}'.format(y_test[index]))\n",
    "temp, mask = explanation.get_image_and_mask(y_test[index], positive_only=False, num_features=10, hide_rest=False, min_weight = 0.001)\n",
    "ax2.imshow(label2rgb(3-mask,temp, bg_label = 0), interpolation = 'none')\n",
    "ax2.set_title('Positive/Negative Regions for {}'.format(y_test[index]))"
   ]
  },
  {
   "cell_type": "code",
   "execution_count": 37,
   "id": "b838c421-4dbe-4f5a-96b4-16b5555c75f9",
   "metadata": {
    "tags": []
   },
   "outputs": [
    {
     "ename": "SyntaxError",
     "evalue": "invalid syntax (3352937950.py, line 1)",
     "output_type": "error",
     "traceback": [
      "\u001b[0;36m  Cell \u001b[0;32mIn[37], line 1\u001b[0;36m\u001b[0m\n\u001b[0;31m    print([0:10])\u001b[0m\n\u001b[0m            ^\u001b[0m\n\u001b[0;31mSyntaxError\u001b[0m\u001b[0;31m:\u001b[0m invalid syntax\n"
     ]
    }
   ],
   "source": [
    "print([0:10])"
   ]
  },
  {
   "cell_type": "code",
   "execution_count": null,
   "id": "7435bf86-f665-4e32-8893-ad89c4578eca",
   "metadata": {},
   "outputs": [],
   "source": []
  }
 ],
 "metadata": {
  "kernelspec": {
   "display_name": "Python 3 (ipykernel)",
   "language": "python",
   "name": "python3"
  },
  "language_info": {
   "codemirror_mode": {
    "name": "ipython",
    "version": 3
   },
   "file_extension": ".py",
   "mimetype": "text/x-python",
   "name": "python",
   "nbconvert_exporter": "python",
   "pygments_lexer": "ipython3",
   "version": "3.10.11"
  }
 },
 "nbformat": 4,
 "nbformat_minor": 5
}
