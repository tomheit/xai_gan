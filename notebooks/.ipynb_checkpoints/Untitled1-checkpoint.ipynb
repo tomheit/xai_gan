{
 "cells": [
  {
   "cell_type": "code",
   "execution_count": 1,
   "id": "b2a92334-53a0-4887-a48d-47ee9f4e5972",
   "metadata": {},
   "outputs": [],
   "source": [
    "import tensorflow as tf\n",
    "from mnistGan import MnistGan\n",
    "from mnistCnn import MnistCnn\n",
    "import numpy as np\n",
    "import matplotlib.pyplot as plt\n",
    "import copy\n",
    "#from mnistDatasetLoader import MnistDatasetLoader"
   ]
  },
  {
   "cell_type": "code",
   "execution_count": 2,
   "id": "6215d9b9-2607-4347-ad4a-07ae118ec047",
   "metadata": {},
   "outputs": [
    {
     "name": "stdout",
     "output_type": "stream",
     "text": [
      "WARNING:tensorflow:No training configuration found in save file, so the model was *not* compiled. Compile it manually.\n",
      "WARNING:tensorflow:No training configuration found in save file, so the model was *not* compiled. Compile it manually.\n"
     ]
    }
   ],
   "source": [
    "#load gan\n",
    "genPath = './NewMnistGan200Epochs/mnist_gen'\n",
    "discPath = './NewMnistGan200Epochs/mnist_disc'\n",
    "gan = MnistGan()\n",
    "gan.loadWeights(genPath, discPath)\n",
    "#load cnn\n",
    "cnn = MnistCnn()\n",
    "cnn.loadWeights('MnistCnnTEST')\n",
    "#load images\n",
    "mnist = tf.keras.datasets.mnist\n",
    "(x_train, y_train_classes), (x_test, y_test_classes) = mnist.load_data()\n",
    "x_train = np.expand_dims(x_train, -1)\n",
    "x_test = np.expand_dims(x_test, -1)\n",
    "x_train = x_train / 255\n",
    "x_test = x_test / 255"
   ]
  },
  {
   "cell_type": "code",
   "execution_count": 3,
   "id": "5c7ab86f-19ae-4fcf-be4f-cd7dd92f3f94",
   "metadata": {},
   "outputs": [],
   "source": [
    "@tf.function #target function\n",
    "def g(x, index, classifier, discriminator, discWeight):\n",
    "    # max p min y_old\n",
    "    res = discWeight*tf.math.log(discriminator(x)) - tf.math.log(tf.squeeze(classifier(x))[index])\n",
    "    return res\n",
    "\n",
    "@tf.function #second target function to max y_new\n",
    "def h(x, new_index, classifier, discriminator):\n",
    "    # max p max y_new\n",
    "    res = tf.math.log(discriminator(x)) + tf.math.log(tf.squeeze(classifier(x))[new_index])\n",
    "    return res\n",
    "\n",
    "#explainer\n",
    "def explainer(x, classifier, discriminator, maxIter, maxChange, minAlpha, discWeight):\n",
    "    epsilon = 1e-16\n",
    "    closeEnough = False\n",
    "    iter = 0\n",
    "    index = tf.argmax(tf.squeeze(classifier(x))).numpy()\n",
    "    newIndex = index\n",
    "    \n",
    "    #first while loop min y_old\n",
    "    while(not closeEnough and iter < maxIter):\n",
    "        with tf.GradientTape() as tape:\n",
    "            gRes = g(x, index, classifier, discriminator, discWeight)\n",
    "        grad = tape.gradient(gRes, x)\n",
    "        maxGrad = tf.abs(tf.reduce_max(grad))\n",
    "        alpha = tf.minimum(minAlpha, maxChange/tf.maximum(maxGrad, epsilon))\n",
    "        x.assign(x + alpha * grad)\n",
    "        x.assign(tf.clip_by_value(x, clip_value_min = 0, clip_value_max = 1))\n",
    "        iter += 1\n",
    "        newIndex = tf.argmax(tf.squeeze(classifier(x))).numpy()\n",
    "        if ((newIndex != index) and (discriminator(x).numpy() > 0)): # done when the prediction has changed\n",
    "            closeEnough = True\n",
    "    print(\"first loop done after \", iter, \" steps\")\n",
    "    \n",
    "    #second while loop max y_new\n",
    "    closeEnough = False\n",
    "    iter = 0\n",
    "    target_value = 0.9 #target value for y_new\n",
    "    while(not closeEnough and iter < maxIter):\n",
    "        with tf.GradientTape() as tape:\n",
    "            hRes = h(x, newIndex, classifier, discriminator)\n",
    "        grad = tape.gradient(hRes, x)\n",
    "        maxGrad = tf.abs(tf.reduce_max(grad))\n",
    "        alpha = tf.minimum(minAlpha, maxChange/tf.maximum(maxGrad, epsilon))\n",
    "        x.assign(x + alpha * grad)\n",
    "        x.assign(tf.clip_by_value(x, clip_value_min = 0, clip_value_max = 1))\n",
    "        iter += 1\n",
    "        y_new = tf.squeeze(classifier(x))[newIndex].numpy()\n",
    "        if(y_new >= target_value):\n",
    "            closeEnough = True\n",
    "            print(\"y_new: \", y_new)\n",
    "    print(\"second loop done after \", iter, \" steps\")\n",
    "    return iter"
   ]
  },
  {
   "cell_type": "code",
   "execution_count": 71,
   "id": "4a887edf-0a52-4862-8e04-b83239254cd6",
   "metadata": {},
   "outputs": [
    {
     "data": {
      "image/png": "[encoded data removed]",
      "text/plain": [
       "<Figure size 432x288 with 1 Axes>"
      ]
     },
     "metadata": {
      "needs_background": "light"
     },
     "output_type": "display_data"
    }
   ],
   "source": [
    "image = x_test[15]\n",
    "#print(image)\n",
    "plt.imshow(image, cmap = 'gray')\n",
    "image_ = tf.cast(np.expand_dims(image, 0), tf.float32)\n",
    "x = tf.Variable(image_)\n",
    "xOld = tf.Variable(image_)"
   ]
  },
  {
   "cell_type": "code",
   "execution_count": 72,
   "id": "25102865-74ad-41a7-ac15-672628f69509",
   "metadata": {},
   "outputs": [
    {
     "name": "stdout",
     "output_type": "stream",
     "text": [
      "[5.1328627e-08 1.3111992e-12 6.8235880e-07 3.2636654e-03 3.4143942e-12\n",
      " 9.9673402e-01 1.9460579e-07 3.7464094e-09 1.3595468e-06 8.4373561e-08]\n",
      "5\n",
      "0.075709745\n"
     ]
    }
   ],
   "source": [
    "print(cnn.predict(x).numpy().squeeze())\n",
    "print(np.argmax(cnn.predict(x).numpy().squeeze()))\n",
    "print(gan.discriminator(x).numpy().squeeze())"
   ]
  },
  {
   "cell_type": "code",
   "execution_count": 35,
   "id": "0d963a64-9d0e-4aea-a2b9-8f8d6775b68b",
   "metadata": {},
   "outputs": [
    {
     "data": {
      "text/plain": [
       "2147483648"
      ]
     },
     "execution_count": 35,
     "metadata": {},
     "output_type": "execute_result"
    }
   ],
   "source": [
    "2**31"
   ]
  },
  {
   "cell_type": "code",
   "execution_count": 73,
   "id": "83342b39-2635-4b07-9717-e713b4280f95",
   "metadata": {},
   "outputs": [
    {
     "name": "stdout",
     "output_type": "stream",
     "text": [
      "first loop done after  6  steps\n",
      "y_new:  0.94248474\n",
      "second loop done after  1  steps\n"
     ]
    }
   ],
   "source": [
    "numberOfSteps = explainer(x, cnn.model, gan.discriminator, 600, 0.099, 1000000, discWeight = 1)"
   ]
  },
  {
   "cell_type": "code",
   "execution_count": 74,
   "id": "d774084f-6f20-42f0-a726-8bf9a34389c3",
   "metadata": {},
   "outputs": [
    {
     "name": "stdout",
     "output_type": "stream",
     "text": [
      "[1.4575902e-07 5.3654026e-10 2.2392165e-05 9.4248474e-01 2.8814950e-10\n",
      " 5.7484128e-02 8.4456737e-08 2.5378944e-07 8.1581538e-06 1.2749899e-07]\n",
      "3\n",
      "(1, 10)\n"
     ]
    },
    {
     "data": {
      "image/png": "[encoded data removed]",
      "text/plain": [
       "<Figure size 432x288 with 1 Axes>"
      ]
     },
     "metadata": {
      "needs_background": "light"
     },
     "output_type": "display_data"
    }
   ],
   "source": [
    "print(cnn.predict(x).numpy().squeeze())\n",
    "print(np.argmax(cnn.predict(x).numpy().squeeze()))\n",
    "plt.imshow(x[0,:,:,:], cmap = 'gray')\n",
    "print(cnn.predict(xOld).shape)"
   ]
  },
  {
   "cell_type": "code",
   "execution_count": 75,
   "id": "add306c0-31cd-42ed-8578-2fc8460dccf9",
   "metadata": {},
   "outputs": [
    {
     "data": {
      "text/plain": [
       "<matplotlib.image.AxesImage at 0x7f3e26789a30>"
      ]
     },
     "execution_count": 75,
     "metadata": {},
     "output_type": "execute_result"
    },
    {
     "data": {
      "image/png": "[encoded data removed]",
      "text/plain": [
       "<Figure size 432x288 with 1 Axes>"
      ]
     },
     "metadata": {
      "needs_background": "light"
     },
     "output_type": "display_data"
    }
   ],
   "source": [
    "plt.imshow(xOld[0,:,:,:], cmap = 'gray')"
   ]
  },
  {
   "cell_type": "code",
   "execution_count": 30,
   "id": "33c7d1af-0d21-4200-974f-a9c3f4d355d6",
   "metadata": {},
   "outputs": [
    {
     "data": {
      "text/plain": [
       "Text(0.5, 1.0, 'input')"
      ]
     },
     "execution_count": 30,
     "metadata": {},
     "output_type": "execute_result"
    },
    {
     "data": {
      "image/png": "[encoded data removed]",
      "text/plain": [
       "<Figure size 576x288 with 3 Axes>"
      ]
     },
     "metadata": {
      "needs_background": "light"
     },
     "output_type": "display_data"
    }
   ],
   "source": [
    "with tf.GradientTape() as tape:\n",
    "    p = tf.math.log(gan.discriminator(xOld))\n",
    "grad_p = tape.gradient(p, xOld)\n",
    "\n",
    "with tf.GradientTape() as tape:\n",
    "    f = tf.math.log(cnn.predict(xOld)[0,4])\n",
    "grad_f = tape.gradient(f, xOld)\n",
    "\n",
    "_, ax = plt.subplots(1, 3, figsize = (8,4))\n",
    "ax[0].imshow(grad_p[0,:,:,0], cmap = 'gray')\n",
    "ax[0].set_title(\"saliency map of the discriminator\")\n",
    "ax[1].imshow(grad_f[0,:,:,0], cmap = 'gray')\n",
    "ax[1].set_title(\"saliency map of the classifier\")\n",
    "ax[2].imshow(xOld[0,:,:,0], cmap = 'gray')\n",
    "ax[2].set_title(\"input\")"
   ]
  },
  {
   "cell_type": "code",
   "execution_count": 42,
   "id": "d7c425c8-ee78-4ef8-8727-b0d88d015fd0",
   "metadata": {},
   "outputs": [
    {
     "name": "stdout",
     "output_type": "stream",
     "text": [
      "[4.2170818e-19 0.0000000e+00 1.0345906e-05 4.1725030e-05 3.7221289e-27\n",
      " 4.3535647e-10 4.8120175e-12 6.6425537e-12 9.9994791e-01 9.8062437e-19]\n",
      "8\n"
     ]
    },
    {
     "data": {
      "image/png": "[encoded data removed]",
      "text/plain": [
       "<Figure size 432x288 with 1 Axes>"
      ]
     },
     "metadata": {
      "needs_background": "light"
     },
     "output_type": "display_data"
    }
   ],
   "source": [
    "diff_img = xOld - 400000*grad_f\n",
    "plt.imshow(diff_img[0,:,:,0], cmap = 'gray')\n",
    "print(cnn.predict(diff_img).numpy().squeeze())\n",
    "print(np.argmax(cnn.predict(diff_img).numpy().squeeze()))"
   ]
  },
  {
   "cell_type": "code",
   "execution_count": 31,
   "id": "6c45d501-0ec8-4bde-847d-973ceb5841f5",
   "metadata": {},
   "outputs": [
    {
     "data": {
      "text/plain": [
       "Text(0.5, 1.0, 'input')"
      ]
     },
     "execution_count": 31,
     "metadata": {},
     "output_type": "execute_result"
    },
    {
     "data": {
      "image/png": "[encoded data removed]",
      "text/plain": [
       "<Figure size 576x288 with 3 Axes>"
      ]
     },
     "metadata": {
      "needs_background": "light"
     },
     "output_type": "display_data"
    }
   ],
   "source": [
    "with tf.GradientTape() as tape:\n",
    "    p = tf.math.log(gan.discriminator(x))\n",
    "grad_p = tape.gradient(p, x)\n",
    "\n",
    "with tf.GradientTape() as tape:\n",
    "    f = tf.math.log(cnn.predict(x)[0,9])\n",
    "grad_f = tape.gradient(f, x)\n",
    "\n",
    "#print(grad_p)\n",
    "\n",
    "_, ax = plt.subplots(1, 3, figsize = (8,4))\n",
    "ax[0].imshow(grad_p[0,:,:,0], cmap = 'gray')\n",
    "ax[0].set_title(\"saliency map of the discriminator\")\n",
    "ax[1].imshow(grad_f[0,:,:,0], cmap = 'gray')\n",
    "ax[1].set_title(\"saliency map of the classifier\")\n",
    "ax[2].imshow(x[0,:,:,0], cmap = 'gray')\n",
    "ax[2].set_title(\"input\")"
   ]
  },
  {
   "cell_type": "code",
   "execution_count": 80,
   "id": "60de0ce8-9c5a-43ce-8f02-0f8fa2cc1916",
   "metadata": {},
   "outputs": [
    {
     "name": "stdout",
     "output_type": "stream",
     "text": [
      "classifier output: \n",
      "[5.5426041e-13 8.5744282e-16 6.9886914e-09 9.9999630e-01 7.7186563e-15\n",
      " 3.6615613e-06 2.3312713e-13 1.8832351e-09 2.2112795e-08 2.0579001e-10]\n",
      "3\n",
      "discriminator output: \n",
      "0.09375238\n"
     ]
    },
    {
     "data": {
      "image/png": "[encoded data removed]",
      "text/plain": [
       "<Figure size 432x288 with 1 Axes>"
      ]
     },
     "metadata": {
      "needs_background": "light"
     },
     "output_type": "display_data"
    }
   ],
   "source": [
    "mod_img = tf.io.read_file('./handmodified_images/5to3Nr15.png')\n",
    "mod_img = tf.io.decode_png(mod_img, channels = 1)\n",
    "mod_img = tf.cast(np.expand_dims(mod_img,0), dtype = tf.float32)/255\n",
    "#print(mod_img)\n",
    "plt.imshow(mod_img[0,:,:,0], cmap = 'gray')\n",
    "\n",
    "mod_x = tf.Variable(mod_img)\n",
    "print('classifier output: ')\n",
    "print(cnn.predict(mod_x).numpy().squeeze())\n",
    "print(np.argmax(cnn.predict(mod_x).numpy().squeeze()))\n",
    "print('discriminator output: ')\n",
    "print(gan.discriminator(mod_x).numpy().squeeze())"
   ]
  },
  {
   "cell_type": "code",
   "execution_count": 52,
   "id": "61ac866e-039a-4564-a57b-ceb960d0edfb",
   "metadata": {},
   "outputs": [
    {
     "name": "stdout",
     "output_type": "stream",
     "text": [
      "(28, 28, 1)\n",
      "(1, 28, 28, 1)\n",
      "(1, 28, 28, 1)\n",
      "(1, 28, 28, 1)\n",
      "(1, 28, 28, 1)\n"
     ]
    },
    {
     "data": {
      "text/plain": [
       "Text(0.5, 1.0, 'ones')"
      ]
     },
     "execution_count": 52,
     "metadata": {},
     "output_type": "execute_result"
    },
    {
     "data": {
      "image/png": "[encoded data removed]",
      "text/plain": [
       "<Figure size 576x288 with 2 Axes>"
      ]
     },
     "metadata": {
      "needs_background": "light"
     },
     "output_type": "display_data"
    }
   ],
   "source": [
    "#grad of discriminator for 0 and 1\n",
    "ones = tf.ones_like(x_test[4])\n",
    "zeros = tf.zeros_like(x_test[4])\n",
    "print(ones.shape)\n",
    "\n",
    "ones_expanded = tf.Variable(tf.cast(tf.expand_dims(ones, 0), tf.float32))\n",
    "zeros_expanded = tf.Variable(tf.cast(tf.expand_dims(zeros, 0), tf.float32))\n",
    "print(ones_expanded.shape)\n",
    "print(zeros_expanded.shape)\n",
    "\n",
    "with tf.GradientTape() as tape:\n",
    "    disc_zeros = gan.discriminator(zeros_expanded)\n",
    "grad_zeros = tape.gradient(disc_zeros, zeros_expanded)\n",
    "\n",
    "with tf.GradientTape() as tape:\n",
    "    disc_ones = gan.discriminator(ones_expanded)\n",
    "    #print(disc_ones)\n",
    "grad_ones = tape.gradient(disc_ones, ones_expanded)\n",
    "#print(grad_ones)\n",
    "\n",
    "print(grad_zeros.shape)\n",
    "print(grad_ones.shape)\n",
    "\n",
    "_, ax = plt.subplots(1, 2, figsize = (8,4))\n",
    "ax[0].imshow(grad_zeros[0,:,:,0], cmap = 'gray')\n",
    "ax[0].set_title(\"zeros\")\n",
    "ax[1].imshow(grad_ones[0,:,:,0], cmap = 'gray')\n",
    "ax[1].set_title(\"ones\")"
   ]
  },
  {
   "cell_type": "code",
   "execution_count": null,
   "id": "038c7257-539a-4792-8757-fb0c48f77b3d",
   "metadata": {},
   "outputs": [],
   "source": []
  }
 ],
 "metadata": {
  "kernelspec": {
   "display_name": "Python 3",
   "language": "python",
   "name": "python3"
  },
  "language_info": {
   "codemirror_mode": {
    "name": "ipython",
    "version": 3
   },
   "file_extension": ".py",
   "mimetype": "text/x-python",
   "name": "python",
   "nbconvert_exporter": "python",
   "pygments_lexer": "ipython3",
   "version": "3.9.2"
  }
 },
 "nbformat": 4,
 "nbformat_minor": 5
}
