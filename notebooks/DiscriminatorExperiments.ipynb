{
 "cells": [
  {
   "cell_type": "code",
   "execution_count": 25,
   "id": "2a738dcf-3dfe-448b-9316-fd53a8e515d8",
   "metadata": {
    "tags": []
   },
   "outputs": [],
   "source": [
    "import importlib\n",
    "import sys, getopt\n",
    "import os\n",
    "import tensorflow as tf\n",
    "import numpy as np\n",
    "import matplotlib.pyplot as plt\n",
    "import time\n",
    "sys.path.append('../neural_networks/mnist_wgan')\n",
    "import wganDiscriminator"
   ]
  },
  {
   "cell_type": "code",
   "execution_count": 44,
   "id": "3e13f2f4-814e-45d2-9df1-cd9e496737cc",
   "metadata": {
    "tags": []
   },
   "outputs": [],
   "source": [
    "(X_train, y_train), (x_test, y_test) = tf.keras.datasets.mnist.load_data()\n",
    "img_data = X_train.copy()\n",
    "img_data = img_data.reshape(X_train.shape[0], 28, 28, 1)\n",
    "img_data = img_data / 255 #pixel values in [0,1]\n",
    "#print(img_data.shape)\n",
    "test_data = x_test.copy()\n",
    "test_data = test_data.reshape(x_test.shape[0], 28, 28, 1)\n",
    "test_data = test_data / 255\n",
    "#print(test_data.shape)\n",
    "y_test_one_hot = np.eye(10)[y_test]"
   ]
  },
  {
   "cell_type": "code",
   "execution_count": 26,
   "id": "c8ab5805-6ab0-4140-b240-658e7b4647fc",
   "metadata": {
    "tags": []
   },
   "outputs": [
    {
     "name": "stdout",
     "output_type": "stream",
     "text": [
      "WARNING:tensorflow:No training configuration found in the save file, so the model was *not* compiled. Compile it manually.\n"
     ]
    }
   ],
   "source": [
    "# load gan\n",
    "discriminator = wganDiscriminator.WganDiscriminator()\n",
    "#genPath = \"./wGan_1000_epochs/wgan_generator.h5\"\n",
    "discPath = \"../neural_networks/mnist_wgan/wGan_1000_epochs/wgan_discriminator.h5\"\n",
    "#invPath = \"./wGan_1000_epochs/wgan_inverter.h5\"\n",
    "discriminator.load_discriminator(discPath)"
   ]
  },
  {
   "cell_type": "code",
   "execution_count": 52,
   "id": "cb519c11-ce9f-41b5-9e13-3865e47f5c1c",
   "metadata": {
    "tags": []
   },
   "outputs": [
    {
     "name": "stdout",
     "output_type": "stream",
     "text": [
      "0.1243498\n"
     ]
    }
   ],
   "source": [
    "x_test_batch = tf.Variable(tf.cast(test_data, tf.float32))\n",
    "disc_output = discriminator.discriminator(x_test_batch)\n",
    "threshold = tf.reduce_max(disc_output).numpy()\n",
    "print(threshold)"
   ]
  },
  {
   "cell_type": "code",
   "execution_count": 27,
   "id": "e65a1161-99dd-4ad3-93e4-df32b3214cbc",
   "metadata": {
    "tags": []
   },
   "outputs": [
    {
     "name": "stdout",
     "output_type": "stream",
     "text": [
      "tf.Tensor([0.05829325], shape=(1,), dtype=float32)\n"
     ]
    }
   ],
   "source": [
    "blank_img = np.zeros(shape = (28, 28))\n",
    "blank_img = np.expand_dims(blank_img, -1)\n",
    "blank_img = np.expand_dims(blank_img, 0)\n",
    "x_blank = tf.Variable(tf.cast(blank_img, tf.float32))\n",
    "pred_blank = discriminator.discriminator(x_blank)\n",
    "pred_blank_prob = tf.math.sigmoid(pred_blank)\n",
    "print(pred_blank)"
   ]
  },
  {
   "cell_type": "code",
   "execution_count": 28,
   "id": "973c4d76-36ca-4316-85b4-99d08546a327",
   "metadata": {
    "tags": []
   },
   "outputs": [
    {
     "name": "stdout",
     "output_type": "stream",
     "text": [
      "tf.Tensor([-0.7413522], shape=(1,), dtype=float32)\n"
     ]
    }
   ],
   "source": [
    "rand_img = np.random.uniform(0,1,(28,28))\n",
    "rand_img = np.expand_dims(rand_img, -1)\n",
    "rand_img = np.expand_dims(rand_img, 0)\n",
    "x_rand = tf.Variable(tf.cast(rand_img, tf.float32))\n",
    "pred_rand = discriminator.discriminator(x_rand)\n",
    "pred_rand_prob = tf.math.sigmoid(pred_rand)\n",
    "print(pred_rand)"
   ]
  },
  {
   "cell_type": "code",
   "execution_count": 57,
   "id": "ab71e043-809e-4ab7-a7ed-9d9ae3bd9b17",
   "metadata": {
    "tags": []
   },
   "outputs": [],
   "source": [
    "def maxDisc(x):\n",
    "    endCond = False\n",
    "    iter = 0\n",
    "    maxIter = 1000\n",
    "    epsilon = 0.1\n",
    "    while(not endCond and iter < maxIter):\n",
    "        with tf.GradientTape() as tape:\n",
    "            result = discriminator.discriminator(x)\n",
    "        grad = tape.gradient(result, x)\n",
    "        x.assign(x + epsilon * grad)\n",
    "        x.assign(tf.clip_by_value(x, clip_value_min = 0, clip_value_max = 1))\n",
    "        iter += 1\n",
    "        #pred_temp = tf.math.sigmoid(discriminator.discriminator(x))\n",
    "        pred_temp = discriminator.discriminator(x)\n",
    "        if(iter % 100 == 0):\n",
    "            print(iter)\n",
    "            print(pred_temp)\n",
    "        if(pred_temp >= 0.99*threshold):\n",
    "            endCond = True"
   ]
  },
  {
   "cell_type": "code",
   "execution_count": 58,
   "id": "a699eb34-06d1-427d-8d76-dc43e3503715",
   "metadata": {
    "tags": []
   },
   "outputs": [],
   "source": [
    "x_blank_hat = tf.Variable(tf.identity(x_blank))\n",
    "x_rand_hat = tf.Variable(tf.identity(x_rand))"
   ]
  },
  {
   "cell_type": "code",
   "execution_count": 59,
   "id": "9a93e0e6-6d90-4174-b8fa-d1ef12d880a9",
   "metadata": {},
   "outputs": [
    {
     "name": "stdout",
     "output_type": "stream",
     "text": [
      "100\n",
      "tf.Tensor([0.10238427], shape=(1,), dtype=float32)\n",
      "100\n",
      "tf.Tensor([-0.42184895], shape=(1,), dtype=float32)\n",
      "200\n",
      "tf.Tensor([-0.19458523], shape=(1,), dtype=float32)\n",
      "300\n",
      "tf.Tensor([-0.02662325], shape=(1,), dtype=float32)\n",
      "400\n",
      "tf.Tensor([0.07993555], shape=(1,), dtype=float32)\n"
     ]
    }
   ],
   "source": [
    "maxDisc(x_blank_hat)\n",
    "maxDisc(x_rand_hat)"
   ]
  },
  {
   "cell_type": "code",
   "execution_count": 63,
   "id": "740f1b34-cd3b-4156-b3fa-4744402f07e9",
   "metadata": {
    "tags": []
   },
   "outputs": [
    {
     "data": {
      "image/png": "[encoded data removed]",
      "text/plain": [
       "<Figure size 1200x800 with 4 Axes>"
      ]
     },
     "metadata": {},
     "output_type": "display_data"
    }
   ],
   "source": [
    "fig, ax = plt.subplots(1,4, figsize=(12,8))\n",
    "ax[0].imshow(x_blank[0,:,:,0], cmap = 'gray', interpolation = 'none')\n",
    "ax[1].imshow(x_blank_hat[0,:,:,0], cmap = 'gray', interpolation = 'none')\n",
    "ax[2].imshow(x_rand[0,:,:,0], cmap = 'gray', interpolation = 'none')\n",
    "ax[3].imshow(x_rand_hat[0,:,:,0], cmap = 'gray', interpolation = 'none')\n",
    "plt.savefig(\"DiscMaximization\")"
   ]
  },
  {
   "cell_type": "code",
   "execution_count": null,
   "id": "0eb7a4b8-d76c-428e-98b7-528613c4c3b7",
   "metadata": {},
   "outputs": [],
   "source": []
  }
 ],
 "metadata": {
  "kernelspec": {
   "display_name": "Python 3 (ipykernel)",
   "language": "python",
   "name": "python3"
  },
  "language_info": {
   "codemirror_mode": {
    "name": "ipython",
    "version": 3
   },
   "file_extension": ".py",
   "mimetype": "text/x-python",
   "name": "python",
   "nbconvert_exporter": "python",
   "pygments_lexer": "ipython3",
   "version": "3.10.11"
  }
 },
 "nbformat": 4,
 "nbformat_minor": 5
}
