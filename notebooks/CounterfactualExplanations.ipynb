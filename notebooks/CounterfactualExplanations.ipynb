{
 "cells": [
  {
   "cell_type": "code",
   "execution_count": 1,
   "id": "f9dfe59e-eaf0-4ae9-8f7e-1790b8186a28",
   "metadata": {},
   "outputs": [
    {
     "name": "stderr",
     "output_type": "stream",
     "text": [
      "2024-03-19 13:47:33.177276: I tensorflow/core/platform/cpu_feature_guard.cc:193] This TensorFlow binary is optimized with oneAPI Deep Neural Network Library (oneDNN) to use the following CPU instructions in performance-critical operations:  AVX2 AVX512F AVX512_VNNI AVX512_BF16 FMA\n",
      "To enable them in other operations, rebuild TensorFlow with the appropriate compiler flags.\n",
      "2024-03-19 13:47:33.242393: I tensorflow/core/util/port.cc:104] oneDNN custom operations are on. You may see slightly different numerical results due to floating-point round-off errors from different computation orders. To turn them off, set the environment variable `TF_ENABLE_ONEDNN_OPTS=0`.\n",
      "2024-03-19 13:47:33.509986: W tensorflow/compiler/xla/stream_executor/platform/default/dso_loader.cc:64] Could not load dynamic library 'libnvinfer.so.7'; dlerror: libnvinfer.so.7: cannot open shared object file: No such file or directory; LD_LIBRARY_PATH: :/opt/conda/envs/cuda-11.2/lib\n",
      "2024-03-19 13:47:33.510032: W tensorflow/compiler/xla/stream_executor/platform/default/dso_loader.cc:64] Could not load dynamic library 'libnvinfer_plugin.so.7'; dlerror: libnvinfer_plugin.so.7: cannot open shared object file: No such file or directory; LD_LIBRARY_PATH: :/opt/conda/envs/cuda-11.2/lib\n",
      "2024-03-19 13:47:33.510036: W tensorflow/compiler/tf2tensorrt/utils/py_utils.cc:38] TF-TRT Warning: Cannot dlopen some TensorRT libraries. If you would like to use Nvidia GPU with TensorRT, please make sure the missing libraries mentioned above are installed properly.\n"
     ]
    }
   ],
   "source": [
    "import sys\n",
    "import numpy as np\n",
    "import tensorflow as tf\n",
    "import matplotlib.pyplot as plt\n",
    "from matplotlib import colors\n",
    "sys.path.append('../neural_networks/mnist_cnn')\n",
    "import mnistCnn"
   ]
  },
  {
   "cell_type": "code",
   "execution_count": 2,
   "id": "ed29d6c8-fb91-4acd-95c3-8ae85c34e4f0",
   "metadata": {},
   "outputs": [],
   "source": [
    "# load mnist dataset\n",
    "(X_train, y_train), (x_test, y_test) = tf.keras.datasets.mnist.load_data()\n",
    "img_data = X_train.copy()\n",
    "img_data = img_data.reshape(X_train.shape[0], 28, 28, 1)\n",
    "img_data = img_data / 255 #pixel values in [0,1]\n",
    "test_data = x_test.copy()\n",
    "test_data = test_data.reshape(x_test.shape[0], 28, 28, 1)\n",
    "test_data = test_data / 255"
   ]
  },
  {
   "cell_type": "code",
   "execution_count": 3,
   "id": "6d19d6b9-be22-4228-b782-30eab8d8bf5c",
   "metadata": {},
   "outputs": [
    {
     "name": "stderr",
     "output_type": "stream",
     "text": [
      "2024-03-19 13:47:37.090202: I tensorflow/compiler/xla/stream_executor/cuda/cuda_gpu_executor.cc:981] successful NUMA node read from SysFS had negative value (-1), but there must be at least one NUMA node, so returning NUMA node zero\n",
      "2024-03-19 13:47:37.093445: I tensorflow/compiler/xla/stream_executor/cuda/cuda_gpu_executor.cc:981] successful NUMA node read from SysFS had negative value (-1), but there must be at least one NUMA node, so returning NUMA node zero\n",
      "2024-03-19 13:47:37.093551: I tensorflow/compiler/xla/stream_executor/cuda/cuda_gpu_executor.cc:981] successful NUMA node read from SysFS had negative value (-1), but there must be at least one NUMA node, so returning NUMA node zero\n",
      "2024-03-19 13:47:37.093879: I tensorflow/core/platform/cpu_feature_guard.cc:193] This TensorFlow binary is optimized with oneAPI Deep Neural Network Library (oneDNN) to use the following CPU instructions in performance-critical operations:  AVX2 AVX512F AVX512_VNNI AVX512_BF16 FMA\n",
      "To enable them in other operations, rebuild TensorFlow with the appropriate compiler flags.\n",
      "2024-03-19 13:47:37.094786: I tensorflow/compiler/xla/stream_executor/cuda/cuda_gpu_executor.cc:981] successful NUMA node read from SysFS had negative value (-1), but there must be at least one NUMA node, so returning NUMA node zero\n",
      "2024-03-19 13:47:37.094894: I tensorflow/compiler/xla/stream_executor/cuda/cuda_gpu_executor.cc:981] successful NUMA node read from SysFS had negative value (-1), but there must be at least one NUMA node, so returning NUMA node zero\n",
      "2024-03-19 13:47:37.094977: I tensorflow/compiler/xla/stream_executor/cuda/cuda_gpu_executor.cc:981] successful NUMA node read from SysFS had negative value (-1), but there must be at least one NUMA node, so returning NUMA node zero\n",
      "2024-03-19 13:47:37.364028: I tensorflow/compiler/xla/stream_executor/cuda/cuda_gpu_executor.cc:981] successful NUMA node read from SysFS had negative value (-1), but there must be at least one NUMA node, so returning NUMA node zero\n",
      "2024-03-19 13:47:37.364172: I tensorflow/compiler/xla/stream_executor/cuda/cuda_gpu_executor.cc:981] successful NUMA node read from SysFS had negative value (-1), but there must be at least one NUMA node, so returning NUMA node zero\n",
      "2024-03-19 13:47:37.364261: I tensorflow/compiler/xla/stream_executor/cuda/cuda_gpu_executor.cc:981] successful NUMA node read from SysFS had negative value (-1), but there must be at least one NUMA node, so returning NUMA node zero\n",
      "2024-03-19 13:47:37.364346: I tensorflow/core/common_runtime/gpu/gpu_device.cc:1613] Created device /job:localhost/replica:0/task:0/device:GPU:0 with 136 MB memory:  -> device: 0, name: NVIDIA GeForce RTX 4090, pci bus id: 0000:01:00.0, compute capability: 8.9\n",
      "2024-03-19 13:47:37.373305: I tensorflow/compiler/xla/stream_executor/cuda/cuda_driver.cc:735] failed to allocate 136.38M (142999552 bytes) from device: CUDA_ERROR_OUT_OF_MEMORY: out of memory\n"
     ]
    }
   ],
   "source": [
    "cnn = mnistCnn.MnistCnn()\n",
    "cnn.loadWeights('../neural_networks/mnist_cnn/largerCnn30Epochs')\n",
    "cnnLoss = tf.keras.losses.CategoricalCrossentropy(from_logits = False)"
   ]
  },
  {
   "cell_type": "code",
   "execution_count": 5,
   "id": "1064b59e-f801-4f5e-a979-540132151699",
   "metadata": {},
   "outputs": [
    {
     "name": "stdout",
     "output_type": "stream",
     "text": [
      "(28, 28, 1)\n",
      "(28, 28, 1)\n",
      "(1, 28, 28, 1)\n",
      "(1, 28, 28, 1)\n"
     ]
    },
    {
     "data": {
      "text/plain": [
       "<matplotlib.image.AxesImage at 0x7fd2f0629e10>"
      ]
     },
     "execution_count": 5,
     "metadata": {},
     "output_type": "execute_result"
    },
    {
     "data": {
      "image/png": "[encoded data removed]",
      "text/plain": [
       "<Figure size 640x480 with 1 Axes>"
      ]
     },
     "metadata": {},
     "output_type": "display_data"
    }
   ],
   "source": [
    "err = 1e-16\n",
    "x_median = np.median(test_data, axis=0)\n",
    "print(x_median.shape)\n",
    "x_0 = test_data[0]\n",
    "MAD = np.median(np.abs(test_data - x_median), axis = 0)\n",
    "print(MAD.shape)\n",
    "MAD_tf = tf.constant(tf.cast(np.expand_dims(MAD, 0), tf.float32))\n",
    "print(MAD_tf.shape)\n",
    "mask = tf.equal(MAD_tf, 0.0)\n",
    "MAD_tf_err = tf.where(mask, tf.fill(MAD_tf.shape, err), MAD_tf)\n",
    "print(MAD_tf_err.shape)\n",
    "plt.imshow(MAD_tf_err[0], cmap = 'gray', interpolation = 'none')"
   ]
  },
  {
   "cell_type": "code",
   "execution_count": 69,
   "id": "71524a8a-1b9b-4a79-a9a4-fbbc5d382482",
   "metadata": {},
   "outputs": [
    {
     "data": {
      "text/plain": [
       "'def dist_np(x_old, x_new):\\n    diff = np.abs(x_old - x_new)\\n    result = np.zeros_like(x_old, dtype = float)\\n    for i in range(x_old.shape[0]):\\n        for j in range(x_old.shape[1]):\\n            result[i][j] = diff[i][j] / np.maximum(MAD[i][j], 1e-16)\\n    result = np.sum(result)\\n    return result'"
      ]
     },
     "execution_count": 69,
     "metadata": {},
     "output_type": "execute_result"
    }
   ],
   "source": [
    "\"\"\"def dist_np(x_old, x_new):\n",
    "    diff = np.abs(x_old - x_new)\n",
    "    result = np.zeros_like(x_old, dtype = float)\n",
    "    for i in range(x_old.shape[0]):\n",
    "        for j in range(x_old.shape[1]):\n",
    "            result[i][j] = diff[i][j] / np.maximum(MAD[i][j], 1e-16)\n",
    "    result = np.sum(result)\n",
    "    return result\"\"\""
   ]
  },
  {
   "cell_type": "code",
   "execution_count": 70,
   "id": "ac7f1968-9a22-4587-bb40-8361f9e12580",
   "metadata": {},
   "outputs": [],
   "source": [
    "@tf.function\n",
    "def dist(x_old, x_new):\n",
    "    diff = tf.math.abs(x_old - x_new)\n",
    "    result = tf.math.divide(diff, MAD_tf_err)\n",
    "    return tf.math.reduce_sum(result)"
   ]
  },
  {
   "cell_type": "code",
   "execution_count": 88,
   "id": "c456a4a1-8ee2-4326-9192-318c2d5207e9",
   "metadata": {},
   "outputs": [
    {
     "name": "stdout",
     "output_type": "stream",
     "text": [
      "(1, 28, 28, 1)\n",
      "(1, 28, 28, 1)\n",
      "WARNING:tensorflow:5 out of the last 5 calls to <function dist at 0x7ff634b725e0> triggered tf.function retracing. Tracing is expensive and the excessive number of tracings could be due to (1) creating @tf.function repeatedly in a loop, (2) passing tensors with different shapes, (3) passing Python objects instead of tensors. For (1), please define your @tf.function outside of the loop. For (2), @tf.function has experimental_relax_shapes=True option that relaxes argument shapes that can avoid unnecessary retracing. For (3), please refer to https://www.tensorflow.org/guide/function#controlling_retracing and https://www.tensorflow.org/api_docs/python/tf/function for  more details.\n",
      "tf.Tensor(8.503922e+17, shape=(), dtype=float32)\n"
     ]
    },
    {
     "data": {
      "text/plain": [
       "<matplotlib.image.AxesImage at 0x7ff6335e8340>"
      ]
     },
     "execution_count": 88,
     "metadata": {},
     "output_type": "execute_result"
    },
    {
     "data": {
      "image/png": "[encoded data removed]",
      "text/plain": [
       "<Figure size 432x288 with 1 Axes>"
      ]
     },
     "metadata": {
      "needs_background": "light"
     },
     "output_type": "display_data"
    }
   ],
   "source": [
    "x_test1 = tf.Variable(tf.cast(np.expand_dims(test_data[4],0), tf.float32))\n",
    "x_test2 = tf.Variable(tf.cast(np.expand_dims(test_data[1],0), tf.float32))\n",
    "print(x_test1.shape)\n",
    "print(x_test2.shape)\n",
    "dist_test = dist(x_test1, x_test2)\n",
    "print(dist_test)\n",
    "plt.imshow(x_test1[0,:,:,0], cmap = 'gray', interpolation = 'none')"
   ]
  },
  {
   "cell_type": "code",
   "execution_count": 151,
   "id": "3441782f-a19a-478d-b8c6-ed302bbba055",
   "metadata": {},
   "outputs": [],
   "source": [
    "@tf.function\n",
    "def target_function(x_old, x_new, y_new):\n",
    "    unitVector = tf.reshape(tf.one_hot(indices = y_new, depth = 10), shape = (1,10)) #y_new as vector\n",
    "    return -cnnLoss(cnn.model(x_new), unitVector) - dist(x_old, x_new)\n",
    "\n",
    "@tf.function\n",
    "def target_function_2(x_old, x_new, y_new):\n",
    "    unitVector = tf.reshape(tf.one_hot(indices = y_new, depth = 10), shape = (1,10)) #y_new as vector\n",
    "    return -tf.square(cnn.model(x_new) - unitVector) - dist(x_old, x_new)"
   ]
  },
  {
   "cell_type": "code",
   "execution_count": 152,
   "id": "7d82af68-7449-480f-a017-77baab5d8da4",
   "metadata": {},
   "outputs": [],
   "source": [
    "def gen_counterfactual(x, y_old, y_new, cnn, max_iter = 600, max_change = 0.01):\n",
    "    closeEnough = False\n",
    "    iter = 0\n",
    "    # x will not be changed\n",
    "    # x_new will be changed\n",
    "    #x_new = tf.Variable(tf.identity(x))\n",
    "    x_new = tf.Variable(tf.cast(np.expand_dims(np.expand_dims(np.random.rand(28,28), -1), 0), tf.float32))\n",
    "    while(not closeEnough and iter < max_iter):\n",
    "        with tf.GradientTape() as tape:\n",
    "            res = target_function_2(x, x_new, y_new)\n",
    "        grad = tape.gradient(res, x_new)\n",
    "        max_grad = tf.abs(tf.reduce_max(grad))\n",
    "        alpha = tf.minimum(1.0, max_change/tf.maximum(max_grad, 1e-16))\n",
    "        x_new.assign(x_new + (alpha * grad))\n",
    "        x_new.assign(tf.clip_by_value(x_new, clip_value_min = 0, clip_value_max = 1))\n",
    "        iter += 1\n",
    "        pred_new = tf.argmax(tf.squeeze(cnn.model(x_new))).numpy()\n",
    "        if(pred_new == y_new):\n",
    "            closeEnough = True\n",
    "    print(iter)\n",
    "    return x_new"
   ]
  },
  {
   "cell_type": "code",
   "execution_count": 153,
   "id": "70531982-03b7-49f5-a6a2-195068411276",
   "metadata": {},
   "outputs": [
    {
     "name": "stdout",
     "output_type": "stream",
     "text": [
      "4\n",
      "1000\n",
      "1000\n",
      "1000\n",
      "1000\n",
      "1000\n",
      "1000\n",
      "1000\n",
      "1\n",
      "8\n"
     ]
    },
    {
     "data": {
      "image/png": "[encoded data removed]",
      "text/plain": [
       "<Figure size 2880x28800 with 11 Axes>"
      ]
     },
     "metadata": {
      "needs_background": "light"
     },
     "output_type": "display_data"
    }
   ],
   "source": [
    "norm = colors.Normalize(vmin = 0, vmax = 1)\n",
    "fig, ax = plt.subplots(1, 11, sharey = False, figsize = (40, 400))\n",
    "y_test1 = y_test[4]\n",
    "print(y_test1)\n",
    "ax[0].imshow(x_test1[0,:,:,0], cmap = 'gray', interpolation = 'none')\n",
    "ax[0].set_title('orig')\n",
    "ax[0].axis('off')\n",
    "for i in range(10):\n",
    "    if(y_test1 == i):\n",
    "        ax[i+1].imshow(x_test1[0,:,:,0], cmap = 'gray', interpolation = 'none')\n",
    "        ax[i+1].set_title('orig')\n",
    "        ax[i+1].axis('off')\n",
    "        continue\n",
    "    counterfactual = gen_counterfactual(x = x_test1, y_old = y_test1, y_new = i, cnn = cnn, max_iter = 1000, max_change = 0.1)\n",
    "    tempImg = ax[i+1].imshow(counterfactual[0,:,:,0], cmap = 'gray', interpolation = 'none')\n",
    "    pred = tf.argmax(tf.squeeze(cnn.model(counterfactual))).numpy()\n",
    "    ax[i+1].set_title(str(pred))\n",
    "    tempImg.set_norm(norm)\n",
    "    ax[i+1].axis('off')\n",
    "plt.subplots_adjust(wspace = 0.0, hspace = 0.4)"
   ]
  },
  {
   "cell_type": "code",
   "execution_count": 75,
   "id": "cc1572b8-2223-4fb9-8fb2-993bf35afe90",
   "metadata": {},
   "outputs": [
    {
     "name": "stdout",
     "output_type": "stream",
     "text": [
      "(1, 28, 28, 1)\n"
     ]
    }
   ],
   "source": [
    "rand = np.expand_dims(np.expand_dims(np.random.rand(28,28), -1), 0)\n",
    "print(rand.shape)"
   ]
  },
  {
   "cell_type": "code",
   "execution_count": 143,
   "id": "d4b9175c-0f62-4cd6-bdda-0ff7d7053f3f",
   "metadata": {},
   "outputs": [
    {
     "name": "stdout",
     "output_type": "stream",
     "text": [
      "7\n",
      "[1.0865059e-02 1.8975981e-04 2.5250338e-04 3.5079158e-04 1.9409725e-02\n",
      " 1.6367743e-04 7.5722736e-04 6.5909058e-04 3.7253916e-01 5.9481305e-01]\n",
      "5\n"
     ]
    },
    {
     "data": {
      "image/png": "[encoded data removed]",
      "text/plain": [
       "<Figure size 432x288 with 1 Axes>"
      ]
     },
     "metadata": {
      "needs_background": "light"
     },
     "output_type": "display_data"
    }
   ],
   "source": [
    "counterfactual_test = gen_counterfactual(x = x_test1, y_old = y_test1, y_new = 9, cnn = cnn, max_iter = 1000, max_change = 0.1)\n",
    "pred_counterfactual_test = tf.squeeze(cnn.model(counterfactual_test)).numpy()\n",
    "print(pred_counterfactual_test)\n",
    "print(tf.argmin(pred_counterfactual_test).numpy())\n",
    "img_test = plt.imshow(counterfactual_test[0,:,:,0], cmap = 'gray', interpolation = 'none')\n",
    "img_test.set_norm(norm)"
   ]
  },
  {
   "cell_type": "code",
   "execution_count": null,
   "id": "b2bfaac3-cdf0-47ee-af42-12edd276c63a",
   "metadata": {},
   "outputs": [],
   "source": []
  }
 ],
 "metadata": {
  "kernelspec": {
   "display_name": "Python 3 (ipykernel)",
   "language": "python",
   "name": "python3"
  },
  "language_info": {
   "codemirror_mode": {
    "name": "ipython",
    "version": 3
   },
   "file_extension": ".py",
   "mimetype": "text/x-python",
   "name": "python",
   "nbconvert_exporter": "python",
   "pygments_lexer": "ipython3",
   "version": "3.10.11"
  }
 },
 "nbformat": 4,
 "nbformat_minor": 5
}
