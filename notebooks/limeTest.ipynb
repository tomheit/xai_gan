{
 "cells": [
  {
   "cell_type": "code",
   "execution_count": 40,
   "id": "1a8b5687-2c72-4a9b-9a79-7b5e4d9d6b41",
   "metadata": {
    "tags": []
   },
   "outputs": [
    {
     "name": "stdout",
     "output_type": "stream",
     "text": [
      "Requirement already satisfied: lime in /opt/conda/lib/python3.10/site-packages (0.2.0.1)\n",
      "Requirement already satisfied: matplotlib in /opt/conda/lib/python3.10/site-packages (from lime) (3.8.2)\n",
      "Requirement already satisfied: numpy in /opt/conda/lib/python3.10/site-packages (from lime) (1.26.0)\n",
      "Requirement already satisfied: scipy in /opt/conda/lib/python3.10/site-packages (from lime) (1.11.3)\n",
      "Requirement already satisfied: tqdm in /opt/conda/lib/python3.10/site-packages (from lime) (4.65.0)\n",
      "Requirement already satisfied: scikit-learn>=0.18 in /opt/conda/lib/python3.10/site-packages (from lime) (1.3.2)\n",
      "Requirement already satisfied: scikit-image>=0.12 in /opt/conda/lib/python3.10/site-packages (from lime) (0.22.0)\n",
      "Requirement already satisfied: networkx>=2.8 in /opt/conda/lib/python3.10/site-packages (from scikit-image>=0.12->lime) (3.2.1)\n",
      "Requirement already satisfied: pillow>=9.0.1 in /opt/conda/lib/python3.10/site-packages (from scikit-image>=0.12->lime) (10.1.0)\n",
      "Requirement already satisfied: imageio>=2.27 in /opt/conda/lib/python3.10/site-packages (from scikit-image>=0.12->lime) (2.31.5)\n",
      "Requirement already satisfied: tifffile>=2022.8.12 in /opt/conda/lib/python3.10/site-packages (from scikit-image>=0.12->lime) (2023.9.26)\n",
      "Requirement already satisfied: packaging>=21 in /opt/conda/lib/python3.10/site-packages (from scikit-image>=0.12->lime) (23.1)\n",
      "Requirement already satisfied: lazy_loader>=0.3 in /opt/conda/lib/python3.10/site-packages (from scikit-image>=0.12->lime) (0.3)\n",
      "Requirement already satisfied: joblib>=1.1.1 in /opt/conda/lib/python3.10/site-packages (from scikit-learn>=0.18->lime) (1.3.2)\n",
      "Requirement already satisfied: threadpoolctl>=2.0.0 in /opt/conda/lib/python3.10/site-packages (from scikit-learn>=0.18->lime) (3.2.0)\n",
      "Requirement already satisfied: contourpy>=1.0.1 in /opt/conda/lib/python3.10/site-packages (from matplotlib->lime) (1.2.0)\n",
      "Requirement already satisfied: cycler>=0.10 in /opt/conda/lib/python3.10/site-packages (from matplotlib->lime) (0.12.1)\n",
      "Requirement already satisfied: fonttools>=4.22.0 in /opt/conda/lib/python3.10/site-packages (from matplotlib->lime) (4.45.0)\n",
      "Requirement already satisfied: kiwisolver>=1.3.1 in /opt/conda/lib/python3.10/site-packages (from matplotlib->lime) (1.4.5)\n",
      "Requirement already satisfied: pyparsing>=2.3.1 in /opt/conda/lib/python3.10/site-packages (from matplotlib->lime) (3.1.1)\n",
      "Requirement already satisfied: python-dateutil>=2.7 in /opt/conda/lib/python3.10/site-packages (from matplotlib->lime) (2.8.2)\n",
      "Requirement already satisfied: six>=1.5 in /opt/conda/lib/python3.10/site-packages (from python-dateutil>=2.7->matplotlib->lime) (1.16.0)\n"
     ]
    }
   ],
   "source": [
    "import sys\n",
    "import tensorflow as tf\n",
    "import numpy as np\n",
    "import matplotlib.pyplot as plt\n",
    "sys.path.append('../neural_networks/mnist_cnn')\n",
    "import mnistCnn\n",
    "from skimage.color import gray2rgb, rgb2gray, label2rgb\n",
    "!{sys.executable} -m pip install lime # install shap\n",
    "from lime import lime_image\n",
    "from lime.wrappers.scikit_image import SegmentationAlgorithm"
   ]
  },
  {
   "cell_type": "code",
   "execution_count": 41,
   "id": "50ea7504-77e2-413f-abbd-d067d3771d4d",
   "metadata": {
    "tags": []
   },
   "outputs": [],
   "source": [
    "# load model\n",
    "cnn = mnistCnn.MnistCnn()\n",
    "cnn.loadWeights('../neural_networks/mnist_cnn/m3_150Epochs')"
   ]
  },
  {
   "cell_type": "code",
   "execution_count": 42,
   "id": "184c0f9b-be64-4e0c-868b-d43c43aa6ca4",
   "metadata": {
    "tags": []
   },
   "outputs": [],
   "source": [
    "# load dataset\n",
    "_, (x_test, y_test) = tf.keras.datasets.mnist.load_data()\n",
    "test_data = x_test.copy()\n",
    "test_data = test_data.reshape(x_test.shape[0], 28, 28, 1)\n",
    "test_data = test_data / 255\n",
    "#print(test_data.shape)\n",
    "y_test_one_hot = np.eye(10)[y_test]"
   ]
  },
  {
   "cell_type": "code",
   "execution_count": 43,
   "id": "5c6308a5-f2c6-43a8-9cef-9bf9c8bca840",
   "metadata": {
    "tags": []
   },
   "outputs": [
    {
     "name": "stdout",
     "output_type": "stream",
     "text": [
      "(28, 28, 1)\n",
      "(28, 28, 3)\n",
      "(100, 28, 28, 1)\n",
      "(28, 28)\n",
      "(100, 28, 28, 3)\n"
     ]
    }
   ],
   "source": [
    "np.random.seed(24)\n",
    "indices = np.random.randint(0,test_data.shape[0],100)\n",
    "background = test_data[indices]\n",
    "index = np.random.randint(0,test_data.shape[0])\n",
    "#print(index in indices)\n",
    "test_image = test_data[index]\n",
    "pred = np.argmax(tf.squeeze(cnn.model(np.expand_dims(test_image,0))).numpy())\n",
    "print(test_image.shape)\n",
    "print((test := gray2rgb(test_image[:,:,0])).shape)\n",
    "print(background.shape)\n",
    "print(rgb2gray(test).shape)\n",
    "print(gray2rgb(background[:,:,:,0]).shape)"
   ]
  },
  {
   "cell_type": "code",
   "execution_count": 44,
   "id": "56f3219a-d37d-4fc3-aaef-5728cf5384bd",
   "metadata": {
    "tags": []
   },
   "outputs": [],
   "source": [
    "def rgbModel(x):\n",
    "    grayImages = rgb2gray(x)\n",
    "    if(len(grayImages.shape) == 3):\n",
    "        return cnn.model(np.expand_dims(grayImages, -1))\n",
    "    else:\n",
    "        return cnn.model(np.expand_dims(np.expand_dims(grayImages, -1), 0))"
   ]
  },
  {
   "cell_type": "code",
   "execution_count": 45,
   "id": "7d1ae8e3-34f9-4069-b914-888533ad8988",
   "metadata": {
    "tags": []
   },
   "outputs": [
    {
     "name": "stdout",
     "output_type": "stream",
     "text": [
      "tf.Tensor(\n",
      "[[3.0189609e-13 1.0058977e-11 6.7414086e-13 4.9607363e-16 9.9999988e-01\n",
      "  1.1644550e-13 7.0856980e-11 3.1883177e-13 1.9755007e-12 7.6263412e-08]], shape=(1, 10), dtype=float32)\n"
     ]
    }
   ],
   "source": [
    "print(rgbModel(gray2rgb(test_image[:,:,0])))\n",
    "#print(tf.argmax(rgbModel(gray2rgb(background[:,:,:,0]))))"
   ]
  },
  {
   "cell_type": "code",
   "execution_count": 46,
   "id": "708e0efa-8dbd-4d2d-bad3-551b07d24d41",
   "metadata": {
    "tags": []
   },
   "outputs": [],
   "source": [
    "explainer = lime_image.LimeImageExplainer(verbose = False)\n",
    "#segmenter = SegmentationAlgorithm('quickshift', kernel_size=1, max_dist=200, ratio=0.2)\n",
    "#segmenter = SegmentationAlgorithm('slic', n_segments=784, compactness = 0.01, max_size_factor=1)\n",
    "segmenter = SegmentationAlgorithm('felzenszwalb', scale=3, sigma=0.8, min_size=4)"
   ]
  },
  {
   "cell_type": "code",
   "execution_count": 47,
   "id": "f57fe218-4d01-4796-9962-e11f450dc6c9",
   "metadata": {
    "tags": []
   },
   "outputs": [
    {
     "name": "stderr",
     "output_type": "stream",
     "text": [
      "100%|██████████| 100/100 [00:00<00:00, 2884.17it/s]\n"
     ]
    }
   ],
   "source": [
    "explanation = explainer.explain_instance(gray2rgb(test_image[:,:,0]), classifier_fn = rgbModel, hide_color=0, num_samples=100, segmentation_fn = segmenter)"
   ]
  },
  {
   "cell_type": "code",
   "execution_count": 110,
   "id": "648f2590-c293-415e-8f60-17f10803dac4",
   "metadata": {
    "tags": []
   },
   "outputs": [
    {
     "name": "stdout",
     "output_type": "stream",
     "text": [
      "[0 1]\n",
      "[0 1 2]\n"
     ]
    },
    {
     "data": {
      "text/plain": [
       "Text(0.5, 1.0, 'Positive/Negative Regions for 4')"
      ]
     },
     "execution_count": 110,
     "metadata": {},
     "output_type": "execute_result"
    },
    {
     "data": {
      "image/png": "[encoded data removed]",
      "text/plain": [
       "<Figure size 800x400 with 2 Axes>"
      ]
     },
     "metadata": {},
     "output_type": "display_data"
    }
   ],
   "source": [
    "s = 1/255.0\n",
    "colors2 = [[s*181,s*22,s*33],[0.0,0.0,0.0]]\n",
    "colors3 = [[s*181,s*22,s*33],[0.0,0.0,0.0],[s*0,s*100,s*173]]\n",
    "\n",
    "temp, mask = explanation.get_image_and_mask(9, positive_only=True, num_features=10, hide_rest=False, min_weight = 0.001)\n",
    "print(np.unique(mask))\n",
    "fig, (ax1, ax2) = plt.subplots(1,2, figsize = (8, 4))\n",
    "ax1.imshow(label2rgb(mask,temp, colors=colors2, bg_label = 0, saturation = 1.0), interpolation = 'none')\n",
    "ax1.set_title('Positive Regions for {}'.format(y_test[index]))\n",
    "temp, mask = explanation.get_image_and_mask(9, positive_only=False, num_features=10, hide_rest=False, min_weight = 0.001)\n",
    "print(np.unique(1+mask))\n",
    "ax2.imshow(label2rgb(1+mask,temp, colors=colors3, bg_label = 0, saturation=1.0), interpolation = 'none')\n",
    "ax2.set_title('Positive/Negative Regions for {}'.format(y_test[index]))"
   ]
  },
  {
   "cell_type": "code",
   "execution_count": 116,
   "id": "b838c421-4dbe-4f5a-96b4-16b5555c75f9",
   "metadata": {
    "tags": []
   },
   "outputs": [
    {
     "name": "stdout",
     "output_type": "stream",
     "text": [
      "0.0\n"
     ]
    },
    {
     "data": {
      "text/plain": [
       "<matplotlib.image.AxesImage at 0x7f27b25723e0>"
      ]
     },
     "execution_count": 116,
     "metadata": {},
     "output_type": "execute_result"
    },
    {
     "data": {
      "image/png": "[encoded data removed]",
      "text/plain": [
       "<Figure size 640x480 with 1 Axes>"
      ]
     },
     "metadata": {},
     "output_type": "display_data"
    }
   ],
   "source": [
    "test_img2d = test_image[:,:,0]\n",
    "tempImg = np.zeros((28,28))\n",
    "maskedTempImg = label2rgb(3-mask, test_img2d, colors=colors3, bg_label=0, saturation = 0)\n",
    "maskImg = mask/2 + 1\n",
    "f = 0.2\n",
    "blendImg = f*test_img2d + (1-f)*maskImg\n",
    "print(np.min(maskedTempImg))\n",
    "plt.imshow(maskedTempImg, interpolation = 'none')"
   ]
  },
  {
   "cell_type": "code",
   "execution_count": 104,
   "id": "7435bf86-f665-4e32-8893-ad89c4578eca",
   "metadata": {},
   "outputs": [
    {
     "data": {
      "text/plain": [
       "<matplotlib.image.AxesImage at 0x7f27f44440d0>"
      ]
     },
     "execution_count": 104,
     "metadata": {},
     "output_type": "execute_result"
    },
    {
     "data": {
      "image/png": "[encoded data removed]",
      "text/plain": [
       "<Figure size 640x480 with 1 Axes>"
      ]
     },
     "metadata": {},
     "output_type": "display_data"
    }
   ],
   "source": [
    "plt.imshow(maskImg, interpolation = 'none', cmap = 'seismic')"
   ]
  },
  {
   "cell_type": "code",
   "execution_count": 105,
   "id": "0bea8e9d-f35d-4412-bcaa-7947d0d88c16",
   "metadata": {
    "tags": []
   },
   "outputs": [
    {
     "data": {
      "text/plain": [
       "<matplotlib.image.AxesImage at 0x7f27f4496da0>"
      ]
     },
     "execution_count": 105,
     "metadata": {},
     "output_type": "execute_result"
    },
    {
     "data": {
      "image/png": "[encoded data removed]",
      "text/plain": [
       "<Figure size 640x480 with 1 Axes>"
      ]
     },
     "metadata": {},
     "output_type": "display_data"
    }
   ],
   "source": [
    "test_img2d = test_image[:,:,0]\n",
    "blendV2 = 0.5*test_img2d + 0.5*mask\n",
    "plt.imshow(blendV2, interpolation = 'none', cmap = 'seismic', vmin = -1, vmax = 1)"
   ]
  },
  {
   "cell_type": "code",
   "execution_count": null,
   "id": "f070115f-d2db-484a-96ac-86b64530cabe",
   "metadata": {},
   "outputs": [],
   "source": []
  }
 ],
 "metadata": {
  "kernelspec": {
   "display_name": "Python 3 (ipykernel)",
   "language": "python",
   "name": "python3"
  },
  "language_info": {
   "codemirror_mode": {
    "name": "ipython",
    "version": 3
   },
   "file_extension": ".py",
   "mimetype": "text/x-python",
   "name": "python",
   "nbconvert_exporter": "python",
   "pygments_lexer": "ipython3",
   "version": "3.10.11"
  }
 },
 "nbformat": 4,
 "nbformat_minor": 5
}
