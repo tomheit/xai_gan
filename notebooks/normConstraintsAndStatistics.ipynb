{
 "cells": [
  {
   "cell_type": "code",
   "execution_count": 1,
   "id": "3176a1b6-b5db-4d9c-b13c-e76a3531432c",
   "metadata": {},
   "outputs": [],
   "source": [
    "from mnist_gan.mnistGan import MnistGan\n",
    "from mnist_cnn.mnistCnn import MnistCnn\n",
    "import os\n",
    "import tensorflow as tf\n",
    "import matplotlib.pyplot as plt\n",
    "import numpy as np\n",
    "import math\n",
    "from tensorflow.nn import conv2d"
   ]
  },
  {
   "cell_type": "code",
   "execution_count": 2,
   "id": "a9c8e9cf-5229-441f-8461-ef58a8e86519",
   "metadata": {},
   "outputs": [
    {
     "name": "stdout",
     "output_type": "stream",
     "text": [
      "WARNING:tensorflow:No training configuration found in save file, so the model was *not* compiled. Compile it manually.\n",
      "WARNING:tensorflow:No training configuration found in save file, so the model was *not* compiled. Compile it manually.\n",
      "(60000, 28, 28, 1)\n",
      "(10000, 28, 28, 1)\n"
     ]
    }
   ],
   "source": [
    "cnn = MnistCnn()\n",
    "cnn.loadWeights('mnist_cnn/largerCnn30Epochs')\n",
    "#cnn.model.summary()\n",
    "\n",
    "#load gan\n",
    "genPath = 'mnist_gan/NewMnistGan200Epochs/mnist_gen'\n",
    "discPath = 'mnist_gan/NewMnistGan200Epochs/mnist_disc'\n",
    "gan = MnistGan()\n",
    "gan.loadWeights(genPath, discPath)\n",
    "\n",
    "(X_train, y_train), (x_test, y_test) = tf.keras.datasets.mnist.load_data()\n",
    "img_data = X_train.copy()\n",
    "img_data = img_data.reshape(X_train.shape[0], 28, 28, 1)\n",
    "img_data = img_data / 255 #pixel values in [0,1]\n",
    "print(img_data.shape)\n",
    "test_data = x_test.copy()\n",
    "test_data = test_data.reshape(x_test.shape[0], 28, 28, 1)\n",
    "test_data = test_data / 255\n",
    "print(test_data.shape)\n",
    "y_test_one_hot = np.eye(10)[y_test]\n",
    "#print(y_test_one_hot.shape)\n",
    "#print(y_test_one_hot[0:2])"
   ]
  },
  {
   "cell_type": "code",
   "execution_count": 3,
   "id": "48a93576-e37a-4808-a795-0ee0122ef4f4",
   "metadata": {},
   "outputs": [
    {
     "name": "stdout",
     "output_type": "stream",
     "text": [
      "(1, 28, 28, 1)\n",
      "(1, 28, 28, 1)\n",
      "tf.Tensor(0.0, shape=(), dtype=float32)\n"
     ]
    }
   ],
   "source": [
    "test_img = np.expand_dims(img_data[0], 0)\n",
    "print(test_img.shape)\n",
    "test_var = tf.Variable(tf.cast(test_img, dtype = tf.float32))\n",
    "print(test_var.shape)\n",
    "print(test_var[0,0,0,0])"
   ]
  },
  {
   "cell_type": "markdown",
   "id": "1048352a-4f01-46cc-9044-91942b4aca73",
   "metadata": {},
   "source": [
    "## Fast Gradient Sign Method\n",
    "$ || \\eta ||_{\\infty} \\leq \\epsilon $:\n",
    "- $ \\eta = \\epsilon \\cdot \\text{sign}( \\nabla_x J(\\theta, x, y)) $\n",
    "- perturbs all pixel values equally\n",
    "\n",
    "$ || \\eta ||_{2} \\leq ||\\epsilon \\mathbb{1}_d||_{2} $:\n",
    "- $ \\eta = \\epsilon \\sqrt{d} \\cdot \\frac{\\nabla_x J(\\theta,x,y)}{||\\nabla_x J(\\theta,x,y)||_2} $\n",
    "- perturbs values more when their gradient is higher\n",
    "\n",
    "$ || \\eta ||_1 \\leq ||\\epsilon \\mathbb{1}_d||_1 $:\n",
    "- sort $ \\nabla_x J(\\theta,x,y) $ by their absolute values $ |\\nabla_x J(\\theta,x,y)| $\n",
    "- maximize / minimize pixels with the highest absolute gradient until budget $ \\epsilon d $ is depleted"
   ]
  },
  {
   "cell_type": "markdown",
   "id": "f61b30c2-e74d-4c8b-8e1a-aeae09976ea7",
   "metadata": {},
   "source": [
    "### Increase loss or decrease probability?\n",
    "**Idea 1:**\n",
    "- increase the loss (same loss function as used to train the cnn)\n",
    "- stop when prediction has changed\n",
    "- optional: decrease the loss with the new prediction until a certain confidence is reached\n",
    "\n",
    "**Idea 2:**\n",
    "- decrease the probability of the original prediction\n",
    "- stop when prediction has changed\n",
    "- optional: increase the new probability to a certain value\n",
    "\n",
    "**Idea 3:**\n",
    "- increase the probability of a class that looks similar to the original prediction to the human eye\n",
    "\n",
    "**Idea 4:**\n",
    "- decrease the loss of a class that looks similar to the original to the human eye\n",
    "\n",
    "**Idea 5:**\n",
    "- increase the probability of a class that is statistically similar to the original prediction\n",
    "- confusion matrix could be used to find similar classes\n",
    "\n",
    "**Idea 6:**\n",
    "- decrease the loss of a class that is statistically similar"
   ]
  },
  {
   "cell_type": "code",
   "execution_count": 4,
   "id": "0bd46d97-a4be-45b1-8739-b654bca36c54",
   "metadata": {},
   "outputs": [],
   "source": [
    "cnnLoss = tf.keras.losses.CategoricalCrossentropy(from_logits = False)"
   ]
  },
  {
   "cell_type": "markdown",
   "id": "6d8625e0-aab5-4e5c-b9b3-021f243823d0",
   "metadata": {},
   "source": [
    "### define target functions:"
   ]
  },
  {
   "cell_type": "code",
   "execution_count": 5,
   "id": "2c6cee26-872e-43a2-aa31-d6c777477b56",
   "metadata": {},
   "outputs": [],
   "source": [
    "#loss\n",
    "@tf.function\n",
    "def targetFuncLoss(x, index, classifier):\n",
    "    # compute the loss of the prediction and a unit vector\n",
    "    unitVector = tf.reshape(tf.one_hot(indices = index, depth = 10), shape = (1,10))\n",
    "    res = cnnLoss(classifier(x), unitVector)\n",
    "    return res\n",
    "\n",
    "# loss + discriminator\n",
    "@tf.function\n",
    "def targetFuncLossGan(x, index, classifier):\n",
    "    unitVector = tf.reshape(tf.one_hot(indices = index, depth = 10), shape = (1,10))\n",
    "    res = cnnLoss(classifier(x), unitVector) + gan.discriminator(x)\n",
    "    return res\n",
    "\n",
    "# negative probability to be minimized\n",
    "@tf.function\n",
    "def targetFuncNegativeProb(x, index, classifier):\n",
    "    # compute the natural logarithm of the predicted probability\n",
    "    res = -tf.math.log(tf.squeeze(classifier(x))[index])\n",
    "    return res\n",
    "\n",
    "# negative prob + discriminator\n",
    "@tf.function\n",
    "def targetFuncNegativeProbGan(x, index, classifier):\n",
    "    res = -tf.math.log(tf.squeeze(classifier(x))[index]) + gan.discriminator(x)\n",
    "    return res\n",
    "\n",
    "# positive probability to be maximized\n",
    "@tf.function\n",
    "def targetFuncProb(x, index, classifier):\n",
    "    res = tf.math.log(tf.squeeze(classifier(x))[index])\n",
    "    return res\n",
    "\n",
    "# positive prob + discriminator\n",
    "@tf.function\n",
    "def targetFuncProbGan(x, index, classifer):\n",
    "    res = tf.math.log(tf.squeeze(classifier(x))[index]) + gan.discriminator(x)\n",
    "    return res"
   ]
  },
  {
   "cell_type": "markdown",
   "id": "fb904218-3874-4d85-9f1c-fbcd0e8ad5fd",
   "metadata": {},
   "source": [
    "### define norm constraints:"
   ]
  },
  {
   "cell_type": "code",
   "execution_count": 75,
   "id": "f9492785-635b-4402-8beb-8a991797d10b",
   "metadata": {},
   "outputs": [],
   "source": [
    "# maximum norm\n",
    "def maxNorm(grad, epsilon):\n",
    "    res = epsilon * tf.math.sign(grad)\n",
    "    return res\n",
    "\n",
    "# euclidean norm\n",
    "def euclidNorm(grad, epsilon):\n",
    "    err = 1e-16\n",
    "    d = 28*28\n",
    "    norm = tf.norm(grad, ord='euclidean')\n",
    "    res = epsilon*math.sqrt(d)*(grad/tf.maximum(norm, err))\n",
    "    return res"
   ]
  },
  {
   "cell_type": "code",
   "execution_count": 76,
   "id": "be11be3b-ba1e-4288-9fd7-1aaf3e09590e",
   "metadata": {},
   "outputs": [],
   "source": [
    "#utility function to get row and col from an index\n",
    "def vecIndexToMatIndex(index, dim):\n",
    "    row = math.floor(index/dim)\n",
    "    col = index % dim\n",
    "    return row, col\n",
    "\n",
    "# utility function to get a unit matrix\n",
    "def getUnitMat(dim, row, col):\n",
    "    # dim: number of rows/columns\n",
    "    # row: index of row\n",
    "    # col: index of column\n",
    "    if(row >= dim):\n",
    "        raise ValueError(\"row index out of bounds\")\n",
    "    if(col >= dim):\n",
    "        raise ValueError(\"column index out of bounds\")\n",
    "    index = row*(dim) + col\n",
    "    e = tf.one_hot(indices = index, depth = dim*dim)\n",
    "    mat = tf.reshape(e, shape = (dim,dim))\n",
    "    return mat"
   ]
  },
  {
   "cell_type": "code",
   "execution_count": 97,
   "id": "887a7734-9bf0-44ef-a017-c86bcc538e80",
   "metadata": {},
   "outputs": [
    {
     "name": "stdout",
     "output_type": "stream",
     "text": [
      "(1, 4, 1, 4)\n",
      "tf.Tensor(\n",
      "[[0. 0. 0. 0.]\n",
      " [0. 0. 0. 0.]\n",
      " [0. 0. 0. 0.]\n",
      " [2. 0. 0. 0.]], shape=(4, 4), dtype=float32)\n"
     ]
    }
   ],
   "source": [
    "#test\n",
    "#testMat = tf.reshape(tf.range(0,16,delta=1), shape=(4,4))\n",
    "#testVec = tf.range(0,16,delta=1)\n",
    "unitMat = np.expand_dims(np.expand_dims((10.1 * getUnitMat(4, 3, 0)),1),0)\n",
    "print(unitMat.shape)\n",
    "unitMat2 = 2 * getUnitMat(4,3,0)\n",
    "print(unitMat2)\n",
    "#print(testVec)"
   ]
  },
  {
   "cell_type": "code",
   "execution_count": 78,
   "id": "7db94864-e514-43e6-99e7-909feb9e5cfa",
   "metadata": {},
   "outputs": [
    {
     "name": "stdout",
     "output_type": "stream",
     "text": [
      "10\n"
     ]
    }
   ],
   "source": [
    "row, col = vecIndexToMatIndex(index = 10, dim = 4)\n",
    "print(testMat[row,col].numpy())"
   ]
  },
  {
   "cell_type": "code",
   "execution_count": 108,
   "id": "89942412-94fb-4a67-8e04-8dc3ce445be5",
   "metadata": {},
   "outputs": [
    {
     "name": "stdout",
     "output_type": "stream",
     "text": [
      "(1, 28, 28, 1)\n",
      "(1, 28, 28, 1)\n",
      "(1, 28, 28, 1)\n"
     ]
    }
   ],
   "source": [
    "testImage1724 = tf.cast(np.expand_dims(tf.zeros_like(img_data[0]),0),tf.float32)\n",
    "print(testImage1724.shape)\n",
    "testDiff1813 = np.expand_dims(np.expand_dims(getUnitMat(testImage1724.shape[1],0,0),0),3)\n",
    "print(testDiff1813.shape)\n",
    "testSum1819 = testImage1724 + testDiff1813\n",
    "print(testSum1819.shape)\n",
    "#print(testSum1819)"
   ]
  },
  {
   "cell_type": "code",
   "execution_count": 111,
   "id": "9c27deb0-5923-41f3-9616-9e3d3b1b0c0c",
   "metadata": {},
   "outputs": [],
   "source": [
    "# 1-norm\n",
    "# maximize / minimize the pixels with the greatest impact on the prediction\n",
    "# one step maximally perturbs pixels with the greatest impact with a maximum perturbation of epsilon\n",
    "def oneNorm(x, grad, epsilon):\n",
    "    #to do: optimize this code\n",
    "    d = 28*28\n",
    "    abs_grad = tf.abs(grad)\n",
    "    sign_grad = tf.math.sign(grad)\n",
    "    budget = epsilon * d\n",
    "    # get indices of grad sorted by greatest abs value as 1xd-vector\n",
    "    abs_grad_sorted_indices = tf.argsort(tf.reshape(abs_grad, shape = (d,)), direction='DESCENDING')\n",
    "    # x = x + eta\n",
    "    eta = tf.zeros_like(grad)\n",
    "    print(eta.shape)\n",
    "    for i in range(d):\n",
    "        index = abs_grad_sorted_indices[i] #start iterating over indices\n",
    "        row, col = vecIndexToMatIndex(index = index, dim = 28) #corresponding row and column\n",
    "        diff = sign_grad[0,row,col,0] * tf.abs(x[0,row,col,0] - ((sign_grad[0,row,col,0] / 2) + 0.5)) #get diff to 0 or 1 depending on the sign of the gradient\n",
    "        if(budget >= tf.abs(diff)):\n",
    "            #eta[0,row,col,0] += diff\n",
    "            eta = eta + np.expand_dims(np.expand_dims((diff * getUnitMat(eta.shape[1],row,col)),0),3)\n",
    "            budget -= tf.abs(diff)\n",
    "        else:\n",
    "            #eta[0,row,col,0] += (sign_grad[0,row,col,0] * budget)\n",
    "            eta = eta + np.expand_dims(np.expand_dims(((sign_grad[0,row,col,0] * budget) * getUnitMat(eta.shape[1],row,col)),0),3)\n",
    "            budget = 0\n",
    "        if(budget <= 0):\n",
    "            break\n",
    "    \n",
    "    print(eta.shape)\n",
    "    x.assign(x + eta)\n",
    "    #x.assign(tf.clip_by_value(x, clip_value_min = 0, clip_value_max = 1))"
   ]
  },
  {
   "cell_type": "markdown",
   "id": "0275ee96-ad69-4b96-898c-6a525bbebf84",
   "metadata": {},
   "source": [
    "### define optimization algorithms:"
   ]
  },
  {
   "cell_type": "code",
   "execution_count": 81,
   "id": "89a370c1-cedf-465a-b2d1-94249bacccd0",
   "metadata": {},
   "outputs": [],
   "source": [
    "# optimize loss or probability with euclidean norm constraint or maximum norm constraint\n",
    "def optimizeEuclidOrMaxNorm(x, classifier, maxIter, maxChange, minAlpha, targetFunction, normConstraint, epsilon = 0.1):\n",
    "    err = 1e-16 #accuracy\n",
    "    closeEnough = False\n",
    "    iter = 0 #iteration counter\n",
    "    index = tf.argmax(tf.squeeze(classifier(x))).numpy() #original prediction\n",
    "    d = 28*28\n",
    "    # create the unit vector with a one at index and dim 10\n",
    "    #unitVector = tf.one_hot(indices = index, depth = 10)\n",
    "    \n",
    "    while(not closeEnough and iter < maxIter):\n",
    "        with tf.GradientTape() as tape:\n",
    "            res = targetFunction(x, index, classifier)\n",
    "        grad = tape.gradient(res, x)\n",
    "        eta = normConstraint(grad, epsilon)\n",
    "        x.assign(x + eta)\n",
    "        x.assign(tf.clip_by_value(x, clip_value_min = 0, clip_value_max = 1))\n",
    "        iter += 1\n",
    "        newIndex = tf.argmax(tf.squeeze(classifier(x))).numpy()\n",
    "        if(newIndex != index):\n",
    "            closeEnough = True\n",
    "    return iter\n",
    "\n",
    "# optimize loss or probability with 1-norm\n",
    "def optimize1Norm(x, classifier, maxIter, maxChange, minAlpha, targetFunction, epsilon = 0.1):\n",
    "    err = 1e-16\n",
    "    closeEnough = False\n",
    "    iter = 0\n",
    "    index = tf.argmax(tf.squeeze(classifier(x))).numpy()\n",
    "    d = 28*28\n",
    "    \n",
    "    while(not closeEnough and iter < maxIter):\n",
    "        with tf.GradientTape() as tape:\n",
    "            res = targetFunction(x, index, classifier)\n",
    "        grad = tape.gradient(res, x)\n",
    "        oneNorm(x, grad, epsilon)\n",
    "        iter += 1\n",
    "        newIndex = tf.argmax(tf.squeeze(classifier(x))).numpy()\n",
    "        if(newIndex != index):\n",
    "            closeEnough = True\n",
    "    return iter"
   ]
  },
  {
   "cell_type": "markdown",
   "id": "9d47673c-4a7a-490a-8703-288be7c894b2",
   "metadata": {},
   "source": [
    "### Tests"
   ]
  },
  {
   "cell_type": "code",
   "execution_count": 112,
   "id": "a2094833-b137-4688-bcfe-6d9c4b964de6",
   "metadata": {},
   "outputs": [
    {
     "name": "stdout",
     "output_type": "stream",
     "text": [
      "(1, 28, 28, 1)\n",
      "(1, 28, 28, 1)\n"
     ]
    },
    {
     "data": {
      "text/plain": [
       "Text(0.5, 1.0, 'oneNorm, class: 8, conf: 0.67874223')"
      ]
     },
     "execution_count": 112,
     "metadata": {},
     "output_type": "execute_result"
    },
    {
     "data": {
      "image/png": "[encoded data removed]",
      "text/plain": [
       "<Figure size 1152x1152 with 4 Axes>"
      ]
     },
     "metadata": {
      "needs_background": "light"
     },
     "output_type": "display_data"
    }
   ],
   "source": [
    "# to do: look at alpha\n",
    "# test for example image\n",
    "rs = np.random.RandomState(seed=2)\n",
    "n_examples = 1\n",
    "indices = rs.randint(0, img_data.shape[0], n_examples)\n",
    "\n",
    "img = img_data[indices[0]]\n",
    "\n",
    "_, ax = plt.subplots(n_examples, 4, figsize=(16,16))\n",
    "\n",
    "x1 = tf.Variable(tf.cast(np.expand_dims(img,0), tf.float32))\n",
    "x2 = tf.Variable(tf.cast(np.expand_dims(img,0), tf.float32))\n",
    "x3 = tf.Variable(tf.cast(np.expand_dims(img,0), tf.float32))\n",
    "\n",
    "optimizeEuclidOrMaxNorm(x1, cnn.model, maxIter=600, maxChange=0.1, minAlpha=0.001, targetFunction=targetFuncLoss, normConstraint=maxNorm, epsilon=0.1)\n",
    "optimizeEuclidOrMaxNorm(x2, cnn.model, maxIter=600, maxChange=0.1, minAlpha=0.001, targetFunction=targetFuncLoss, normConstraint=euclidNorm, epsilon=0.1)\n",
    "optimize1Norm(x3, cnn.model, maxIter=600, maxChange=0.1, minAlpha=0.001, targetFunction=targetFuncLoss, epsilon=0.1)\n",
    "\n",
    "ax[0].imshow(img, cmap = 'gray', interpolation = 'none')\n",
    "pred0 = tf.squeeze(cnn.model(np.expand_dims(img, 0)))\n",
    "class0 = tf.argmax(pred0).numpy()\n",
    "conf0 = tf.reduce_max(pred0).numpy()\n",
    "title0 = \"original, \" + \"class: \" + str(class0) + \", conf: \" + str(conf0)\n",
    "ax[0].set_title(title0)\n",
    "ax[1].imshow(x1[0], cmap = 'gray', interpolation = 'none')\n",
    "pred1 = tf.squeeze(cnn.model(x1))\n",
    "class1 = tf.argmax(pred1).numpy()\n",
    "conf1 = tf.reduce_max(pred1).numpy()\n",
    "title1 = \"maxNorm, \" + \"class: \" + str(class1) + \", conf: \" + str(conf1)\n",
    "ax[1].set_title(title1)\n",
    "ax[2].imshow(x2[0], cmap = 'gray', interpolation = 'none')\n",
    "pred2 = tf.squeeze(cnn.model(x2))\n",
    "class2 = tf.argmax(pred2).numpy()\n",
    "conf2 = tf.reduce_max(pred2).numpy()\n",
    "title2 = \"euclidNorm, \" + \"class: \" + str(class2) + \", conf: \" + str(conf2)\n",
    "ax[2].set_title(title2)\n",
    "ax[3].imshow(x3[0], cmap = 'gray', interpolation = 'none')\n",
    "pred3 = tf.squeeze(cnn.model(x3))\n",
    "class3 = tf.argmax(pred3).numpy()\n",
    "conf3 = tf.reduce_max(pred3).numpy()\n",
    "title3 = \"oneNorm, \" + \"class: \" + str(class3) + \", conf: \" + str(conf3)\n",
    "ax[3].set_title(title3)"
   ]
  },
  {
   "cell_type": "code",
   "execution_count": null,
   "id": "2fb892e1-ae94-4364-8788-b2656f5993e6",
   "metadata": {},
   "outputs": [],
   "source": [
    "rs = np.random.RandomState(seed=2)\n",
    "print(rs.randint(0,60000,1))"
   ]
  },
  {
   "cell_type": "code",
   "execution_count": null,
   "id": "68a46d1b-ad0e-47dd-be44-1d9bde9d274a",
   "metadata": {},
   "outputs": [],
   "source": [
    "unitVector = tf.one_hot(indices = 1, depth = 10)\n",
    "newUnitVector = tf.reshape(unitVector, shape=[10,1])\n",
    "print(newUnitVector)\n",
    "print(newUnitVector.shape)"
   ]
  },
  {
   "cell_type": "code",
   "execution_count": null,
   "id": "bf329893-81dc-4ac6-899f-62372f77c527",
   "metadata": {},
   "outputs": [],
   "source": [
    "print(cnn.model(tf.Variable(tf.cast(np.expand_dims(img,0), tf.float32))).shape)"
   ]
  },
  {
   "cell_type": "code",
   "execution_count": null,
   "id": "99781675-107d-43b6-9936-93c8a5893259",
   "metadata": {},
   "outputs": [],
   "source": []
  }
 ],
 "metadata": {
  "kernelspec": {
   "display_name": "Python 3",
   "language": "python",
   "name": "python3"
  },
  "language_info": {
   "codemirror_mode": {
    "name": "ipython",
    "version": 3
   },
   "file_extension": ".py",
   "mimetype": "text/x-python",
   "name": "python",
   "nbconvert_exporter": "python",
   "pygments_lexer": "ipython3",
   "version": "3.9.2"
  }
 },
 "nbformat": 4,
 "nbformat_minor": 5
}
