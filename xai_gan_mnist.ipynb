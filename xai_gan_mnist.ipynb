{
 "cells": [
  {
   "cell_type": "markdown",
   "id": "6b83978d-4ad0-4805-9998-553cd7775568",
   "metadata": {},
   "source": [
    "# CNN and GAN"
   ]
  },
  {
   "cell_type": "code",
   "execution_count": 1,
   "id": "9b72ce68-17fc-4529-89a5-cc69bb9d6b1f",
   "metadata": {},
   "outputs": [
    {
     "name": "stdout",
     "output_type": "stream",
     "text": [
      "2.5.0\n"
     ]
    }
   ],
   "source": [
    "# imports\n",
    "import tensorflow as tf\n",
    "from tensorflow.keras.layers import Dense, Flatten, Conv2D, MaxPooling2D, Dropout, BatchNormalization, Conv2DTranspose, LeakyReLU, Reshape\n",
    "from tensorflow.keras.preprocessing.image import ImageDataGenerator\n",
    "from tensorflow.keras import layers\n",
    "import numpy as np\n",
    "import random\n",
    "import pandas as pd\n",
    "import matplotlib.pyplot as plt\n",
    "import matplotlib.image as mpimg\n",
    "import time\n",
    "import os\n",
    "\n",
    "print(tf.version.VERSION)"
   ]
  },
  {
   "cell_type": "code",
   "execution_count": 2,
   "id": "fde18e8f-c18f-4f46-b243-197debe7843d",
   "metadata": {},
   "outputs": [
    {
     "name": "stdout",
     "output_type": "stream",
     "text": [
      "Downloading data from https://storage.googleapis.com/tensorflow/tf-keras-datasets/mnist.npz\n",
      "11493376/11490434 [==============================] - 0s 0us/step\n"
     ]
    }
   ],
   "source": [
    "# loading the mnist dataset\n",
    "mnist = tf.keras.datasets.mnist\n",
    "(x_train, y_train_classes), (x_test, y_test_classes) = mnist.load_data()\n",
    "\n",
    "x_train = np.expand_dims(x_train, -1)\n",
    "x_test = np.expand_dims(x_test, -1)\n",
    "\n",
    "# preparation\n",
    "num_classes = 10\n",
    "num_train = x_train.shape[0]\n",
    "num_test = x_train.shape[0]\n",
    "img_width = x_train.shape[1]\n",
    "img_height = x_train.shape[2]\n",
    "img_size_flat = img_width * img_height\n",
    "\n",
    "# one-hot encoding\n",
    "y_train = np.eye(num_classes, dtype = float)[y_train_classes]\n",
    "y_test = np.eye(num_classes, dtype = float)[y_test_classes]\n",
    "\n",
    "# normalize input to [0,1]\n",
    "x_train = x_train / 255\n",
    "x_test = x_test / 255\n",
    "\n",
    "# create tf dataset\n",
    "train_dataset = tf.data.Dataset.from_tensor_slices((x_train, y_train)).batch(32)"
   ]
  },
  {
   "cell_type": "markdown",
   "id": "6dcedf1f-7c80-40e1-8de2-9768ad610627",
   "metadata": {},
   "source": [
    "preparing data augmentation"
   ]
  },
  {
   "cell_type": "code",
   "execution_count": 3,
   "id": "dadc9b63-7c08-457b-b654-267f46ca3a93",
   "metadata": {},
   "outputs": [],
   "source": [
    "def add_noise(img):\n",
    "    #VARIABILITY = 50\n",
    "    #deviation = VARIABILITY * random.random()\n",
    "    noise = np.random.normal(0, 0.1, img.shape)\n",
    "    result = img + noise\n",
    "    np.clip(result, 0, 1)\n",
    "    return result"
   ]
  },
  {
   "cell_type": "code",
   "execution_count": 4,
   "id": "6f79581b-2dc7-4cd5-b532-f190b4f146a1",
   "metadata": {},
   "outputs": [],
   "source": [
    "# data augmentation: shifting, rotating and zooming into the images\n",
    "data_augmentation = tf.keras.Sequential([\n",
    "    layers.experimental.preprocessing.RandomRotation(0.125, fill_mode = 'constant'),\n",
    "    layers.experimental.preprocessing.RandomTranslation(0.2, 0.2, fill_mode = 'constant'),\n",
    "    layers.experimental.preprocessing.RandomZoom((0.2, -0.1), (0.2, -0.1), fill_mode = 'constant')\n",
    "])\n",
    "\n",
    "def prepare_data(ds):\n",
    "    ds = ds.map(lambda x, y: (data_augmentation(x, training = True), y), num_parallel_calls = tf.data.AUTOTUNE)\n",
    "    return ds.prefetch(buffer_size = tf.data.AUTOTUNE)"
   ]
  },
  {
   "cell_type": "code",
   "execution_count": 5,
   "id": "24fe02f7-4c70-4312-a4b0-7743116820e7",
   "metadata": {},
   "outputs": [
    {
     "name": "stdout",
     "output_type": "stream",
     "text": [
      "0.0 0.99520135\n"
     ]
    },
    {
     "data": {
      "image/png": "[encoded data removed]",
      "text/plain": [
       "<Figure size 576x288 with 3 Axes>"
      ]
     },
     "metadata": {
      "needs_background": "light"
     },
     "output_type": "display_data"
    }
   ],
   "source": [
    "test_image0 = train_dataset.as_numpy_iterator().next()[0][:][:][0]\n",
    "train_dataset = prepare_data(train_dataset)\n",
    "_, ax = plt.subplots(1, 3, figsize = (8,4))\n",
    "ax[0].imshow(test_image0, cmap = 'gray')\n",
    "ax[1].imshow(train_dataset.as_numpy_iterator().next()[0][:][:][0], cmap = 'gray')\n",
    "ax[2].imshow(x_train[0], cmap = 'gray')\n",
    "print(train_dataset.as_numpy_iterator().next()[0].min(), train_dataset.as_numpy_iterator().next()[0].max())"
   ]
  },
  {
   "cell_type": "code",
   "execution_count": 6,
   "id": "e2469c52-9437-440c-bf4c-50a3bba856a5",
   "metadata": {},
   "outputs": [],
   "source": [
    "# creating the cnn model\n",
    "def make_cnn_model():\n",
    "    cnn_model = tf.keras.models.Sequential()\n",
    "    cnn_model.add(Conv2D(filters = 8, kernel_size = (3,3), input_shape = (img_height, img_width, 1)))\n",
    "    cnn_model.add(Conv2D(filters = 8, kernel_size = (3,3), activation = 'relu'))\n",
    "    cnn_model.add(MaxPooling2D())\n",
    "    cnn_model.add(Dropout(0.25))\n",
    "    cnn_model.add(Conv2D(filters = 8, kernel_size = (3,3), activation = 'relu'))\n",
    "    cnn_model.add(Conv2D(filters = 8, kernel_size = (3,3), activation = 'relu'))\n",
    "    cnn_model.add(MaxPooling2D())\n",
    "    cnn_model.add(Dropout(0.25))\n",
    "    cnn_model.add(Flatten())\n",
    "    cnn_model.add(Dense(num_classes, activation = 'softmax'))\n",
    "\n",
    "    cnn_model.compile(optimizer = tf.keras.optimizers.Adam(learning_rate = 0.001),\n",
    "                     loss = 'categorical_crossentropy',\n",
    "                     metrics = ['accuracy'])\n",
    "    #cnn_model.summary()\n",
    "    return cnn_model"
   ]
  },
  {
   "cell_type": "code",
   "execution_count": 7,
   "id": "2c1b6296-d45f-40d6-a25c-2d09fb39c40f",
   "metadata": {},
   "outputs": [],
   "source": [
    "# creating a copy of the cnn model without softmax at the end\n",
    "def make_cnn_model_without_softmax(cnn_model):\n",
    "    cnn_no_softmax = tf.keras.models.Sequential()\n",
    "    cnn_no_softmax.add(Conv2D(filters = 8, kernel_size = (3,3), input_shape = (img_height, img_width, 1)))\n",
    "    cnn_no_softmax.add(Conv2D(filters = 8, kernel_size = (3,3), activation = 'relu'))\n",
    "    cnn_no_softmax.add(MaxPooling2D())\n",
    "    cnn_no_softmax.add(Dropout(0.25))\n",
    "    cnn_no_softmax.add(Conv2D(filters = 8, kernel_size = (3,3), activation = 'relu'))\n",
    "    cnn_no_softmax.add(Conv2D(filters = 8, kernel_size = (3,3), activation = 'relu'))\n",
    "    cnn_no_softmax.add(MaxPooling2D())\n",
    "    cnn_no_softmax.add(Dropout(0.25))\n",
    "    cnn_no_softmax.add(Flatten())\n",
    "    cnn_no_softmax.add(Dense(num_classes))\n",
    "    # init weights\n",
    "    cnn_no_softmax(tf.ones((1, img_height, img_width, 1)))\n",
    "    # copy weights\n",
    "    cnn_no_softmax.set_weights(cnn_model.get_weights())\n",
    "    return cnn_no_softmax"
   ]
  },
  {
   "cell_type": "code",
   "execution_count": 8,
   "id": "222fddad-de3c-4f0b-b1d4-7300a3190670",
   "metadata": {},
   "outputs": [],
   "source": [
    "# load the model if it already exists\n",
    "# otherwise create and train it\n",
    "if(os.path.exists('mnist_cnn_model')):\n",
    "    cnn_model = tf.keras.models.load_model('mnist_cnn_model')\n",
    "else:\n",
    "    cnn_model = make_cnn_model()\n",
    "    cnn_history = cnn_model.fit(x_train,\n",
    "                                y_train,\n",
    "                                epochs = 20,\n",
    "                                validation_split = 0.2,\n",
    "                                verbose = 0,\n",
    "                                batch_size = 64)\n",
    "    cnn_model.save('mnist_cnn_model')\n",
    "    \n",
    "cnn_no_softmax = make_cnn_model_without_softmax(cnn_model)"
   ]
  },
  {
   "cell_type": "code",
   "execution_count": 9,
   "id": "25933735-a7ac-4b56-a2e9-7563f76c7c48",
   "metadata": {},
   "outputs": [
    {
     "name": "stdout",
     "output_type": "stream",
     "text": [
      "313/313 [==============================] - 3s 9ms/step - loss: 0.0443 - accuracy: 0.9858\n"
     ]
    }
   ],
   "source": [
    "# test the cnn model\n",
    "test_loss, test_acc = cnn_model.evaluate(x_test, y_test)"
   ]
  },
  {
   "cell_type": "code",
   "execution_count": 10,
   "id": "7930cea4-ccd0-4e72-b443-ea55aa257bf3",
   "metadata": {},
   "outputs": [
    {
     "name": "stdout",
     "output_type": "stream",
     "text": [
      "tf.Tensor(\n",
      "[[9.9997556e-01 4.5637658e-09 1.0491187e-05 1.0926854e-08 4.0713792e-07\n",
      "  9.3461502e-08 7.9865504e-06 4.3482393e-07 9.8180192e-07 3.9902015e-06]], shape=(1, 10), dtype=float32)\n",
      "tf.Tensor(\n",
      "[[  8.975151  -10.229943   -2.4897997  -9.356867   -5.7389383  -7.2105417\n",
      "   -2.7625763  -5.6731486  -4.8587008  -3.456493 ]], shape=(1, 10), dtype=float32)\n"
     ]
    },
    {
     "data": {
      "text/plain": [
       "<matplotlib.image.AxesImage at 0x7fcfe8681c70>"
      ]
     },
     "execution_count": 10,
     "metadata": {},
     "output_type": "execute_result"
    },
    {
     "data": {
      "image/png": "[encoded data removed]",
      "text/plain": [
       "<Figure size 432x288 with 1 Axes>"
      ]
     },
     "metadata": {
      "needs_background": "light"
     },
     "output_type": "display_data"
    }
   ],
   "source": [
    "# compare outputs of both cnn models\n",
    "real_img = np.expand_dims(x_train[1], 0)\n",
    "print(cnn_model(real_img))\n",
    "print(cnn_no_softmax(real_img))\n",
    "plt.imshow(real_img[0,:,:,0], cmap = 'gray')"
   ]
  },
  {
   "cell_type": "code",
   "execution_count": 11,
   "id": "155a4ab7-fadc-4071-b99f-a2783dc2fd3e",
   "metadata": {},
   "outputs": [],
   "source": [
    "# function to make a generator model\n",
    "# from https://www.tensorflow.org/tutorials/generative/dcgan\n",
    "def make_generator_model():\n",
    "    model = tf.keras.Sequential()\n",
    "    model.add(Dense(7*7*256, use_bias = False, input_shape = (100, )))\n",
    "    model.add(BatchNormalization())\n",
    "    model.add(LeakyReLU())\n",
    "    model.add(Reshape((7, 7, 256)))\n",
    "    assert model.output_shape == (None, 7, 7, 256)\n",
    "    model.add(Conv2DTranspose(128, (5, 5), strides = (1, 1), padding = 'same', use_bias = False))\n",
    "    assert model.output_shape == (None, 7, 7, 128)\n",
    "    model.add(BatchNormalization())\n",
    "    model.add(LeakyReLU())\n",
    "    model.add(Conv2DTranspose(64, (5, 5), strides=(2, 2), padding='same', use_bias=False))\n",
    "    assert model.output_shape == (None, 14, 14, 64)\n",
    "    model.add(BatchNormalization())\n",
    "    model.add(LeakyReLU())\n",
    "    model.add(Conv2DTranspose(1, (5, 5), strides=(2, 2), padding='same', use_bias=False, activation='tanh'))\n",
    "    assert model.output_shape == (None, 28, 28, 1)\n",
    "    return model"
   ]
  },
  {
   "cell_type": "code",
   "execution_count": 12,
   "id": "12c35823-1402-457c-a574-c56f08f8568e",
   "metadata": {},
   "outputs": [],
   "source": [
    "# function to make the discriminator model\n",
    "# from https://www.tensorflow.org/tutorials/generative/dcgan\n",
    "def make_discriminator_model():\n",
    "    model = tf.keras.Sequential()\n",
    "    model.add(Conv2D(64, (5, 5), strides = (2, 2), padding = 'same', input_shape = [28, 28, 1]))\n",
    "    model.add(LeakyReLU())\n",
    "    model.add(Dropout(0.3))\n",
    "    model.add(Conv2D(128, (5, 5), strides=(2, 2), padding='same'))\n",
    "    model.add(LeakyReLU())\n",
    "    model.add(Dropout(0.3))\n",
    "    model.add(Flatten())\n",
    "    model.add(Dense(1))\n",
    "    return model"
   ]
  },
  {
   "cell_type": "code",
   "execution_count": 13,
   "id": "88fb5d2e-ca30-416c-8492-155a6049423d",
   "metadata": {},
   "outputs": [],
   "source": [
    "# define loss functions and optimizers\n",
    "cross_entropy = tf.keras.losses.BinaryCrossentropy(from_logits = True)\n",
    "\n",
    "def discriminator_loss(real_output, fake_output):\n",
    "    real_loss = cross_entropy(tf.ones_like(real_output), real_output)\n",
    "    fake_loss = cross_entropy(tf.zeros_like(fake_output), fake_output)\n",
    "    total_loss = real_loss + fake_loss\n",
    "    return total_loss\n",
    "\n",
    "def generator_loss(fake_output):\n",
    "    return cross_entropy(tf.ones_like(fake_output), fake_output)\n",
    "\n",
    "generator_optimizer = tf.keras.optimizers.Adam(1e-4)\n",
    "discriminator_optimizer = tf.keras.optimizers.Adam(1e-4)"
   ]
  },
  {
   "cell_type": "code",
   "execution_count": 14,
   "id": "ed2862ed-c43b-4507-8fe7-8f689eb73d75",
   "metadata": {},
   "outputs": [],
   "source": [
    "# define augmentation for the generator\n",
    "def prepare_gen_data(ds):\n",
    "    ds = ds.map(lambda x: (data_augmentation(x, training = True)), num_parallel_calls = tf.data.AUTOTUNE)\n",
    "    return ds.prefetch(buffer_size = tf.data.AUTOTUNE)"
   ]
  },
  {
   "cell_type": "code",
   "execution_count": 15,
   "id": "e7c4e050-8a34-4932-b8a8-532460d9c770",
   "metadata": {},
   "outputs": [],
   "source": [
    "def generate_and_save_image(model, epoch, test_input):\n",
    "    predictions = model(test_input, training = False)\n",
    "    fig = plt.figure(figsize = (4, 4))\n",
    "    for i in range(predictions.shape[0]):\n",
    "        plt.subplot(4, 4, i+1)\n",
    "        plt.imshow(predictions[i,:,:,0], cmap = 'gray')\n",
    "        plt.axis('off')\n",
    "    plt.savefig('image_at_epoch_{:04d}.png'.format(epoch))\n",
    "    plt.show()"
   ]
  },
  {
   "cell_type": "code",
   "execution_count": 16,
   "id": "8e759d7f-4baa-41ab-ae4f-1f438f5d7c38",
   "metadata": {},
   "outputs": [],
   "source": [
    "# define the training loop\n",
    "BUFFER_SIZE = 60000\n",
    "BATCH_SIZE = 256\n",
    "EPOCHS = 100\n",
    "noise_dim = 100\n",
    "num_examples_to_generate = 16\n",
    "seed = tf.random.normal([num_examples_to_generate, noise_dim])\n",
    "dataset = tf.data.Dataset.from_tensor_slices(x_train).shuffle(BUFFER_SIZE).batch(BATCH_SIZE)\n",
    "dataset = prepare_gen_data(dataset)\n",
    "\n",
    "# train step\n",
    "@tf.function\n",
    "def train_step(images):\n",
    "    noise = tf.random.normal([BATCH_SIZE, noise_dim])\n",
    "    with tf.GradientTape() as gen_tape, tf.GradientTape() as disc_tape:\n",
    "        generated_images = generator(noise, training = True)\n",
    "        real_output = discriminator(images, training = True)\n",
    "        fake_output = discriminator(generated_images, training = True)\n",
    "        gen_loss = generator_loss(fake_output)\n",
    "        disc_loss = discriminator_loss(real_output, fake_output)\n",
    "        \n",
    "    gradients_of_generator = gen_tape.gradient(gen_loss, generator.trainable_variables)\n",
    "    gradients_of_discriminator = disc_tape.gradient(disc_loss, discriminator.trainable_variables)\n",
    "\n",
    "    generator_optimizer.apply_gradients(zip(gradients_of_generator, generator.trainable_variables))\n",
    "    discriminator_optimizer.apply_gradients(zip(gradients_of_discriminator, discriminator.trainable_variables))\n",
    "\n",
    "def train(dataset, epochs, checkpoint_prefix, GAN_checkpoint):\n",
    "    for epoch in range(epochs):\n",
    "        start = time.time()\n",
    "        for image_batch in dataset:\n",
    "            train_step(image_batch)\n",
    "            \n",
    "        # save a checkpoint every 15 epochs\n",
    "        if (epoch + 1) % 15 == 0:\n",
    "            GAN_checkpoint.save(file_prefix = checkpoint_prefix)\n",
    "        if (epoch + 1) % 50 == 0:\n",
    "            generate_and_save_image(generator, epoch, seed)\n",
    "        #print('Time for epoch {} is {} sec'.format(epoch+1, time.time()-start))"
   ]
  },
  {
   "cell_type": "code",
   "execution_count": 17,
   "id": "18aa3ec2-f9cf-4078-b94f-f81a985e4e0f",
   "metadata": {},
   "outputs": [],
   "source": [
    "discriminator = make_discriminator_model()\n",
    "generator = make_generator_model()\n",
    "checkpoint_dir = './GAN_training_checkpoints'\n",
    "checkpoint_prefix = os.path.join(checkpoint_dir, 'ckpt')\n",
    "GAN_checkpoint = tf.train.Checkpoint(generator_optimizer = generator_optimizer,\n",
    "                                    discriminator_optimizer = discriminator_optimizer,\n",
    "                                    generator = generator,\n",
    "                                    discriminator = discriminator)\n",
    "\n",
    "if(os.path.exists('GAN_training_checkpoints')):\n",
    "    GAN_checkpoint.restore(tf.train.latest_checkpoint(checkpoint_dir))\n",
    "else:\n",
    "    train(dataset, EPOCHS, checkpoint_prefix, GAN_checkpoint)"
   ]
  },
  {
   "cell_type": "markdown",
   "id": "cc26181e-9f71-47a1-bb9e-36164df20a22",
   "metadata": {},
   "source": [
    "generating an example image and comparing with a real image"
   ]
  },
  {
   "cell_type": "code",
   "execution_count": 18,
   "id": "5ec09c7d-7492-4fe2-a9bf-ccd631d6b17d",
   "metadata": {},
   "outputs": [
    {
     "name": "stdout",
     "output_type": "stream",
     "text": [
      "tf.Tensor([[-2.0474334]], shape=(1, 1), dtype=float32)\n",
      "tf.Tensor([[-1.5242687]], shape=(1, 1), dtype=float32)\n",
      "tf.Tensor(\n",
      "[[1.0237759e-07 4.9330733e-06 1.1342845e-02 9.8332053e-01 3.2438838e-05\n",
      "  2.4032618e-03 1.1833387e-07 2.5162634e-03 3.7874043e-04 8.2298999e-07]], shape=(1, 10), dtype=float32)\n",
      "tf.Tensor(\n",
      "[[3.1603219e-13 1.5380263e-15 6.7921717e-09 1.0000000e+00 1.2175896e-14\n",
      "  4.7468511e-08 4.4607970e-14 3.2304885e-09 1.7506043e-08 4.7481774e-10]], shape=(1, 10), dtype=float32)\n"
     ]
    },
    {
     "data": {
      "image/png": "[encoded data removed]",
      "text/plain": [
       "<Figure size 576x288 with 2 Axes>"
      ]
     },
     "metadata": {
      "needs_background": "light"
     },
     "output_type": "display_data"
    }
   ],
   "source": [
    "noise = tf.random.normal([1,100])\n",
    "generated_image = generator(noise, training = False)\n",
    "real_img = np.expand_dims(x_train[12], 0)\n",
    "# plot both images\n",
    "_, ax = plt.subplots(1, 2, figsize = (8,4))\n",
    "ax[0].imshow(generated_image[0,:,:,0], cmap = 'gray')\n",
    "ax[1].imshow(real_img[0,:,:,0], cmap = 'gray')\n",
    "# discriminator output\n",
    "print(discriminator(generated_image))\n",
    "print(discriminator(real_img))\n",
    "# cnn output\n",
    "print(cnn_model(generated_image))\n",
    "print(cnn_model(real_img))"
   ]
  },
  {
   "cell_type": "code",
   "execution_count": 19,
   "id": "044c819c-e59f-48dc-99f2-6b91bb46b046",
   "metadata": {},
   "outputs": [],
   "source": [
    "@tf.function\n",
    "def target_function(x, index):\n",
    "    y = cnn_no_softmax(x)\n",
    "    y = tf.squeeze(y)\n",
    "    p = y[index]\n",
    "    print(\"p: \", p)\n",
    "    return p\n",
    "\n",
    "@tf.function\n",
    "def saliency(x, index):\n",
    "    #x_ = tf.cast(img, tf.float32) / 255.\n",
    "    #x = tf.Variable(x_)\n",
    "    with tf.GradientTape() as tape:\n",
    "        p = target_function(x, index)\n",
    "    grad = tape.gradient(p, x)\n",
    "    grad_abs = tf.math.abs(grad)\n",
    "    sal = (grad_abs - tf.math.reduce_min(grad_abs))/(tf.math.reduce_max(grad_abs) - tf.math.reduce_min(grad_abs))\n",
    "    return grad"
   ]
  },
  {
   "cell_type": "markdown",
   "id": "116d62ba-0a57-4783-9bbf-cb3974cfc03e",
   "metadata": {},
   "source": [
    "generating the saliency map for the image"
   ]
  },
  {
   "cell_type": "code",
   "execution_count": 20,
   "id": "86abc356-40d9-4b4e-bc0d-2155c957ed09",
   "metadata": {},
   "outputs": [
    {
     "name": "stdout",
     "output_type": "stream",
     "text": [
      "p:  Tensor(\"strided_slice:0\", shape=(), dtype=float32)\n"
     ]
    },
    {
     "data": {
      "text/plain": [
       "<matplotlib.image.AxesImage at 0x7fd03609aa90>"
      ]
     },
     "execution_count": 20,
     "metadata": {},
     "output_type": "execute_result"
    },
    {
     "data": {
      "image/png": "[encoded data removed]",
      "text/plain": [
       "<Figure size 576x288 with 2 Axes>"
      ]
     },
     "metadata": {
      "needs_background": "light"
     },
     "output_type": "display_data"
    }
   ],
   "source": [
    "index = tf.argmax(tf.squeeze(cnn_model(real_img))).numpy()\n",
    "x_ = tf.cast(real_img, tf.float32)\n",
    "x = tf.Variable(x_)\n",
    "sal = saliency(x, index)\n",
    "_, ax = plt.subplots(1, 2, figsize = (8,4))\n",
    "ax[0].imshow(real_img[0,:,:,0], cmap = 'gray')\n",
    "ax[1].imshow(sal[0,:,:,0], cmap = 'bwr')"
   ]
  },
  {
   "cell_type": "markdown",
   "id": "573eb5c1-1697-41a0-a3d7-ac19c9ea3703",
   "metadata": {},
   "source": [
    "# fooling the CNN"
   ]
  },
  {
   "cell_type": "code",
   "execution_count": 21,
   "id": "5984a049-49be-4859-96ed-127d961f50c6",
   "metadata": {},
   "outputs": [],
   "source": [
    "target_class = 9"
   ]
  },
  {
   "cell_type": "code",
   "execution_count": 22,
   "id": "91e5ae74-12fe-4502-8389-b829af043f17",
   "metadata": {},
   "outputs": [],
   "source": [
    "# make a tensorflow version of the image: scaled to [0,1] and with the extra dimension for the channel\n",
    "x_ = tf.cast(real_img, tf.float32)\n",
    "\n",
    "# create a tensorflow variable with respect to which we can differentiatiate\n",
    "x = tf.Variable(x_) # initialize x with the original image\n",
    "\n",
    "# get the vector of predicted probabilities for the original image\n",
    "orig_y = cnn_model(x).numpy().squeeze()"
   ]
  },
  {
   "cell_type": "code",
   "execution_count": 23,
   "id": "25905b92-1a65-481c-955f-c83a4836885b",
   "metadata": {},
   "outputs": [],
   "source": [
    "@tf.function\n",
    "def target_function2(x):\n",
    "    y = cnn_model(x)\n",
    "    y = tf.squeeze(y)\n",
    "    target_prob = y[target_class]\n",
    "    return target_prob"
   ]
  },
  {
   "cell_type": "code",
   "execution_count": 24,
   "id": "a9d25d8e-cdd1-4511-97e9-b8fdb340253f",
   "metadata": {},
   "outputs": [
    {
     "data": {
      "text/plain": [
       "<tf.Tensor: shape=(), dtype=float32, numpy=4.7481774e-10>"
      ]
     },
     "execution_count": 24,
     "metadata": {},
     "output_type": "execute_result"
    }
   ],
   "source": [
    "target_function2(real_img)"
   ]
  },
  {
   "cell_type": "markdown",
   "id": "b782dc0c-2753-43e6-b0d0-9df7a716393c",
   "metadata": {},
   "source": [
    "maximizing the target probability:"
   ]
  },
  {
   "cell_type": "code",
   "execution_count": 25,
   "id": "4b418373-2d5b-4aa8-a03e-17350c6ee60f",
   "metadata": {},
   "outputs": [],
   "source": [
    "max_iter = 600\n",
    "max_change = 0.005     # maximum change per iteration and pixel\n",
    "min_alpha = 100000     # a high value may be necessary to escape a local maximum\n",
    "close_enough = False\n",
    "epsilon = 1e-16\n",
    "iter = 0\n",
    "\n",
    "while not close_enough and iter < max_iter:\n",
    "    with tf.GradientTape() as tape:\n",
    "        p = target_function2(x)\n",
    "    grad = tape.gradient(p, x)\n",
    "    max_grad = tf.abs(tf.reduce_max(grad))\n",
    "    alpha = tf.minimum(100000, max_change/tf.maximum(max_grad, epsilon))\n",
    "    if(iter % 10 == 0):\n",
    "        #print(\"alpha: \", alpha, \" max_grad: \", max_grad)\n",
    "        pass\n",
    "    x.assign(x + alpha * grad)\n",
    "    x.assign(tf.clip_by_value(x, clip_value_min = 0, clip_value_max = 1))\n",
    "    iter += 1\n",
    "    if (p > 0.9999): # replace the 0 with the current value of the target_fkt\n",
    "        close_enough = True"
   ]
  },
  {
   "cell_type": "code",
   "execution_count": 26,
   "id": "b5ef1225-a657-49ac-8d9a-0d90d8bfc2cb",
   "metadata": {},
   "outputs": [
    {
     "name": "stdout",
     "output_type": "stream",
     "text": [
      "probability of class  9 is 0.94857585\n",
      "[3.1603219e-13 1.5380263e-15 6.7921717e-09 1.0000000e+00 1.2175896e-14\n",
      " 4.7468511e-08 4.4607970e-14 3.2304885e-09 1.7506043e-08 4.7481774e-10]\n",
      "[1.0998704e-03 6.4693908e-05 1.0369725e-03 3.8276855e-02 2.0771038e-03\n",
      " 2.8972724e-03 2.1502932e-07 2.3820871e-03 3.5891805e-03 9.4857585e-01]\n"
     ]
    }
   ],
   "source": [
    "target_prob = target_function2(x).numpy()\n",
    "print(\"probability of class \", target_class, \"is\", target_prob)\n",
    "print(orig_y)\n",
    "print(cnn_model(x).numpy().squeeze())"
   ]
  },
  {
   "cell_type": "code",
   "execution_count": 27,
   "id": "d3a2afaf-b993-466e-91a6-7ebf432165df",
   "metadata": {},
   "outputs": [
    {
     "data": {
      "text/plain": [
       "<matplotlib.image.AxesImage at 0x7fcfe83b8100>"
      ]
     },
     "execution_count": 27,
     "metadata": {},
     "output_type": "execute_result"
    },
    {
     "data": {
      "image/png": "[encoded data removed]",
      "text/plain": [
       "<Figure size 432x288 with 1 Axes>"
      ]
     },
     "metadata": {
      "needs_background": "light"
     },
     "output_type": "display_data"
    }
   ],
   "source": [
    "plt.imshow(real_img[0,:,:,0], cmap = 'gray')"
   ]
  },
  {
   "cell_type": "code",
   "execution_count": 28,
   "id": "af4d3ac6-d5f7-4d0b-a4cc-c85390455717",
   "metadata": {},
   "outputs": [
    {
     "data": {
      "text/plain": [
       "<tf.Tensor: shape=(1, 1), dtype=float32, numpy=array([[-10.423251]], dtype=float32)>"
      ]
     },
     "execution_count": 28,
     "metadata": {},
     "output_type": "execute_result"
    },
    {
     "data": {
      "image/png": "[encoded data removed]",
      "text/plain": [
       "<Figure size 432x288 with 1 Axes>"
      ]
     },
     "metadata": {
      "needs_background": "light"
     },
     "output_type": "display_data"
    }
   ],
   "source": [
    "plt.imshow(x[0,:,:,0], cmap = 'gray')\n",
    "discriminator(x)"
   ]
  },
  {
   "cell_type": "code",
   "execution_count": 29,
   "id": "4190ba71-2467-41a5-91b5-aa07910fec61",
   "metadata": {},
   "outputs": [
    {
     "name": "stdout",
     "output_type": "stream",
     "text": [
      "tf.Tensor(0.027262345, shape=(), dtype=float32)\n"
     ]
    },
    {
     "data": {
      "image/png": "[encoded data removed]",
      "text/plain": [
       "<Figure size 432x288 with 1 Axes>"
      ]
     },
     "metadata": {
      "needs_background": "light"
     },
     "output_type": "display_data"
    }
   ],
   "source": [
    "with tf.GradientTape() as tape:\n",
    "    prob = target_function2(x)\n",
    "saliency = tape.gradient(prob, x)\n",
    "plt.imshow(saliency[0,:,:,0], cmap = 'bwr')\n",
    "print(tf.reduce_max(saliency))"
   ]
  },
  {
   "cell_type": "markdown",
   "id": "13016472-adfc-4069-98e0-1b6d690243c2",
   "metadata": {},
   "source": [
    "$ g(x) = - \\ln P(x) + \\ln P(y|x) = - \\ln P(x) + \\ln f(x) $ \\\n",
    "use gradient descend to minimize $g(x)$ \\\n",
    "$ x_{\\text{new} } = x - \\alpha \\cdot \\nabla g(x) $ \\\n",
    "tf.GradientTape needs to evaluate the function to get the gradient. \\\n",
    "This is a problem because the discriminator can return negative values. \\\n",
    "To avoid evaluating the natural log at negative values the following property of its derivative can be used: \\\n",
    "$ \\frac{d}{dx} \\ln (-x) = \\frac{1}{-x} \\cdot -1 = \\frac{1}{x} = \\frac{d}{dx} \\ln (x) $ \\\n",
    "calculate the gradient of $ g $ explicitely: \\\n",
    "$ \\frac{d}{dx} g(x) = \\frac{d}{dx} \\ln (f(x)) - \\frac{d}{dx} \\ln(P(x)) = \\frac{1}{f(x)}f'(x) - \\frac{1}{P(x)}P'(x) $"
   ]
  },
  {
   "cell_type": "code",
   "execution_count": 30,
   "id": "5018bd6a-8617-441d-b217-725194bc5eea",
   "metadata": {},
   "outputs": [],
   "source": [
    "# reset x to original image\n",
    "# make a tensorflow version of the image: scaled to [0,1] and with the extra dimension for the channel\n",
    "x_ = tf.cast(real_img, tf.float32)\n",
    "\n",
    "# create a tensorflow variable with respect to which we can differentiatiate\n",
    "x = tf.Variable(x_) # initialize x with the original image\n",
    "\n",
    "# get the vector of predicted probabilities for the original image\n",
    "orig_y = cnn_model(x).numpy().squeeze()\n",
    "#plt.imshow(x[0,:,:,0], cmap = 'gray')"
   ]
  },
  {
   "cell_type": "code",
   "execution_count": 31,
   "id": "1d30a475-704d-4445-9dc4-8ec8e6743992",
   "metadata": {},
   "outputs": [
    {
     "data": {
      "text/plain": [
       "Text(0.5, 1.0, 'input')"
      ]
     },
     "execution_count": 31,
     "metadata": {},
     "output_type": "execute_result"
    },
    {
     "data": {
      "image/png": "[encoded data removed]",
      "text/plain": [
       "<Figure size 576x288 with 3 Axes>"
      ]
     },
     "metadata": {
      "needs_background": "light"
     },
     "output_type": "display_data"
    }
   ],
   "source": [
    "with tf.GradientTape() as tape:\n",
    "    p = discriminator(x)\n",
    "grad_p = tape.gradient(p, x)\n",
    "\n",
    "with tf.GradientTape() as tape:\n",
    "    f = cnn_no_softmax(x)\n",
    "grad_f = tape.gradient(f, x)\n",
    "\n",
    "_, ax = plt.subplots(1, 3, figsize = (8,4))\n",
    "ax[0].imshow(grad_p[0,:,:,0], cmap = 'bwr')\n",
    "ax[0].set_title(\"saliency map of the discriminator\")\n",
    "ax[1].imshow(grad_f[0,:,:,0], cmap = 'bwr')\n",
    "ax[1].set_title(\"saliency map of the classifier\")\n",
    "ax[2].imshow(x[0,:,:,0], cmap = 'gray')\n",
    "ax[2].set_title(\"input\")"
   ]
  },
  {
   "cell_type": "markdown",
   "id": "1fe5a6d8-4b01-435e-a65b-674fc8a2919a",
   "metadata": {},
   "source": [
    "# algorithm version 1:\n",
    "## reducing the probability of the originaly prediction while increasing the discriminator output"
   ]
  },
  {
   "cell_type": "code",
   "execution_count": 32,
   "id": "b7f8a88c-41f5-4a93-a857-c4a11070c281",
   "metadata": {},
   "outputs": [],
   "source": [
    "# algorithm\n",
    "max_iter = 600\n",
    "max_change = 0.005     # maximum change per iteration and pixel\n",
    "min_alpha = 100000     # a high value may be necessary to escape a local maximum\n",
    "close_enough = False\n",
    "epsilon = 1e-16\n",
    "iter = 0\n",
    "\n",
    "index = tf.argmax(tf.squeeze(cnn_model(x))).numpy()\n",
    "\n",
    "while not close_enough and iter < max_iter:\n",
    "    # derive discriminator\n",
    "    with tf.GradientTape() as tape:\n",
    "        p = discriminator(x)\n",
    "    grad_p = tape.gradient(p, x)\n",
    "    # derive classifier\n",
    "    with tf.GradientTape() as tape:\n",
    "        f = tf.squeeze(cnn_no_softmax(x))[index]\n",
    "    grad_f = tape.gradient(f, x)\n",
    "    \n",
    "    max_grad_p = tf.abs(tf.reduce_max(grad_p))\n",
    "    max_grad_f = tf.abs(tf.reduce_max(grad_f))\n",
    "    max_grad = tf.maximum(max_grad_p, max_grad_f)\n",
    "    alpha = tf.minimum(100000, max_change/tf.maximum(max_grad, epsilon))\n",
    "    \n",
    "    if(iter % 10 == 0):\n",
    "        #print(\"grad_p/p: \", grad_p/p, \" grad_f/f: \", grad_f/tf.reduce_max(f))\n",
    "        pass\n",
    "    \n",
    "    x.assign(x + alpha * ((grad_p/p) - (grad_f/tf.reduce_max(f))))\n",
    "    x.assign(tf.clip_by_value(x, clip_value_min = 0, clip_value_max = 1))\n",
    "    iter += 1\n",
    "    new_index = tf.argmax(tf.squeeze(cnn_model(x))).numpy()\n",
    "    if ((new_index != index) and (discriminator(x).numpy() > 0)): # done when the prediction has changed\n",
    "        close_enough = True"
   ]
  },
  {
   "cell_type": "code",
   "execution_count": 33,
   "id": "3869ea4b-80ea-4f59-aae1-2037f400662c",
   "metadata": {},
   "outputs": [
    {
     "name": "stdout",
     "output_type": "stream",
     "text": [
      "tf.Tensor([[-24.996538]], shape=(1, 1), dtype=float32)\n",
      "tf.Tensor(\n",
      "[[1.5383554e-04 4.0638522e-08 5.1124464e-04 9.9736893e-01 1.0043671e-08\n",
      "  1.9667950e-04 1.4137680e-06 7.4776408e-06 1.7375230e-03 2.2772581e-05]], shape=(1, 10), dtype=float32)\n"
     ]
    },
    {
     "data": {
      "image/png": "[encoded data removed]",
      "text/plain": [
       "<Figure size 576x288 with 2 Axes>"
      ]
     },
     "metadata": {
      "needs_background": "light"
     },
     "output_type": "display_data"
    }
   ],
   "source": [
    "_, ax = plt.subplots(1, 2, figsize = (8,4))\n",
    "ax[0].imshow(x[0,:,:,0], cmap = 'gray')\n",
    "ax[1].imshow(real_img[0,:,:,0], cmap = 'gray')\n",
    "print(discriminator(x))\n",
    "print(cnn_model(x))"
   ]
  },
  {
   "cell_type": "code",
   "execution_count": 34,
   "id": "d75f2296-6db6-46b3-9bc0-4d12c4682fbe",
   "metadata": {},
   "outputs": [
    {
     "data": {
      "text/plain": [
       "Text(0.5, 1.0, 'input')"
      ]
     },
     "execution_count": 34,
     "metadata": {},
     "output_type": "execute_result"
    },
    {
     "data": {
      "image/png": "[encoded data removed]",
      "text/plain": [
       "<Figure size 576x288 with 3 Axes>"
      ]
     },
     "metadata": {
      "needs_background": "light"
     },
     "output_type": "display_data"
    }
   ],
   "source": [
    "with tf.GradientTape() as tape:\n",
    "    p = discriminator(x)\n",
    "grad_p = tape.gradient(p, x)\n",
    "\n",
    "with tf.GradientTape() as tape:\n",
    "    f = cnn_no_softmax(x)\n",
    "grad_f = tape.gradient(f, x)\n",
    "\n",
    "_, ax = plt.subplots(1, 3, figsize = (8,4))\n",
    "ax[0].imshow(grad_p[0,:,:,0], cmap = 'bwr')\n",
    "ax[0].set_title(\"saliency map of the discriminator\")\n",
    "ax[1].imshow(grad_f[0,:,:,0], cmap = 'bwr')\n",
    "ax[1].set_title(\"saliency map of the classifier\")\n",
    "ax[2].imshow(x[0,:,:,0], cmap = 'gray')\n",
    "ax[2].set_title(\"input\")"
   ]
  },
  {
   "cell_type": "markdown",
   "id": "85209d44-ade7-49fb-a75f-889a6566b6a1",
   "metadata": {},
   "source": [
    "# algorithm version 2\n",
    "increasing the output for a class that looks similar to the correct class\n",
    "for example:\n",
    "3 and 9,\n",
    "3 and 8,\n",
    "4 and 9,\n",
    "8 and 9,\n",
    "0 and 9\n",
    "while increasing the discriminator output"
   ]
  }
 ],
 "metadata": {
  "kernelspec": {
   "display_name": "Python 3",
   "language": "python",
   "name": "python3"
  },
  "language_info": {
   "codemirror_mode": {
    "name": "ipython",
    "version": 3
   },
   "file_extension": ".py",
   "mimetype": "text/x-python",
   "name": "python",
   "nbconvert_exporter": "python",
   "pygments_lexer": "ipython3",
   "version": "3.9.2"
  }
 },
 "nbformat": 4,
 "nbformat_minor": 5
}
