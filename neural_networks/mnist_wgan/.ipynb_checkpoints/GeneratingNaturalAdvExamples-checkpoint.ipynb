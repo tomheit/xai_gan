{
 "cells": [
  {
   "cell_type": "code",
   "execution_count": 26,
   "id": "4ba6710b-6d49-4337-b894-9ab84bb18884",
   "metadata": {},
   "outputs": [],
   "source": [
    "import sys\n",
    "import numpy as np\n",
    "import tensorflow as tf\n",
    "import matplotlib.pyplot as plt\n",
    "from matplotlib import colors\n",
    "import wgan\n",
    "sys.path.append('../mnist_cnn')\n",
    "import mnistCnn"
   ]
  },
  {
   "cell_type": "code",
   "execution_count": 27,
   "id": "34ec481a-e8af-4a1b-a401-5ae5bcfd7f7e",
   "metadata": {},
   "outputs": [
    {
     "name": "stdout",
     "output_type": "stream",
     "text": [
      "WARNING:tensorflow:No training configuration found in the save file, so the model was *not* compiled. Compile it manually.\n",
      "WARNING:tensorflow:No training configuration found in the save file, so the model was *not* compiled. Compile it manually.\n",
      "WARNING:tensorflow:No training configuration found in the save file, so the model was *not* compiled. Compile it manually.\n"
     ]
    }
   ],
   "source": [
    "# load gan\n",
    "gan = wgan.WGan()\n",
    "genPath = \"./wGan_1000_epochs/wgan_generator.h5\"\n",
    "discPath = \"./wGan_1000_epochs/wgan_discriminator.h5\"\n",
    "invPath = \"./wGan_1000_epochs/wgan_inverter.h5\"\n",
    "gan.load_gan(genPath, discPath, invPath)"
   ]
  },
  {
   "cell_type": "code",
   "execution_count": 28,
   "id": "f0233b72-f0d9-493e-a78f-aa3c73bd963a",
   "metadata": {},
   "outputs": [],
   "source": [
    "# load cnn\n",
    "cnn = mnistCnn.MnistCnn()\n",
    "cnn.loadWeights('../mnist_cnn/largerCnn30Epochs')"
   ]
  },
  {
   "cell_type": "code",
   "execution_count": 29,
   "id": "4e1c16d6-0594-4dc2-b15f-db93dc4772bc",
   "metadata": {},
   "outputs": [],
   "source": [
    "# load mnist dataset\n",
    "(X_train, y_train), (x_test, y_test) = tf.keras.datasets.mnist.load_data()\n",
    "img_data = X_train.copy()\n",
    "img_data = img_data.reshape(X_train.shape[0], 28, 28, 1)\n",
    "img_data = img_data / 255 #pixel values in [0,1]\n",
    "test_data = x_test.copy()\n",
    "test_data = test_data.reshape(x_test.shape[0], 28, 28, 1)\n",
    "test_data = test_data / 255"
   ]
  },
  {
   "cell_type": "code",
   "execution_count": 63,
   "id": "096c267b-c26e-43f0-bdc2-5f584c95c4ec",
   "metadata": {},
   "outputs": [
    {
     "name": "stdout",
     "output_type": "stream",
     "text": [
      "2\n"
     ]
    }
   ],
   "source": [
    "test_img = np.expand_dims(test_data[0], 0)\n",
    "y = y_test[0]\n",
    "z = gan.inverter(test_img)\n",
    "delta_z = np.random.randn(5000, z.shape[1]) #5000 128dim vectors\n",
    "d = np.random.rand(5000) * (10) #5000 values in (0, 10] random uniformly distr\n",
    "norm_p = np.linalg.norm(delta_z, ord = 2, axis = 1) #norm of each 128dim vec (5000 vectors)\n",
    "d_norm = np.divide(d, norm_p).reshape(-1, 1) # values\n",
    "delta_z = np.multiply(delta_z, d_norm)\n",
    "z_tilde = z+delta_z\n",
    "x_tilde = gan.generator(z_tilde)\n",
    "y_tilde = cnn.model(x_tilde)\n",
    "y_tilde = np.argmax(y_tilde, axis = 1)\n",
    "indices_adv = np.where(y_tilde != y)[0]\n",
    "idx = indices_adv[np.argmin(d[indices_adv])]\n",
    "print(y_tilde[idx])"
   ]
  },
  {
   "cell_type": "code",
   "execution_count": 70,
   "id": "edb77817-21fd-4bcd-9353-fafcdf8bd834",
   "metadata": {},
   "outputs": [],
   "source": [
    "# hybrid shrinking search algorithm to generate adversaries\n",
    "# https://github.com/zhengliz/natural-adversary/blob/master/image/search.py\n",
    "# \"Generating Natural Adversarial Examples\"\n",
    "def recursive_search(gen, inv, cnn, x, y, y_t = None, z = None, n_samples = 5000, step = 0.01, l = 0., h = 10., stop = 5, p = 2, verbose = False):\n",
    "    x_adv, y_adv, z_adv, d_adv = None, None, None, None\n",
    "    # recursion\n",
    "    counter = 1\n",
    "    if(z is None):\n",
    "        z = inv(x)\n",
    "    while(True):\n",
    "        delta_z = np.random.randn(n_samples, z.shape[1]) #n_samples latent space elements\n",
    "        d = np.random.rand(n_samples) * (h - l) + l\n",
    "        norm_p = np.linalg.norm(delta_z, ord = p, axis = 1)\n",
    "        d_norm = np.divide(d, norm_p).reshape(-1, 1)\n",
    "        delta_z = np.multiply(delta_z, d_norm)\n",
    "        z_tilde = z + delta_z    # z tilde\n",
    "        x_tilde = gen(z_tilde)   # x tilde\n",
    "        y_tilde = cnn(x_tilde)   # y tilde\n",
    "        y_tilde = np.argmax(y_tilde, axis = 1) # need the class, not confidence vector\n",
    "        # n_samples y_tilde values generated, get the first fitting:\n",
    "        if(y_t is None):\n",
    "            indices_adv = np.where(y_tilde != y)[0]\n",
    "        else:\n",
    "            indices_adv = np.where(y_tilde == y_t)[0]\n",
    "        if len(indices_adv) == 0:       # no candidate generated\n",
    "            if h - l < step:\n",
    "                break\n",
    "            else:\n",
    "                l = l + (h - l) * 0.5\n",
    "                counter = 1\n",
    "        else:                           # certain candidates generated\n",
    "            idx_adv = indices_adv[np.argmin(d[indices_adv])]\n",
    "            if y_t is None:\n",
    "                assert (y_tilde[idx_adv] != y)\n",
    "            else:\n",
    "                assert (y_tilde[idx_adv] == y_t)\n",
    "            if d_adv is None or d[idx_adv] < d_adv:\n",
    "                x_adv = x_tilde[idx_adv]\n",
    "                y_adv = y_tilde[idx_adv]\n",
    "                z_adv = z_tilde[idx_adv]\n",
    "                d_adv = d[idx_adv]\n",
    "                l, h = d_adv * 0.5, d_adv\n",
    "                counter = 1\n",
    "            else:\n",
    "                h = l + (h - l) * 0.5\n",
    "                counter += 1\n",
    "            if counter > stop or h - l < step:\n",
    "                break\n",
    "    # iteration\n",
    "    if(d_adv is not None):\n",
    "        h = d_adv\n",
    "    l = max(0., h - step)\n",
    "    counter = 1\n",
    "    while(counter <= stop and h > 1e-4):\n",
    "        delta_z = np.random.randn(n_samples, z.shape[1])\n",
    "        d = np.random.rand(n_samples) * (h - l) + l\n",
    "        norm_p = np.linalg.norm(delta_z, ord = p, axis = 1)\n",
    "        d_norm = np.divide(d, norm_p).reshape(-1, 1)\n",
    "        delta_z = np.multiply(delta_z, d_norm)\n",
    "        z_tilde = z + delta_z\n",
    "        x_tilde = gen(z_tilde)\n",
    "        y_tilde = cnn(x_tilde)\n",
    "        y_tilde = np.argmax(y_tilde, axis = 1)\n",
    "        if y_t is None:\n",
    "            indices_adv = np.where(y_tilde != y)[0]\n",
    "        else:\n",
    "            indices_adv = np.where(y_tilde == y_t)[0]\n",
    "        if len(indices_adv) == 0:\n",
    "            counter += 1\n",
    "        else:\n",
    "            idx_adv = indices_adv[np.argmin(d[indices_adv])]\n",
    "            if y_t is None:\n",
    "                assert (y_tilde[idx_adv] != y)\n",
    "            else:\n",
    "                assert (y_tilde[idx_adv] == y_t)\n",
    "            if d_adv is None or d[idx_adv] < d_adv:\n",
    "                x_adv = x_tilde[idx_adv]\n",
    "                y_adv = y_tilde[idx_adv]\n",
    "                z_adv = z_tilde[idx_adv]\n",
    "                d_adv = d[idx_adv]\n",
    "            h = l\n",
    "            l = max(0., h - step)\n",
    "            counter = 1\n",
    "    # return\n",
    "    adversary = {'x': x, 'y': y, 'z': z,\n",
    "                 'x_adv': x_adv, 'y_adv': y_adv, 'z_adv': z_adv, 'd_adv': d_adv}\n",
    "    return adversary"
   ]
  },
  {
   "cell_type": "code",
   "execution_count": 71,
   "id": "ecc0d374-f348-4023-ad94-751db229a229",
   "metadata": {},
   "outputs": [
    {
     "name": "stdout",
     "output_type": "stream",
     "text": [
      "(1, 28, 28, 1)\n",
      "(1, 128)\n",
      "(1, 28, 28, 1)\n"
     ]
    }
   ],
   "source": [
    "test_img = np.expand_dims(test_data[0], 0)\n",
    "print(test_img.shape)\n",
    "test_z = gan.inverter(test_img)\n",
    "print(test_z.shape)\n",
    "test_gen = gan.generator(test_z)\n",
    "print(test_gen.shape)"
   ]
  },
  {
   "cell_type": "code",
   "execution_count": 72,
   "id": "d3805635-62c5-4863-8c40-1b4ac83ba078",
   "metadata": {},
   "outputs": [
    {
     "ename": "NameError",
     "evalue": "name 'x_adv' is not defined",
     "output_type": "error",
     "traceback": [
      "\u001b[0;31m---------------------------------------------------------------------------\u001b[0m",
      "\u001b[0;31mNameError\u001b[0m                                 Traceback (most recent call last)",
      "\u001b[0;32m<ipython-input-72-b04643818963>\u001b[0m in \u001b[0;36m<module>\u001b[0;34m\u001b[0m\n\u001b[1;32m      1\u001b[0m \u001b[0madversary\u001b[0m \u001b[0;34m=\u001b[0m \u001b[0mrecursive_search\u001b[0m\u001b[0;34m(\u001b[0m\u001b[0mgan\u001b[0m\u001b[0;34m.\u001b[0m\u001b[0mgenerator\u001b[0m\u001b[0;34m,\u001b[0m \u001b[0mgan\u001b[0m\u001b[0;34m.\u001b[0m\u001b[0minverter\u001b[0m\u001b[0;34m,\u001b[0m \u001b[0mcnn\u001b[0m\u001b[0;34m.\u001b[0m\u001b[0mmodel\u001b[0m\u001b[0;34m,\u001b[0m \u001b[0mnp\u001b[0m\u001b[0;34m.\u001b[0m\u001b[0mexpand_dims\u001b[0m\u001b[0;34m(\u001b[0m\u001b[0mtest_data\u001b[0m\u001b[0;34m[\u001b[0m\u001b[0;36m0\u001b[0m\u001b[0;34m]\u001b[0m\u001b[0;34m,\u001b[0m \u001b[0;36m0\u001b[0m\u001b[0;34m)\u001b[0m\u001b[0;34m,\u001b[0m \u001b[0my_test\u001b[0m\u001b[0;34m[\u001b[0m\u001b[0;36m0\u001b[0m\u001b[0;34m]\u001b[0m\u001b[0;34m)\u001b[0m\u001b[0;34m\u001b[0m\u001b[0;34m\u001b[0m\u001b[0m\n\u001b[0;32m----> 2\u001b[0;31m \u001b[0mx_adversary\u001b[0m \u001b[0;34m=\u001b[0m \u001b[0madversary\u001b[0m\u001b[0;34m[\u001b[0m\u001b[0mx_adv\u001b[0m\u001b[0;34m]\u001b[0m\u001b[0;34m\u001b[0m\u001b[0;34m\u001b[0m\u001b[0m\n\u001b[0m\u001b[1;32m      3\u001b[0m \u001b[0;31m###(gen, inv, cnn, x, y, y_t = None, z = None, n_samples = 5000, step = 0.01, l = 0., h = 10., stop = 5, p = 2, verbose = False):\u001b[0m\u001b[0;34m\u001b[0m\u001b[0;34m\u001b[0m\u001b[0;34m\u001b[0m\u001b[0m\n\u001b[1;32m      4\u001b[0m \u001b[0mnorm\u001b[0m \u001b[0;34m=\u001b[0m \u001b[0mcolors\u001b[0m\u001b[0;34m.\u001b[0m\u001b[0mNormalize\u001b[0m\u001b[0;34m(\u001b[0m\u001b[0mvmin\u001b[0m \u001b[0;34m=\u001b[0m \u001b[0;36m0\u001b[0m\u001b[0;34m,\u001b[0m \u001b[0mvmax\u001b[0m \u001b[0;34m=\u001b[0m \u001b[0;36m1\u001b[0m\u001b[0;34m)\u001b[0m\u001b[0;34m\u001b[0m\u001b[0;34m\u001b[0m\u001b[0m\n\u001b[1;32m      5\u001b[0m \u001b[0mfig\u001b[0m\u001b[0;34m,\u001b[0m \u001b[0max\u001b[0m \u001b[0;34m=\u001b[0m \u001b[0mplt\u001b[0m\u001b[0;34m.\u001b[0m\u001b[0msubplots\u001b[0m\u001b[0;34m(\u001b[0m\u001b[0;36m1\u001b[0m\u001b[0;34m,\u001b[0m\u001b[0;36m2\u001b[0m\u001b[0;34m)\u001b[0m\u001b[0;34m\u001b[0m\u001b[0;34m\u001b[0m\u001b[0m\n",
      "\u001b[0;31mNameError\u001b[0m: name 'x_adv' is not defined"
     ]
    }
   ],
   "source": [
    "adversary = recursive_search(gan.generator, gan.inverter, cnn.model, np.expand_dims(test_data[0], 0), y_test[0])"
   ]
  },
  {
   "cell_type": "code",
   "execution_count": 75,
   "id": "4e71813c-28fd-4641-bb26-7b9ff4f3d850",
   "metadata": {},
   "outputs": [
    {
     "data": {
      "image/png": "[encoded data removed]",
      "text/plain": [
       "<Figure size 432x288 with 2 Axes>"
      ]
     },
     "metadata": {
      "needs_background": "light"
     },
     "output_type": "display_data"
    }
   ],
   "source": [
    "x_adversary = adversary['x_adv']\n",
    "###(gen, inv, cnn, x, y, y_t = None, z = None, n_samples = 5000, step = 0.01, l = 0., h = 10., stop = 5, p = 2, verbose = False):\n",
    "norm = colors.Normalize(vmin = 0, vmax = 1)\n",
    "fig, ax = plt.subplots(1,2)\n",
    "im1 = ax[0].imshow(test_data[0], cmap = 'gray', interpolation = 'none')\n",
    "im1.set_norm(norm)\n",
    "im2 = ax[1].imshow(x_adversary, cmap = 'gray', interpolation = 'none')\n",
    "im2.set_norm(norm)"
   ]
  },
  {
   "cell_type": "code",
   "execution_count": 76,
   "id": "4b9c46ca-d0ab-4d11-9896-95a9ca7ae600",
   "metadata": {},
   "outputs": [
    {
     "name": "stdout",
     "output_type": "stream",
     "text": [
      "2\n"
     ]
    }
   ],
   "source": [
    "print(adversary['y_adv'])"
   ]
  },
  {
   "cell_type": "code",
   "execution_count": null,
   "id": "a3871b82-0071-4916-83ef-901d0c659cbe",
   "metadata": {},
   "outputs": [],
   "source": []
  }
 ],
 "metadata": {
  "kernelspec": {
   "display_name": "Python 3",
   "language": "python",
   "name": "python3"
  },
  "language_info": {
   "codemirror_mode": {
    "name": "ipython",
    "version": 3
   },
   "file_extension": ".py",
   "mimetype": "text/x-python",
   "name": "python",
   "nbconvert_exporter": "python",
   "pygments_lexer": "ipython3",
   "version": "3.9.2"
  }
 },
 "nbformat": 4,
 "nbformat_minor": 5
}
