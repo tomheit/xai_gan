{
 "cells": [
  {
   "cell_type": "code",
   "execution_count": 1,
   "id": "7ad5dd8d-7959-4e7e-a19a-fec29016c3b8",
   "metadata": {},
   "outputs": [],
   "source": [
    "import numpy as np\n",
    "import tensorflow as tf\n",
    "from tensorflow.keras.layers import Dense, Flatten, Conv2D, MaxPooling2D, Dropout, BatchNormalization, Conv2DTranspose, LeakyReLU, Reshape, ReLU, Input, Cropping2D\n",
    "import tensorflow.keras.initializers\n",
    "import time\n",
    "import os\n",
    "import matplotlib.pyplot as plt\n",
    "from tensorflow.keras.models import Model, load_model\n",
    "import math"
   ]
  },
  {
   "cell_type": "code",
   "execution_count": 2,
   "id": "cf3c11c4-a34d-4558-b763-851ac3cda016",
   "metadata": {},
   "outputs": [],
   "source": [
    "def testLayer():\n",
    "    DIM = 64\n",
    "    input_layer = Input(shape = 128)\n",
    "    g = Dense(4*4*4*DIM, activation = 'relu')(input_layer)\n",
    "    g = Reshape([4, 4, 4*DIM])(g)\n",
    "    # he normal initializer used by gulrajani\n",
    "    g = Conv2DTranspose(filters = 2*DIM, kernel_size = 5, strides = (2,2), padding = 'SAME', kernel_initializer = 'he_normal')(g)\n",
    "    g = ReLU()(g)\n",
    "    out = Cropping2D(cropping = ((0,1), (0,1)), data_format = 'channels_last')(g)\n",
    "    model = Model(input_layer, out, name = 'Test')\n",
    "    return model"
   ]
  },
  {
   "cell_type": "code",
   "execution_count": 3,
   "id": "90bdd7c5-7e78-4df8-aab0-b70784fee0b4",
   "metadata": {},
   "outputs": [
    {
     "name": "stdout",
     "output_type": "stream",
     "text": [
      "Model: \"Test\"\n",
      "_________________________________________________________________\n",
      "Layer (type)                 Output Shape              Param #   \n",
      "=================================================================\n",
      "input_1 (InputLayer)         [(None, 128)]             0         \n",
      "_________________________________________________________________\n",
      "dense (Dense)                (None, 4096)              528384    \n",
      "_________________________________________________________________\n",
      "reshape (Reshape)            (None, 4, 4, 256)         0         \n",
      "_________________________________________________________________\n",
      "conv2d_transpose (Conv2DTran (None, 8, 8, 128)         819328    \n",
      "_________________________________________________________________\n",
      "re_lu (ReLU)                 (None, 8, 8, 128)         0         \n",
      "_________________________________________________________________\n",
      "cropping2d (Cropping2D)      (None, 7, 7, 128)         0         \n",
      "=================================================================\n",
      "Total params: 1,347,712\n",
      "Trainable params: 1,347,712\n",
      "Non-trainable params: 0\n",
      "_________________________________________________________________\n"
     ]
    }
   ],
   "source": [
    "testModel = testLayer()\n",
    "testModel.summary()"
   ]
  },
  {
   "cell_type": "code",
   "execution_count": 4,
   "id": "cc3eb01c-33ff-4b71-b329-27dc47feb32e",
   "metadata": {},
   "outputs": [],
   "source": [
    "def makeGeneratorModel(self, latent_dim = 128):\n",
    "    DIM = 64\n",
    "    OUTPUT_DIM = 28*28\n",
    "    input_layer = Input(shape = 128)\n",
    "    g = Dense(4*4*4*DIM, activation = 'relu')(input_layer)\n",
    "    g = Reshape([4, 4, 4*DIM])(g)\n",
    "    # he normal initializer used by gulrajani\n",
    "    g = Conv2DTranspose(filters = 2*DIM, kernel_size = 5, strides = (2,2), padding = 'SAME', kernel_initializer = 'he_normal')(g)\n",
    "    g = ReLU()(g)\n",
    "    g = Cropping2D(cropping = ((0,1), (0,1)), data_format = 'channels_last')(g)\n",
    "    g = Conv2DTranspose(filters = DIM, kernel_size = 5, strides = (2,2), padding = 'SAME', kernel_initializer = 'he_normal')(g)\n",
    "    g = ReLU()(g)\n",
    "    output_layer = Conv2DTranspose(filters = 1, kernel_size = 5, strides = (2,2), padding = 'SAME', activation = 'sigmoid', kernel_initializer = 'he_normal')(g)\n",
    "    #output_layer = Reshape([OUTPUT_DIM])(g)\n",
    "    model = Model(input_layer, output_layer, name = 'Generator')\n",
    "    return model"
   ]
  },
  {
   "cell_type": "code",
   "execution_count": 39,
   "id": "8ce0837c-8e7e-40fd-9a29-a79fba11864a",
   "metadata": {},
   "outputs": [
    {
     "name": "stdout",
     "output_type": "stream",
     "text": [
      "Model: \"Generator\"\n",
      "_________________________________________________________________\n",
      "Layer (type)                 Output Shape              Param #   \n",
      "=================================================================\n",
      "input_5 (InputLayer)         [(None, 128)]             0         \n",
      "_________________________________________________________________\n",
      "dense_5 (Dense)              (None, 4096)              528384    \n",
      "_________________________________________________________________\n",
      "reshape_4 (Reshape)          (None, 4, 4, 256)         0         \n",
      "_________________________________________________________________\n",
      "conv2d_transpose_1 (Conv2DTr (None, 8, 8, 128)         819328    \n",
      "_________________________________________________________________\n",
      "re_lu_1 (ReLU)               (None, 8, 8, 128)         0         \n",
      "_________________________________________________________________\n",
      "cropping2d_1 (Cropping2D)    (None, 7, 7, 128)         0         \n",
      "_________________________________________________________________\n",
      "conv2d_transpose_2 (Conv2DTr (None, 14, 14, 64)        204864    \n",
      "_________________________________________________________________\n",
      "re_lu_2 (ReLU)               (None, 14, 14, 64)        0         \n",
      "_________________________________________________________________\n",
      "conv2d_transpose_3 (Conv2DTr (None, 28, 28, 1)         1601      \n",
      "=================================================================\n",
      "Total params: 1,554,177\n",
      "Trainable params: 1,554,177\n",
      "Non-trainable params: 0\n",
      "_________________________________________________________________\n"
     ]
    }
   ],
   "source": [
    "generator = makeGeneratorModel()\n",
    "generator.summary()"
   ]
  },
  {
   "cell_type": "code",
   "execution_count": 22,
   "id": "3ab14bba-efee-4e4c-8d98-74034354f685",
   "metadata": {},
   "outputs": [],
   "source": [
    "def makeDiscriminatorModel():\n",
    "    DIM = 64\n",
    "    OUTPUT_DIM = 28*28\n",
    "    input_layer = Input(shape = (28, 28, 1))\n",
    "    d = Conv2D(filters = DIM, kernel_size = 5, strides = (2,2), padding = 'SAME')(input_layer)\n",
    "    d = LeakyReLU()(d)\n",
    "    d = Conv2D(filters = 2*DIM, kernel_size = 5, strides = (2,2), padding = 'SAME')(d)\n",
    "    d = LeakyReLU()(d)\n",
    "    d = Conv2D(filters = 4*DIM, kernel_size = 5, strides = (2,2), padding = 'SAME')(d)\n",
    "    d = LeakyReLU()(d)\n",
    "    d = Reshape([4*4*4*DIM])(d)\n",
    "    d = Dense(1)(d)\n",
    "    output_layer = Reshape([])(d)\n",
    "    model = Model(input_layer, output_layer, name = 'Discriminator')\n",
    "    return model"
   ]
  },
  {
   "cell_type": "code",
   "execution_count": 23,
   "id": "0cfea923-1efe-471b-ad7c-bb93eed1ddeb",
   "metadata": {},
   "outputs": [
    {
     "name": "stdout",
     "output_type": "stream",
     "text": [
      "Model: \"Discriminator\"\n",
      "_________________________________________________________________\n",
      "Layer (type)                 Output Shape              Param #   \n",
      "=================================================================\n",
      "input_8 (InputLayer)         [(None, 28, 28, 1)]       0         \n",
      "_________________________________________________________________\n",
      "conv2d_1 (Conv2D)            (None, 14, 14, 64)        1664      \n",
      "_________________________________________________________________\n",
      "leaky_re_lu (LeakyReLU)      (None, 14, 14, 64)        0         \n",
      "_________________________________________________________________\n",
      "conv2d_2 (Conv2D)            (None, 7, 7, 128)         204928    \n",
      "_________________________________________________________________\n",
      "leaky_re_lu_1 (LeakyReLU)    (None, 7, 7, 128)         0         \n",
      "_________________________________________________________________\n",
      "conv2d_3 (Conv2D)            (None, 4, 4, 256)         819456    \n",
      "_________________________________________________________________\n",
      "leaky_re_lu_2 (LeakyReLU)    (None, 4, 4, 256)         0         \n",
      "_________________________________________________________________\n",
      "reshape_7 (Reshape)          (None, 4096)              0         \n",
      "_________________________________________________________________\n",
      "dense_5 (Dense)              (None, 1)                 4097      \n",
      "_________________________________________________________________\n",
      "reshape_8 (Reshape)          (None,)                   0         \n",
      "=================================================================\n",
      "Total params: 1,030,145\n",
      "Trainable params: 1,030,145\n",
      "Non-trainable params: 0\n",
      "_________________________________________________________________\n"
     ]
    }
   ],
   "source": [
    "discriminator = makeDiscriminatorModel()\n",
    "discriminator.summary()"
   ]
  },
  {
   "cell_type": "code",
   "execution_count": 29,
   "id": "0e31b1bc-b840-46e0-975a-7633934cb586",
   "metadata": {},
   "outputs": [],
   "source": [
    "def latent_vector(latent_dim, n):\n",
    "    latent_input = np.random.randn(latent_dim * n)\n",
    "    latent_input = latent_input.reshape(n, latent_dim)\n",
    "    return latent_input"
   ]
  },
  {
   "cell_type": "code",
   "execution_count": 37,
   "id": "f6fb7f8a-39e9-42c2-ba38-51964f83f91b",
   "metadata": {},
   "outputs": [],
   "source": [
    "def latent_TF(latent_dim, batchSize):\n",
    "    latent = tf.random.normal(shape = [batchSize, latent_dim])\n",
    "    return latent"
   ]
  },
  {
   "cell_type": "code",
   "execution_count": 38,
   "id": "ef9726bf-de83-421e-bcef-d23b7a5c82af",
   "metadata": {},
   "outputs": [
    {
     "name": "stdout",
     "output_type": "stream",
     "text": [
      "(32, 128)\n"
     ]
    }
   ],
   "source": [
    "latentTest = latent_vector(128, 32)\n",
    "print(latentTest.shape)"
   ]
  },
  {
   "cell_type": "code",
   "execution_count": 39,
   "id": "11105721-9a64-40ad-9f02-eef40e0289fa",
   "metadata": {},
   "outputs": [
    {
     "name": "stdout",
     "output_type": "stream",
     "text": [
      "tf.Tensor(\n",
      "[[ 0.7264999   1.2753634   0.45450193 ...  0.3560422   0.39970288\n",
      "  -0.562689  ]\n",
      " [-0.94045687  0.20972656  0.54068166 ... -0.17981082 -0.6379695\n",
      "   0.64622265]\n",
      " [-1.4109615   0.0313953  -0.01345648 ...  1.0031841   0.5973964\n",
      "   0.13406664]\n",
      " ...\n",
      " [ 2.101613    0.16070576  0.310018   ... -0.43162882 -0.811249\n",
      "  -0.37715527]\n",
      " [-0.17084184  0.426155    1.195737   ...  0.74254537  1.1825354\n",
      "  -1.4439993 ]\n",
      " [ 1.2787826   0.5110079   0.10117753 ... -1.4355668  -0.39010403\n",
      "   0.76352847]], shape=(32, 128), dtype=float32)\n"
     ]
    }
   ],
   "source": [
    "latentTestTF = latent_TF(128, 32)\n",
    "print(latentTestTF)"
   ]
  },
  {
   "cell_type": "code",
   "execution_count": 40,
   "id": "57829719-8c17-4c0a-aafa-c72efcae8bb2",
   "metadata": {},
   "outputs": [
    {
     "name": "stdout",
     "output_type": "stream",
     "text": [
      "(32, 28, 28, 1)\n"
     ]
    }
   ],
   "source": [
    "generatorOutput = generator(latentTestTF)\n",
    "print(generatorOutput.shape)"
   ]
  },
  {
   "cell_type": "code",
   "execution_count": 41,
   "id": "f6922b5e-8f9c-45db-bd90-8bafa651dc88",
   "metadata": {},
   "outputs": [
    {
     "name": "stdout",
     "output_type": "stream",
     "text": [
      "(32,)\n"
     ]
    }
   ],
   "source": [
    "discriminatorOutput = discriminator(generatorOutput)\n",
    "print(discriminatorOutput.shape)"
   ]
  },
  {
   "cell_type": "code",
   "execution_count": 42,
   "id": "37b1914b-2592-4d02-94a1-e8efa4057df6",
   "metadata": {},
   "outputs": [
    {
     "name": "stdout",
     "output_type": "stream",
     "text": [
      "tf.Tensor(\n",
      "[-0.00430636 -0.00985688 -0.01093845 -0.00831763 -0.01189218 -0.00410341\n",
      " -0.00616375 -0.00811315 -0.00467331 -0.0115303  -0.01046428 -0.0122214\n",
      " -0.00461306 -0.01106393 -0.00981379 -0.00849901 -0.00385295 -0.00769441\n",
      " -0.00633116 -0.00471729 -0.00916209 -0.00639037 -0.01086508 -0.00684429\n",
      " -0.00516949 -0.0064917  -0.00617127 -0.00216035 -0.00620425 -0.00690894\n",
      " -0.00874368 -0.00619763], shape=(32,), dtype=float32)\n"
     ]
    }
   ],
   "source": [
    "print(discriminatorOutput)"
   ]
  },
  {
   "cell_type": "code",
   "execution_count": 10,
   "id": "9aee157a-c672-4edb-96b1-f56750cef376",
   "metadata": {},
   "outputs": [],
   "source": [
    "def makeInverterModel(latent_dim = 128):\n",
    "        z_dim = latent_dim\n",
    "        input_layer = Input(shape = (28, 28, 1))\n",
    "        i = Conv2D(filters = latent_dim, kernel_size = 5, strides = (2,2), padding = 'SAME', kernel_initializer = 'he_normal')(input_layer)\n",
    "        i = LeakyReLU()(i)\n",
    "        i = Conv2D(filters = 2*latent_dim, kernel_size = 5, strides = (2,2), padding = 'SAME', kernel_initializer = 'he_normal')(i)\n",
    "        i = LeakyReLU()(i)\n",
    "        i = Conv2D(filters = 4*latent_dim, kernel_size = 5, strides = (2,2), padding = 'SAME', kernel_initializer = 'he_normal')(i)\n",
    "        i = LeakyReLU()(i)\n",
    "        i = Reshape([latent_dim * 64])(i)\n",
    "        i = Dense(latent_dim * 8)(i)\n",
    "        output_layer = Dense(z_dim)(i)\n",
    "        model = Model(input_layer, output_layer, name = 'Inverter')\n",
    "        return model"
   ]
  },
  {
   "cell_type": "code",
   "execution_count": 11,
   "id": "a05fc40b-531d-44ed-9103-a5a87a70843d",
   "metadata": {},
   "outputs": [
    {
     "name": "stdout",
     "output_type": "stream",
     "text": [
      "Model: \"Inverter\"\n",
      "_________________________________________________________________\n",
      "Layer (type)                 Output Shape              Param #   \n",
      "=================================================================\n",
      "input_3 (InputLayer)         [(None, 28, 28, 1)]       0         \n",
      "_________________________________________________________________\n",
      "conv2d_6 (Conv2D)            (None, 14, 14, 128)       3328      \n",
      "_________________________________________________________________\n",
      "leaky_re_lu_6 (LeakyReLU)    (None, 14, 14, 128)       0         \n",
      "_________________________________________________________________\n",
      "conv2d_7 (Conv2D)            (None, 7, 7, 256)         819456    \n",
      "_________________________________________________________________\n",
      "leaky_re_lu_7 (LeakyReLU)    (None, 7, 7, 256)         0         \n",
      "_________________________________________________________________\n",
      "conv2d_8 (Conv2D)            (None, 4, 4, 512)         3277312   \n",
      "_________________________________________________________________\n",
      "leaky_re_lu_8 (LeakyReLU)    (None, 4, 4, 512)         0         \n",
      "_________________________________________________________________\n",
      "reshape_2 (Reshape)          (None, 8192)              0         \n",
      "_________________________________________________________________\n",
      "dense_2 (Dense)              (None, 1024)              8389632   \n",
      "_________________________________________________________________\n",
      "dense_3 (Dense)              (None, 128)               131200    \n",
      "=================================================================\n",
      "Total params: 12,620,928\n",
      "Trainable params: 12,620,928\n",
      "Non-trainable params: 0\n",
      "_________________________________________________________________\n"
     ]
    }
   ],
   "source": [
    "inverter = makeInverterModel()\n",
    "inverter.summary()"
   ]
  },
  {
   "cell_type": "code",
   "execution_count": 24,
   "id": "065eb063-d326-414f-84ab-d9a2e4295bf4",
   "metadata": {},
   "outputs": [
    {
     "name": "stdout",
     "output_type": "stream",
     "text": [
      "0 0\n",
      "1 0\n",
      "2 0\n",
      "3 0\n",
      "0 1\n",
      "1 1\n",
      "2 1\n",
      "3 1\n",
      "0 2\n",
      "1 2\n",
      "2 2\n",
      "3 2\n",
      "0 3\n",
      "1 3\n",
      "2 3\n",
      "3 3\n"
     ]
    }
   ],
   "source": [
    "for i in range(16):\n",
    "    print(i%4, math.floor(i/4))"
   ]
  },
  {
   "cell_type": "code",
   "execution_count": 25,
   "id": "53a9738a-13cf-4f2e-98bc-8867a7e836a3",
   "metadata": {},
   "outputs": [],
   "source": [
    "# load mnist dataset\n",
    "(X_train, y_train), (x_test, y_test) = tf.keras.datasets.mnist.load_data()\n",
    "img_data = X_train.copy()\n",
    "img_data = img_data.reshape(X_train.shape[0], 28, 28, 1)\n",
    "img_data = img_data / 255 #pixel values in [0,1]"
   ]
  },
  {
   "cell_type": "code",
   "execution_count": 27,
   "id": "a4ea271f-bb2b-455e-bc89-a1c7f1d3dd05",
   "metadata": {},
   "outputs": [
    {
     "name": "stdout",
     "output_type": "stream",
     "text": [
      "(60000, 28, 28, 1)\n"
     ]
    }
   ],
   "source": [
    "print(img_data.shape)"
   ]
  },
  {
   "cell_type": "code",
   "execution_count": 30,
   "id": "bbe097b2-b33f-43ed-babe-be909941503d",
   "metadata": {},
   "outputs": [],
   "source": [
    "train_dataset = tf.data.Dataset.from_tensor_slices((img_data)).shuffle(60000).batch(32)"
   ]
  },
  {
   "cell_type": "code",
   "execution_count": 34,
   "id": "e584ee0c-6b88-4fc6-89c6-3cb36e4cfcba",
   "metadata": {},
   "outputs": [
    {
     "data": {
      "text/plain": [
       "TensorSpec(shape=(None, 28, 28, 1), dtype=tf.float64, name=None)"
      ]
     },
     "execution_count": 34,
     "metadata": {},
     "output_type": "execute_result"
    }
   ],
   "source": [
    "train_dataset.element_spec"
   ]
  },
  {
   "cell_type": "code",
   "execution_count": 41,
   "id": "d0781be2-f948-485d-ab03-5f63df5a3b45",
   "metadata": {},
   "outputs": [],
   "source": [
    "# load mnist dataset\n",
    "(X_train, y_train), (x_test, y_test) = tf.keras.datasets.mnist.load_data()\n",
    "img_data = X_train.copy()\n",
    "img_data = img_data.reshape(X_train.shape[0], 28, 28, 1)\n",
    "img_data = img_data / 255 #pixel values in [0,1]"
   ]
  },
  {
   "cell_type": "code",
   "execution_count": 42,
   "id": "aa3e3338-95ba-4b12-a900-963924a2df20",
   "metadata": {},
   "outputs": [
    {
     "name": "stdout",
     "output_type": "stream",
     "text": [
      "(60000, 28, 28, 1)\n"
     ]
    }
   ],
   "source": [
    "print(img_data.shape)"
   ]
  },
  {
   "cell_type": "code",
   "execution_count": 43,
   "id": "2c9c0155-735c-4ef9-9fc6-bb6ec8e4a88c",
   "metadata": {},
   "outputs": [
    {
     "name": "stdout",
     "output_type": "stream",
     "text": [
      "(32, 28, 28, 1)\n"
     ]
    }
   ],
   "source": [
    "batch = img_data[:32]\n",
    "print(batch.shape)"
   ]
  },
  {
   "cell_type": "code",
   "execution_count": 48,
   "id": "dd2e80fc-8dc2-4cae-866d-c15b22a74cbf",
   "metadata": {},
   "outputs": [],
   "source": [
    "alpha = tf.random.uniform(shape = [32,1,1,1], minval = 0, maxval = 1)\n",
    "tfbatch = tf.cast(batch, tf.float32)\n",
    "mult = alpha * tfbatch\n",
    "for i in range(32):\n",
    "    tempMult = alpha[i] * tfbatch[i]\n",
    "    if(np.all(mult[i] != tempMult)):\n",
    "        print(\"false\")\n",
    "        break\n",
    "#print(alpha[0], tfbatch[0], mult[0])"
   ]
  },
  {
   "cell_type": "code",
   "execution_count": 45,
   "id": "6de3ddd5-3a95-47b7-b34f-f3e5d2437095",
   "metadata": {},
   "outputs": [
    {
     "name": "stdout",
     "output_type": "stream",
     "text": [
      "tf.Tensor([[[0.60426986]]], shape=(1, 1, 1), dtype=float32)\n"
     ]
    }
   ],
   "source": [
    "print(alpha[0])"
   ]
  },
  {
   "cell_type": "code",
   "execution_count": null,
   "id": "b4438a7d-2161-452f-931b-aa37bff4a65a",
   "metadata": {},
   "outputs": [],
   "source": []
  }
 ],
 "metadata": {
  "kernelspec": {
   "display_name": "Python 3",
   "language": "python",
   "name": "python3"
  },
  "language_info": {
   "codemirror_mode": {
    "name": "ipython",
    "version": 3
   },
   "file_extension": ".py",
   "mimetype": "text/x-python",
   "name": "python",
   "nbconvert_exporter": "python",
   "pygments_lexer": "ipython3",
   "version": "3.9.2"
  }
 },
 "nbformat": 4,
 "nbformat_minor": 5
}
