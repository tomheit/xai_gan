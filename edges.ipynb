{
 "cells": [
  {
   "cell_type": "code",
   "execution_count": 17,
   "id": "c11f3bea-2820-47f3-8974-4095b7afd5b2",
   "metadata": {},
   "outputs": [],
   "source": [
    "#from mnist_gan.mnistGan import MnistGan\n",
    "from mnist_cnn.mnistCnn import MnistCnn\n",
    "#from mnist_cnn.mnistDatasetLoader import MnistDatasetLoader\n",
    "import os\n",
    "import tensorflow as tf\n",
    "import matplotlib.pyplot as plt\n",
    "import numpy as np\n",
    "import math\n",
    "from tensorflow.nn import dilation2d\n",
    "from tensorflow.nn import erosion2d\n",
    "from tensorflow.nn import conv2d"
   ]
  },
  {
   "cell_type": "code",
   "execution_count": 18,
   "id": "6f530868-f673-497b-896f-3dbf8c410bfb",
   "metadata": {},
   "outputs": [
    {
     "name": "stdout",
     "output_type": "stream",
     "text": [
      "(60000, 28, 28, 1)\n"
     ]
    }
   ],
   "source": [
    "(X_train, y_train), (x_test, y_test) = tf.keras.datasets.mnist.load_data()\n",
    "img_data = X_train.copy()\n",
    "img_data = img_data.reshape(X_train.shape[0], 28, 28, 1)\n",
    "#img_data = (img_data - 127.5) / 127.5\n",
    "print(img_data.shape)"
   ]
  },
  {
   "cell_type": "code",
   "execution_count": 19,
   "id": "a413ca18-0433-42cc-a077-387e571b4b1b",
   "metadata": {},
   "outputs": [],
   "source": [
    "def histogram(img):\n",
    "    width = img.shape[0]\n",
    "    height = img.shape[1]\n",
    "    histogram = np.zeros([256], np.int32)\n",
    "    for i in range(width):\n",
    "        for j in range(height):\n",
    "            histogram[img[i,j]] += 1\n",
    "    return histogram"
   ]
  },
  {
   "cell_type": "code",
   "execution_count": 20,
   "id": "bbcbcc97-5e63-4c56-906a-6456e3333d3f",
   "metadata": {},
   "outputs": [],
   "source": [
    "def mean_gray_level(hist): #same as np.mean()\n",
    "    sum = 0\n",
    "    for i in range(hist.shape[0]):\n",
    "        sum += (i*hist[i])\n",
    "    return sum / hist.sum()"
   ]
  },
  {
   "cell_type": "code",
   "execution_count": 21,
   "id": "f16bc276-7b1b-4a79-ab0a-12ea65f7d0f7",
   "metadata": {},
   "outputs": [],
   "source": [
    "def second_moment(hist): #E(X^2)\n",
    "    sum = 0\n",
    "    for i in range(hist.shape[0]):\n",
    "        sum += (i*i*hist[i])\n",
    "    return sum / hist.sum()\n",
    "#var would be E((X-mu)^2)"
   ]
  },
  {
   "cell_type": "code",
   "execution_count": 22,
   "id": "c6a1e43d-efa1-4c86-9bd4-6097cd20be0c",
   "metadata": {},
   "outputs": [],
   "source": [
    "def opening(img, structuring_element):\n",
    "    erosion = erosion2d(img, filters = structuring_element, strides = (1,1,1,1), padding = 'SAME', data_format = 'NHWC', dilations = (1,1,1,1))\n",
    "    output = dilation2d(erosion, filters = structuring_element, strides = (1,1,1,1), padding = 'SAME', data_format = 'NHWC', dilations = (1,1,1,1))\n",
    "    return output\n",
    "\n",
    "def closing(img, structuring_element):\n",
    "    dilation = dilation2d(img, filters = structuring_element, strides = (1,1,1,1), padding = 'SAME', data_format = 'NHWC', dilations = (1,1,1,1))\n",
    "    output = erosion2d(dilation, filters = structuring_element, strides = (1,1,1,1), padding = 'SAME', data_format = 'NHWC', dilations = (1,1,1,1))\n",
    "    return output\n",
    "\n",
    "#open-close-close-open\n",
    "def occo(img, structuring_element):\n",
    "    op = opening(img, structuring_element)\n",
    "    open_close = closing(op, structuring_element)\n",
    "    cl = closing(img, structuring_element)\n",
    "    close_open = opening(cl, structuring_element)\n",
    "    return (open_close + close_open)/2"
   ]
  },
  {
   "cell_type": "code",
   "execution_count": 23,
   "id": "c69d9ecb-890f-4ecc-badb-076408759fe4",
   "metadata": {},
   "outputs": [],
   "source": [
    "# compute the binary map of an image\n",
    "# if the gray-level of a pixel is below the threshold it becomes 0, otherwise 1\n",
    "# using the square-root of the second moment of the image as a threshold\n",
    "def computeBinaryMap(img):\n",
    "    width = img.shape[0]\n",
    "    height = img.shape[1]\n",
    "    threshold = math.sqrt(second_moment(histogram(img)))\n",
    "    newImg = np.zeros([width, height], np.int32)\n",
    "    for i in range(width):\n",
    "        for j in range(height):\n",
    "            if(img[i,j] < threshold):\n",
    "                newImg[i,j] = 0\n",
    "            else:\n",
    "                newImg[i,j] = 1\n",
    "    return newImg"
   ]
  },
  {
   "cell_type": "code",
   "execution_count": 24,
   "id": "a59bfaf0-ea6d-4375-982c-8e97fc59271b",
   "metadata": {},
   "outputs": [],
   "source": [
    "# compute U by counting the edges between 0s and 1s in the binary map\n",
    "# done with a conv2D\n",
    "def computeU(binMap):\n",
    "    kernel1 = np.array([[-1,1]], np.int32)\n",
    "    kernel1 = np.expand_dims(kernel1, -1)\n",
    "    kernel1 = np.expand_dims(kernel1, -1)\n",
    "    #print(kernel1.shape)\n",
    "    kernel2 = np.array([[-1],[1]], np.int32)\n",
    "    kernel2 = np.expand_dims(kernel2, -1)\n",
    "    kernel2 = np.expand_dims(kernel2, -1)\n",
    "    #print(kernel2.shape)\n",
    "    horizU = conv2d(binMap, kernel1, strides = (1,1,1,1), padding = 'VALID')\n",
    "    vertU = conv2d(binMap, kernel2, strides = (1,1,1,1), padding = 'VALID')\n",
    "    horizU = tf.abs(horizU)\n",
    "    vertU = tf.abs(vertU)\n",
    "    hSum = tf.reduce_sum(horizU)\n",
    "    vSum = tf.reduce_sum(vertU)\n",
    "    return hSum + vSum"
   ]
  },
  {
   "cell_type": "code",
   "execution_count": 25,
   "id": "f443e1c7-425a-4744-8000-f00903f393b0",
   "metadata": {},
   "outputs": [
    {
     "name": "stdout",
     "output_type": "stream",
     "text": [
      "35.108418367346935\n",
      "7576.536989795918\n"
     ]
    }
   ],
   "source": [
    "image = img_data[0]\n",
    "hist = histogram(image)\n",
    "meanVal = mean_gray_level(hist)\n",
    "secondMoment = second_moment(hist)\n",
    "print(meanVal)\n",
    "print(secondMoment)"
   ]
  },
  {
   "cell_type": "code",
   "execution_count": 26,
   "id": "b9fec832-8d57-4bdb-8dff-45d69ae145bf",
   "metadata": {},
   "outputs": [
    {
     "name": "stdout",
     "output_type": "stream",
     "text": [
      "35.108418367346935\n",
      "35.108418367346935\n",
      "6343.935949539255\n"
     ]
    }
   ],
   "source": [
    "print(np.mean(image))\n",
    "print(np.sum(image)/784)\n",
    "print(np.var(image))"
   ]
  },
  {
   "cell_type": "code",
   "execution_count": 27,
   "id": "6bd5253c-8467-4080-81be-ea71d0b5c64c",
   "metadata": {},
   "outputs": [
    {
     "name": "stdout",
     "output_type": "stream",
     "text": [
      "[27525 31095 19443 17135 23214 29601 17646 35867 10874 21904]\n",
      "[114 124 106  64 104 130  52 112  50 106]\n"
     ]
    }
   ],
   "source": [
    "dim = img_data.shape[0]\n",
    "whitespaces = np.zeros([dim], np.int32)\n",
    "unglaette = np.zeros([dim], np.int32)\n",
    "for i in range(dim):\n",
    "    whitespaces[i] = np.sum(img_data[i])\n",
    "    binaryImg = computeBinaryMap(img_data[i])\n",
    "    binaryImg_ = np.expand_dims(np.expand_dims(binaryImg, 0), -1)\n",
    "    unglaette[i] = computeU(binaryImg_)\n",
    "print(whitespaces[0:10])\n",
    "print(unglaette[0:10])"
   ]
  },
  {
   "cell_type": "code",
   "execution_count": 28,
   "id": "67a13507-b980-4676-af6d-8d2a691f528e",
   "metadata": {},
   "outputs": [
    {
     "data": {
      "image/png": "[encoded data removed]",
      "text/plain": [
       "<Figure size 432x288 with 1 Axes>"
      ]
     },
     "metadata": {
      "needs_background": "light"
     },
     "output_type": "display_data"
    }
   ],
   "source": [
    "plt.scatter(x = whitespaces, y = unglaette)\n",
    "plt.xlabel('whitespaces')\n",
    "plt.ylabel('U')\n",
    "plt.show()"
   ]
  },
  {
   "cell_type": "code",
   "execution_count": 29,
   "id": "243d597c-e6eb-4ce0-90c9-c9173fab36ac",
   "metadata": {},
   "outputs": [
    {
     "data": {
      "text/plain": [
       "Text(0.5, 1.0, 'D_3')"
      ]
     },
     "execution_count": 29,
     "metadata": {},
     "output_type": "execute_result"
    },
    {
     "data": {
      "image/png": "[encoded data removed]",
      "text/plain": [
       "<Figure size 576x288 with 6 Axes>"
      ]
     },
     "metadata": {
      "needs_background": "light"
     },
     "output_type": "display_data"
    }
   ],
   "source": [
    "x_ = tf.cast(np.expand_dims((image-127.5)/127.5, 0), tf.float32)\n",
    "x = tf.Variable(x_)\n",
    "\n",
    "kernel1 = tf.ones((2,2,1))\n",
    "kernel2 = np.array([[0,1,0], [1,1,1], [0,1,0]])\n",
    "kernel2 = np.expand_dims(kernel2, -1)\n",
    "kernel2 = tf.cast(kernel2, tf.float32)\n",
    "kernel3 = np.array([[0,1,1,0], [1,1,1,1], [1,1,1,1], [0,1,1,0]])\n",
    "kernel3 = np.expand_dims(kernel3, -1)\n",
    "kernel3 = tf.cast(kernel3, tf.float32)\n",
    "#print(kernel.dtype)\n",
    "#print(kernel.shape)\n",
    "#op = opening(x, kernel)\n",
    "#cl = closing(x, kernel)\n",
    "#diff = cl-op\n",
    "S_1 = occo(x, kernel1)\n",
    "S_2 = occo(x, kernel2)\n",
    "S_3 = occo(x, kernel3)\n",
    "\n",
    "D_1 = x - S_1\n",
    "D_2 = S_1 - S_2\n",
    "D_3 = S_2 - S_3\n",
    "\n",
    "_, ax = plt.subplots(2, 3, figsize = (8,4))\n",
    "ax[0,0].imshow(S_1[0], cmap = 'gray')\n",
    "ax[0,0].set_title('S_1')\n",
    "ax[0,1].imshow(S_2[0], cmap = 'gray')\n",
    "ax[0,1].set_title('S_2')\n",
    "ax[0,2].imshow(S_3[0], cmap = 'gray')\n",
    "ax[0,2].set_title('S_3')\n",
    "ax[1,0].imshow(D_1[0], cmap = 'gray')\n",
    "ax[1,0].set_title('D_1')\n",
    "ax[1,1].imshow(D_2[0], cmap = 'gray')\n",
    "ax[1,1].set_title('D_2')\n",
    "ax[1,2].imshow(D_3[0], cmap = 'gray')\n",
    "ax[1,2].set_title('D_3')"
   ]
  },
  {
   "cell_type": "code",
   "execution_count": 30,
   "id": "97100e8c-4eb9-45c4-97eb-368c7bac5125",
   "metadata": {},
   "outputs": [
    {
     "data": {
      "text/plain": [
       "<matplotlib.image.AxesImage at 0x7fede2bba610>"
      ]
     },
     "execution_count": 30,
     "metadata": {},
     "output_type": "execute_result"
    },
    {
     "data": {
      "image/png": "[encoded data removed]",
      "text/plain": [
       "<Figure size 576x288 with 2 Axes>"
      ]
     },
     "metadata": {
      "needs_background": "light"
     },
     "output_type": "display_data"
    }
   ],
   "source": [
    "binImage = computeBinaryMap(image)\n",
    "_, ax = plt.subplots(1, 2, figsize = (8,4))\n",
    "ax[0].imshow(image, cmap = 'gray')\n",
    "ax[1].imshow(binImage, cmap = 'gray')"
   ]
  },
  {
   "cell_type": "code",
   "execution_count": 31,
   "id": "58bc2091-dade-4f7a-8722-d93e192b71b8",
   "metadata": {},
   "outputs": [
    {
     "name": "stdout",
     "output_type": "stream",
     "text": [
      "(1, 28, 28, 1)\n",
      "tf.Tensor(114, shape=(), dtype=int32)\n"
     ]
    }
   ],
   "source": [
    "binImage_ = np.expand_dims(np.expand_dims(binImage, 0), -1)\n",
    "print(binImage_.shape)\n",
    "u = computeU(binImage_)\n",
    "print(u)"
   ]
  },
  {
   "cell_type": "code",
   "execution_count": 32,
   "id": "1e008003-dbfa-480d-a96c-b3c115b2ddd1",
   "metadata": {},
   "outputs": [
    {
     "name": "stdout",
     "output_type": "stream",
     "text": [
      "h1:  tf.Tensor(\n",
      "[[[[0]]\n",
      "\n",
      "  [[0]]]], shape=(1, 2, 1, 1), dtype=int32)\n",
      "v1:  tf.Tensor(\n",
      "[[[[1]\n",
      "   [1]]]], shape=(1, 1, 2, 1), dtype=int32)\n",
      "h2:  tf.Tensor(\n",
      "[[[[1]]\n",
      "\n",
      "  [[1]]]], shape=(1, 2, 1, 1), dtype=int32)\n",
      "v2:  tf.Tensor(\n",
      "[[[[1]\n",
      "   [1]]]], shape=(1, 1, 2, 1), dtype=int32)\n",
      "h3:  tf.Tensor(\n",
      "[[[[1]]\n",
      "\n",
      "  [[0]]]], shape=(1, 2, 1, 1), dtype=int32)\n",
      "v3:  tf.Tensor(\n",
      "[[[[1]\n",
      "   [0]]]], shape=(1, 1, 2, 1), dtype=int32)\n",
      "h4:  tf.Tensor(\n",
      "[[[[1]]\n",
      "\n",
      "  [[0]]]], shape=(1, 2, 1, 1), dtype=int32)\n",
      "v4:  tf.Tensor(\n",
      "[[[[1]\n",
      "   [0]]]], shape=(1, 1, 2, 1), dtype=int32)\n",
      "tf.Tensor(2, shape=(), dtype=int32)\n",
      "tf.Tensor(4, shape=(), dtype=int32)\n",
      "tf.Tensor(2, shape=(), dtype=int32)\n",
      "tf.Tensor(2, shape=(), dtype=int32)\n"
     ]
    },
    {
     "data": {
      "image/png": "[encoded data removed]",
      "text/plain": [
       "<Figure size 144x144 with 12 Axes>"
      ]
     },
     "metadata": {
      "needs_background": "light"
     },
     "output_type": "display_data"
    }
   ],
   "source": [
    "testImg1 = np.array([[1,1],[0,0]], np.int32)\n",
    "testImg2 = np.array([[1,0],[0,1]], np.int32)\n",
    "testImg3 = np.array([[1,0],[0,0]], np.int32)\n",
    "testImg4 = np.array([[0,1],[1,1]], np.int32)\n",
    "\n",
    "testImg1_ = np.expand_dims(np.expand_dims(testImg1, 0), -1)\n",
    "testImg2_ = np.expand_dims(np.expand_dims(testImg2, 0), -1)\n",
    "testImg3_ = np.expand_dims(np.expand_dims(testImg3, 0), -1)\n",
    "testImg4_ = np.expand_dims(np.expand_dims(testImg4, 0), -1)\n",
    "\n",
    "kernelh = np.array([[-1,1]], np.int32)\n",
    "kernelh = np.expand_dims(kernelh, -1)\n",
    "kernelh = np.expand_dims(kernelh, -1)\n",
    "\n",
    "kernelv = np.array([[-1],[1]], np.int32)\n",
    "kernelv = np.expand_dims(kernelv, -1)\n",
    "kernelv = np.expand_dims(kernelv, -1)\n",
    "\n",
    "h1 = tf.abs(conv2d(testImg1_, kernelh, strides = (1,1,1,1), padding = 'VALID'))\n",
    "v1 = tf.abs(conv2d(testImg1_, kernelv, strides = (1,1,1,1), padding = 'VALID'))\n",
    "h2 = tf.abs(conv2d(testImg2_, kernelh, strides = (1,1,1,1), padding = 'VALID'))\n",
    "v2 = tf.abs(conv2d(testImg2_, kernelv, strides = (1,1,1,1), padding = 'VALID'))\n",
    "h3 = tf.abs(conv2d(testImg3_, kernelh, strides = (1,1,1,1), padding = 'VALID'))\n",
    "v3 = tf.abs(conv2d(testImg3_, kernelv, strides = (1,1,1,1), padding = 'VALID'))\n",
    "h4 = tf.abs(conv2d(testImg4_, kernelh, strides = (1,1,1,1), padding = 'VALID'))\n",
    "v4 = tf.abs(conv2d(testImg4_, kernelv, strides = (1,1,1,1), padding = 'VALID'))\n",
    "\n",
    "print(\"h1: \", h1)\n",
    "print(\"v1: \", v1)\n",
    "print(\"h2: \", h2)\n",
    "print(\"v2: \", v2)\n",
    "print(\"h3: \", h3)\n",
    "print(\"v3: \", v3)\n",
    "print(\"h4: \", h4)\n",
    "print(\"v4: \", v4)\n",
    "\n",
    "_, ax = plt.subplots(3,4, figsize = (2,2))\n",
    "ax[0,0].imshow(testImg1, cmap = 'gray')\n",
    "ax[0,1].imshow(testImg2, cmap = 'gray')\n",
    "ax[0,2].imshow(testImg3, cmap = 'gray')\n",
    "ax[0,3].imshow(testImg4, cmap = 'gray')\n",
    "ax[1,0].imshow(h1[0,:,:,], cmap = 'gray')\n",
    "ax[1,1].imshow(h2[0,:,:,], cmap = 'gray')\n",
    "ax[1,2].imshow(h3[0,:,:,], cmap = 'gray')\n",
    "ax[1,3].imshow(h4[0,:,:,], cmap = 'gray')\n",
    "ax[2,0].imshow(v1[0,:,:,], cmap = 'gray')\n",
    "ax[2,1].imshow(v2[0,:,:,], cmap = 'gray')\n",
    "ax[2,2].imshow(v3[0,:,:,], cmap = 'gray')\n",
    "ax[2,3].imshow(v4[0,:,:,], cmap = 'gray')\n",
    "\n",
    "print(computeU(np.expand_dims(np.expand_dims(testImg1, 0), -1)))\n",
    "print(computeU(np.expand_dims(np.expand_dims(testImg2, 0), -1)))\n",
    "print(computeU(np.expand_dims(np.expand_dims(testImg3, 0), -1)))\n",
    "print(computeU(np.expand_dims(np.expand_dims(testImg4, 0), -1)))"
   ]
  },
  {
   "cell_type": "code",
   "execution_count": null,
   "id": "635eedaf-230d-4849-aff7-d6c0c183875e",
   "metadata": {},
   "outputs": [],
   "source": []
  }
 ],
 "metadata": {
  "kernelspec": {
   "display_name": "Python 3",
   "language": "python",
   "name": "python3"
  },
  "language_info": {
   "codemirror_mode": {
    "name": "ipython",
    "version": 3
   },
   "file_extension": ".py",
   "mimetype": "text/x-python",
   "name": "python",
   "nbconvert_exporter": "python",
   "pygments_lexer": "ipython3",
   "version": "3.9.2"
  }
 },
 "nbformat": 4,
 "nbformat_minor": 5
}
